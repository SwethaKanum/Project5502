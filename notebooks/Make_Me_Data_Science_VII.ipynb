{
 "cells": [
  {
   "cell_type": "markdown",
   "metadata": {
    "id": "4SUvtSLX7Zcv"
   },
   "source": [
    "# Make Me Data Science VII"
   ]
  },
  {
   "cell_type": "markdown",
   "metadata": {
    "id": "RpWcbBh6rAKQ"
   },
   "source": [
    "# Part 1 - Create Data"
   ]
  },
  {
   "cell_type": "markdown",
   "metadata": {
    "id": "frVC5mVHqhlk"
   },
   "source": [
    "## Prepare PrepPy"
   ]
  },
  {
   "cell_type": "code",
   "execution_count": null,
   "metadata": {
    "id": "yqYq3ljJNh0l"
   },
   "outputs": [],
   "source": [
    "# ! git clone https://github.com/gitmystuff/preppy.git"
   ]
  },
  {
   "cell_type": "code",
   "execution_count": null,
   "metadata": {
    "id": "YnM_0OIpNh0m"
   },
   "outputs": [],
   "source": [
    "# import shutil\n",
    "\n",
    "# # Source file path (within your Drive)\n",
    "# source_file = '/content/drive/MyDrive/Colab Notebooks/preppy report.py'\n",
    "\n",
    "# # Destination path (root of your Drive)\n",
    "# destination_path = '/content/preppy/utils/report.py'\n",
    "\n",
    "# # Copy the file\n",
    "# shutil.copy(source_file, destination_path)"
   ]
  },
  {
   "cell_type": "markdown",
   "metadata": {
    "id": "41J_gAiDilv9"
   },
   "source": [
    "## Create the Data"
   ]
  },
  {
   "cell_type": "markdown",
   "metadata": {
    "id": "FMVaAmuqAWhk"
   },
   "source": [
    "### Seed the Project"
   ]
  },
  {
   "cell_type": "code",
   "execution_count": 57,
   "metadata": {
    "id": "50T0AeDDAaBx"
   },
   "outputs": [],
   "source": [
    "# seed\n",
    "import random\n",
    "\n",
    "seed_id = 11809985\n",
    "random_state = random.seed(seed_id)\n",
    "random_state"
   ]
  },
  {
   "cell_type": "markdown",
   "metadata": {
    "id": "_j1l2Lr8_bS4"
   },
   "source": [
    "### Faker"
   ]
  },
  {
   "cell_type": "code",
   "execution_count": 58,
   "metadata": {
    "id": "hViR5zhSGxq_"
   },
   "outputs": [
    {
     "name": "stdout",
     "output_type": "stream",
     "text": [
      "Requirement already satisfied: Faker in /Users/swetha/Downloads/Project5502_1/.venv/lib/python3.13/site-packages (33.1.0)\n",
      "Requirement already satisfied: python-dateutil>=2.4 in /Users/swetha/Downloads/Project5502_1/.venv/lib/python3.13/site-packages (from Faker) (2.9.0.post0)\n",
      "Requirement already satisfied: typing-extensions in /Users/swetha/Downloads/Project5502_1/.venv/lib/python3.13/site-packages (from Faker) (4.12.2)\n",
      "Requirement already satisfied: six>=1.5 in /Users/swetha/Downloads/Project5502_1/.venv/lib/python3.13/site-packages (from python-dateutil>=2.4->Faker) (1.17.0)\n",
      "Note: you may need to restart the kernel to use updated packages.\n"
     ]
    }
   ],
   "source": [
    "pip install Faker"
   ]
  },
  {
   "cell_type": "code",
   "execution_count": 59,
   "metadata": {
    "id": "Qpa4mbcgKoEb"
   },
   "outputs": [],
   "source": [
    "state_names=[\"Alabama\", \"Alaska\", \"Arizona\", \"Arkansas\", \"California\", \"Colorado\", \"Connecticut\", \"Delaware\", \"Florida\", \"Georgia\", \"Hawaii\", \"Idaho\", \"Illinois\", \"Indiana\", \"Iowa\", \"Kansas\", \"Kentucky\", \"Louisiana\", \"Maine\", \"Maryland\", \"Massachusetts\", \"Michigan\", \"Minnesota\", \"Mississippi\", \"Missouri\", \"Montana\", \"Nebraska\", \"Nevada\", \"New Hampshire\", \"New Jersey\", \"New Mexico\", \"New York\", \"North Carolina\", \"North Dakota\", \"Ohio\", \"Oklahoma\", \"Oregon\", \"Pennsylvania\", \"Rhode Island\", \"South Carolina\", \"South Dakota\", \"Tennessee\", \"Texas\", \"Utah\", \"Vermont\", \"Virginia\", \"Washington\", \"West Virginia\", \"Wisconsin\", \"Wyoming\"]"
   ]
  },
  {
   "cell_type": "code",
   "execution_count": 60,
   "metadata": {
    "colab": {
     "base_uri": "https://localhost:8080/",
     "height": 414
    },
    "id": "HqvkXvuWKbXL",
    "outputId": "3e7a3108-a2bc-42d3-b04e-d592833cc0ac"
   },
   "outputs": [
    {
     "data": {
      "text/html": [
       "<div>\n",
       "<style scoped>\n",
       "    .dataframe tbody tr th:only-of-type {\n",
       "        vertical-align: middle;\n",
       "    }\n",
       "\n",
       "    .dataframe tbody tr th {\n",
       "        vertical-align: top;\n",
       "    }\n",
       "\n",
       "    .dataframe thead th {\n",
       "        text-align: right;\n",
       "    }\n",
       "</style>\n",
       "<table border=\"1\" class=\"dataframe\">\n",
       "  <thead>\n",
       "    <tr style=\"text-align: right;\">\n",
       "      <th></th>\n",
       "      <th>binary</th>\n",
       "      <th>given_name</th>\n",
       "      <th>surname</th>\n",
       "      <th>date_of_birth</th>\n",
       "      <th>phone_number</th>\n",
       "      <th>email</th>\n",
       "      <th>address</th>\n",
       "      <th>city</th>\n",
       "      <th>state</th>\n",
       "      <th>zipcode</th>\n",
       "    </tr>\n",
       "  </thead>\n",
       "  <tbody>\n",
       "    <tr>\n",
       "      <th>0</th>\n",
       "      <td>binary_1</td>\n",
       "      <td>Kimberly</td>\n",
       "      <td>Fox</td>\n",
       "      <td>2000-12-06</td>\n",
       "      <td>001-772-621-0819x940</td>\n",
       "      <td>pameladavis@example.org</td>\n",
       "      <td>220 Parker Glens Suite 068\\nJohnchester, WV 88403</td>\n",
       "      <td>East Bryanport</td>\n",
       "      <td>South Carolina</td>\n",
       "      <td>47942</td>\n",
       "    </tr>\n",
       "    <tr>\n",
       "      <th>1</th>\n",
       "      <td>binary_2</td>\n",
       "      <td>Robert</td>\n",
       "      <td>White</td>\n",
       "      <td>1975-03-26</td>\n",
       "      <td>001-656-825-4491</td>\n",
       "      <td>ginacunningham@example.com</td>\n",
       "      <td>1042 Walter Mount\\nMeredithchester, ND 99336</td>\n",
       "      <td>Lake Lauren</td>\n",
       "      <td>South Dakota</td>\n",
       "      <td>09792</td>\n",
       "    </tr>\n",
       "    <tr>\n",
       "      <th>2</th>\n",
       "      <td>binary_2</td>\n",
       "      <td>William</td>\n",
       "      <td>Odom</td>\n",
       "      <td>2022-09-11</td>\n",
       "      <td>461.975.9647x49200</td>\n",
       "      <td>ramirezerin@example.org</td>\n",
       "      <td>Unit 6873 Box 0728\\nDPO AE 43221</td>\n",
       "      <td>Collierbury</td>\n",
       "      <td>Indiana</td>\n",
       "      <td>46945</td>\n",
       "    </tr>\n",
       "    <tr>\n",
       "      <th>3</th>\n",
       "      <td>binary_2</td>\n",
       "      <td>Jason</td>\n",
       "      <td>Montgomery</td>\n",
       "      <td>2005-02-02</td>\n",
       "      <td>749.232.2439</td>\n",
       "      <td>hornbrandon@example.org</td>\n",
       "      <td>1815 Chen Crossing\\nWest Peter, PR 09002</td>\n",
       "      <td>West Michaelhaven</td>\n",
       "      <td>Oregon</td>\n",
       "      <td>59685</td>\n",
       "    </tr>\n",
       "    <tr>\n",
       "      <th>4</th>\n",
       "      <td>binary_1</td>\n",
       "      <td>Brianna</td>\n",
       "      <td>Price</td>\n",
       "      <td>1922-03-17</td>\n",
       "      <td>8034457547</td>\n",
       "      <td>roberto17@example.org</td>\n",
       "      <td>2596 Velazquez Fords\\nJohnsonshire, MT 05527</td>\n",
       "      <td>West Rachel</td>\n",
       "      <td>Oregon</td>\n",
       "      <td>70032</td>\n",
       "    </tr>\n",
       "  </tbody>\n",
       "</table>\n",
       "</div>"
      ],
      "text/plain": [
       "     binary given_name     surname date_of_birth          phone_number  \\\n",
       "0  binary_1   Kimberly         Fox    2000-12-06  001-772-621-0819x940   \n",
       "1  binary_2     Robert       White    1975-03-26      001-656-825-4491   \n",
       "2  binary_2    William        Odom    2022-09-11    461.975.9647x49200   \n",
       "3  binary_2      Jason  Montgomery    2005-02-02          749.232.2439   \n",
       "4  binary_1    Brianna       Price    1922-03-17            8034457547   \n",
       "\n",
       "                        email  \\\n",
       "0     pameladavis@example.org   \n",
       "1  ginacunningham@example.com   \n",
       "2     ramirezerin@example.org   \n",
       "3     hornbrandon@example.org   \n",
       "4       roberto17@example.org   \n",
       "\n",
       "                                             address               city  \\\n",
       "0  220 Parker Glens Suite 068\\nJohnchester, WV 88403     East Bryanport   \n",
       "1       1042 Walter Mount\\nMeredithchester, ND 99336        Lake Lauren   \n",
       "2                   Unit 6873 Box 0728\\nDPO AE 43221        Collierbury   \n",
       "3           1815 Chen Crossing\\nWest Peter, PR 09002  West Michaelhaven   \n",
       "4       2596 Velazquez Fords\\nJohnsonshire, MT 05527        West Rachel   \n",
       "\n",
       "            state zipcode  \n",
       "0  South Carolina   47942  \n",
       "1    South Dakota   09792  \n",
       "2         Indiana   46945  \n",
       "3          Oregon   59685  \n",
       "4          Oregon   70032  "
      ]
     },
     "execution_count": 60,
     "metadata": {},
     "output_type": "execute_result"
    }
   ],
   "source": [
    "# create demographic data\n",
    "import numpy as np\n",
    "import pandas as pd\n",
    "from faker import Faker\n",
    "fake = Faker()\n",
    "\n",
    "output = []\n",
    "for x in range(1000):\n",
    "  binary = np.random.choice(['binary_1', 'binary_2'], p=[0.5, 0.5])\n",
    "  output.append({\n",
    "        'binary': binary, # sex assigned at birth\n",
    "        'given_name': fake.first_name_female() if binary=='binary_1' else fake.first_name_male(),\n",
    "        'surname': fake.last_name(),\n",
    "        'date_of_birth': fake.date_of_birth(),\n",
    "        'phone_number': fake.phone_number(),\n",
    "        'email': fake.email(),\n",
    "        'address': fake.address(),\n",
    "        'city': fake.city(),\n",
    "        'state': np.random.choice(state_names),\n",
    "        'zipcode': fake.zipcode(),\n",
    "        })\n",
    "\n",
    "demographics = pd.DataFrame(output)\n",
    "demographics.head()"
   ]
  },
  {
   "cell_type": "code",
   "execution_count": 62,
   "metadata": {
    "colab": {
     "base_uri": "https://localhost:8080/"
    },
    "id": "ZraWvumX7WkH",
    "outputId": "cc7c7fc4-5f64-4a20-ea5c-bbc28fcf6b9d"
   },
   "outputs": [
    {
     "name": "stdout",
     "output_type": "stream",
     "text": [
      "{'street_address': '80974 Jeffrey Mountains', 'city': 'West Benjamin', 'state': 'IL', 'zipcode': '82801'}\n"
     ]
    }
   ],
   "source": [
    "def parse_address_v2(text):\n",
    "  \"\"\"\n",
    "  Parses an address string into street address, city, state, and zipcode.\n",
    "  This version handles potential variations in the input format.\n",
    "\n",
    "  Args:\n",
    "    text: The address string to parse.\n",
    "\n",
    "  Returns:\n",
    "    A dictionary containing the parsed address components.\n",
    "  \"\"\"\n",
    "\n",
    "  try:\n",
    "    # Split the input into lines\n",
    "    lines = text.strip().split('\\n')\n",
    "\n",
    "    # Extract the street address from the first line\n",
    "    street_address = lines[0].strip()\n",
    "\n",
    "    # Extract the city, state, and zipcode from the second line\n",
    "    city_state_zip = lines[1].strip().split(',')\n",
    "    city = city_state_zip[0].strip()\n",
    "    state_zip = city_state_zip[1].strip().split()\n",
    "    state = state_zip[0].strip()\n",
    "    zipcode = state_zip[1].strip()\n",
    "\n",
    "    return {\n",
    "        'street_address': street_address,\n",
    "        'city': city,\n",
    "        'state': state,\n",
    "        'zipcode': zipcode\n",
    "    }\n",
    "\n",
    "  except (IndexError, ValueError):\n",
    "    return None\n",
    "\n",
    "# Example usage\n",
    "text = \"80974 Jeffrey Mountains\\nWest Benjamin, IL 82801\"\n",
    "address = parse_address_v2(text)\n",
    "\n",
    "if address:\n",
    "  print(address)\n",
    "else:\n",
    "  print(\"Could not parse the address.\")"
   ]
  },
  {
   "cell_type": "code",
   "execution_count": 63,
   "metadata": {
    "colab": {
     "base_uri": "https://localhost:8080/",
     "height": 434
    },
    "id": "dXjBEBKa7Ccq",
    "outputId": "729080d2-bb92-4f8d-e540-ae784cd00585"
   },
   "outputs": [
    {
     "data": {
      "text/html": [
       "<div>\n",
       "<style scoped>\n",
       "    .dataframe tbody tr th:only-of-type {\n",
       "        vertical-align: middle;\n",
       "    }\n",
       "\n",
       "    .dataframe tbody tr th {\n",
       "        vertical-align: top;\n",
       "    }\n",
       "\n",
       "    .dataframe thead th {\n",
       "        text-align: right;\n",
       "    }\n",
       "</style>\n",
       "<table border=\"1\" class=\"dataframe\">\n",
       "  <thead>\n",
       "    <tr style=\"text-align: right;\">\n",
       "      <th></th>\n",
       "      <th>binary</th>\n",
       "      <th>given_name</th>\n",
       "      <th>surname</th>\n",
       "      <th>date_of_birth</th>\n",
       "      <th>phone_number</th>\n",
       "      <th>email</th>\n",
       "      <th>address</th>\n",
       "      <th>city</th>\n",
       "      <th>state</th>\n",
       "      <th>zipcode</th>\n",
       "      <th>nu_address</th>\n",
       "      <th>nu_city</th>\n",
       "      <th>nu_state</th>\n",
       "      <th>nu_zipcode</th>\n",
       "    </tr>\n",
       "  </thead>\n",
       "  <tbody>\n",
       "    <tr>\n",
       "      <th>0</th>\n",
       "      <td>binary_1</td>\n",
       "      <td>Kimberly</td>\n",
       "      <td>Fox</td>\n",
       "      <td>2000-12-06</td>\n",
       "      <td>001-772-621-0819x940</td>\n",
       "      <td>pameladavis@example.org</td>\n",
       "      <td>220 Parker Glens Suite 068\\nJohnchester, WV 88403</td>\n",
       "      <td>East Bryanport</td>\n",
       "      <td>South Carolina</td>\n",
       "      <td>47942</td>\n",
       "      <td>220 Parker Glens Suite 068</td>\n",
       "      <td>Johnchester</td>\n",
       "      <td>WV</td>\n",
       "      <td>88403</td>\n",
       "    </tr>\n",
       "    <tr>\n",
       "      <th>1</th>\n",
       "      <td>binary_2</td>\n",
       "      <td>Robert</td>\n",
       "      <td>White</td>\n",
       "      <td>1975-03-26</td>\n",
       "      <td>001-656-825-4491</td>\n",
       "      <td>ginacunningham@example.com</td>\n",
       "      <td>1042 Walter Mount\\nMeredithchester, ND 99336</td>\n",
       "      <td>Lake Lauren</td>\n",
       "      <td>South Dakota</td>\n",
       "      <td>09792</td>\n",
       "      <td>1042 Walter Mount</td>\n",
       "      <td>Meredithchester</td>\n",
       "      <td>ND</td>\n",
       "      <td>99336</td>\n",
       "    </tr>\n",
       "    <tr>\n",
       "      <th>2</th>\n",
       "      <td>binary_2</td>\n",
       "      <td>William</td>\n",
       "      <td>Odom</td>\n",
       "      <td>2022-09-11</td>\n",
       "      <td>461.975.9647x49200</td>\n",
       "      <td>ramirezerin@example.org</td>\n",
       "      <td>Unit 6873 Box 0728\\nDPO AE 43221</td>\n",
       "      <td>Collierbury</td>\n",
       "      <td>Indiana</td>\n",
       "      <td>46945</td>\n",
       "      <td>NaN</td>\n",
       "      <td>NaN</td>\n",
       "      <td>NaN</td>\n",
       "      <td>NaN</td>\n",
       "    </tr>\n",
       "    <tr>\n",
       "      <th>3</th>\n",
       "      <td>binary_2</td>\n",
       "      <td>Jason</td>\n",
       "      <td>Montgomery</td>\n",
       "      <td>2005-02-02</td>\n",
       "      <td>749.232.2439</td>\n",
       "      <td>hornbrandon@example.org</td>\n",
       "      <td>1815 Chen Crossing\\nWest Peter, PR 09002</td>\n",
       "      <td>West Michaelhaven</td>\n",
       "      <td>Oregon</td>\n",
       "      <td>59685</td>\n",
       "      <td>1815 Chen Crossing</td>\n",
       "      <td>West Peter</td>\n",
       "      <td>PR</td>\n",
       "      <td>09002</td>\n",
       "    </tr>\n",
       "    <tr>\n",
       "      <th>4</th>\n",
       "      <td>binary_1</td>\n",
       "      <td>Brianna</td>\n",
       "      <td>Price</td>\n",
       "      <td>1922-03-17</td>\n",
       "      <td>8034457547</td>\n",
       "      <td>roberto17@example.org</td>\n",
       "      <td>2596 Velazquez Fords\\nJohnsonshire, MT 05527</td>\n",
       "      <td>West Rachel</td>\n",
       "      <td>Oregon</td>\n",
       "      <td>70032</td>\n",
       "      <td>2596 Velazquez Fords</td>\n",
       "      <td>Johnsonshire</td>\n",
       "      <td>MT</td>\n",
       "      <td>05527</td>\n",
       "    </tr>\n",
       "  </tbody>\n",
       "</table>\n",
       "</div>"
      ],
      "text/plain": [
       "     binary given_name     surname date_of_birth          phone_number  \\\n",
       "0  binary_1   Kimberly         Fox    2000-12-06  001-772-621-0819x940   \n",
       "1  binary_2     Robert       White    1975-03-26      001-656-825-4491   \n",
       "2  binary_2    William        Odom    2022-09-11    461.975.9647x49200   \n",
       "3  binary_2      Jason  Montgomery    2005-02-02          749.232.2439   \n",
       "4  binary_1    Brianna       Price    1922-03-17            8034457547   \n",
       "\n",
       "                        email  \\\n",
       "0     pameladavis@example.org   \n",
       "1  ginacunningham@example.com   \n",
       "2     ramirezerin@example.org   \n",
       "3     hornbrandon@example.org   \n",
       "4       roberto17@example.org   \n",
       "\n",
       "                                             address               city  \\\n",
       "0  220 Parker Glens Suite 068\\nJohnchester, WV 88403     East Bryanport   \n",
       "1       1042 Walter Mount\\nMeredithchester, ND 99336        Lake Lauren   \n",
       "2                   Unit 6873 Box 0728\\nDPO AE 43221        Collierbury   \n",
       "3           1815 Chen Crossing\\nWest Peter, PR 09002  West Michaelhaven   \n",
       "4       2596 Velazquez Fords\\nJohnsonshire, MT 05527        West Rachel   \n",
       "\n",
       "            state zipcode                  nu_address          nu_city  \\\n",
       "0  South Carolina   47942  220 Parker Glens Suite 068      Johnchester   \n",
       "1    South Dakota   09792           1042 Walter Mount  Meredithchester   \n",
       "2         Indiana   46945                         NaN              NaN   \n",
       "3          Oregon   59685          1815 Chen Crossing       West Peter   \n",
       "4          Oregon   70032        2596 Velazquez Fords     Johnsonshire   \n",
       "\n",
       "  nu_state nu_zipcode  \n",
       "0       WV      88403  \n",
       "1       ND      99336  \n",
       "2      NaN        NaN  \n",
       "3       PR      09002  \n",
       "4       MT      05527  "
      ]
     },
     "execution_count": 63,
     "metadata": {},
     "output_type": "execute_result"
    }
   ],
   "source": [
    "# Apply the parse_address function to each row of the 'address' column\n",
    "demographics[['nu_address', 'nu_city', 'nu_state', 'nu_zipcode']] = demographics['address'].apply(lambda x: pd.Series(parse_address_v2(x)))\n",
    "\n",
    "demographics.head()"
   ]
  },
  {
   "cell_type": "code",
   "execution_count": 64,
   "metadata": {
    "colab": {
     "base_uri": "https://localhost:8080/",
     "height": 258
    },
    "id": "x4Hz9Qpw71M7",
    "outputId": "0ceb1b0c-abe5-480a-8d23-535026c23b0c"
   },
   "outputs": [
    {
     "data": {
      "text/html": [
       "<div>\n",
       "<style scoped>\n",
       "    .dataframe tbody tr th:only-of-type {\n",
       "        vertical-align: middle;\n",
       "    }\n",
       "\n",
       "    .dataframe tbody tr th {\n",
       "        vertical-align: top;\n",
       "    }\n",
       "\n",
       "    .dataframe thead th {\n",
       "        text-align: right;\n",
       "    }\n",
       "</style>\n",
       "<table border=\"1\" class=\"dataframe\">\n",
       "  <thead>\n",
       "    <tr style=\"text-align: right;\">\n",
       "      <th></th>\n",
       "      <th>binary</th>\n",
       "      <th>given_name</th>\n",
       "      <th>surname</th>\n",
       "      <th>date_of_birth</th>\n",
       "      <th>phone_number</th>\n",
       "      <th>email</th>\n",
       "      <th>address</th>\n",
       "      <th>city</th>\n",
       "      <th>state</th>\n",
       "      <th>zipcode</th>\n",
       "    </tr>\n",
       "  </thead>\n",
       "  <tbody>\n",
       "    <tr>\n",
       "      <th>0</th>\n",
       "      <td>binary_1</td>\n",
       "      <td>Kimberly</td>\n",
       "      <td>Fox</td>\n",
       "      <td>2000-12-06</td>\n",
       "      <td>001-772-621-0819x940</td>\n",
       "      <td>pameladavis@example.org</td>\n",
       "      <td>220 Parker Glens Suite 068</td>\n",
       "      <td>Johnchester</td>\n",
       "      <td>WV</td>\n",
       "      <td>88403</td>\n",
       "    </tr>\n",
       "    <tr>\n",
       "      <th>1</th>\n",
       "      <td>binary_2</td>\n",
       "      <td>Robert</td>\n",
       "      <td>White</td>\n",
       "      <td>1975-03-26</td>\n",
       "      <td>001-656-825-4491</td>\n",
       "      <td>ginacunningham@example.com</td>\n",
       "      <td>1042 Walter Mount</td>\n",
       "      <td>Meredithchester</td>\n",
       "      <td>ND</td>\n",
       "      <td>99336</td>\n",
       "    </tr>\n",
       "    <tr>\n",
       "      <th>2</th>\n",
       "      <td>binary_2</td>\n",
       "      <td>William</td>\n",
       "      <td>Odom</td>\n",
       "      <td>2022-09-11</td>\n",
       "      <td>461.975.9647x49200</td>\n",
       "      <td>ramirezerin@example.org</td>\n",
       "      <td>NaN</td>\n",
       "      <td>NaN</td>\n",
       "      <td>NaN</td>\n",
       "      <td>NaN</td>\n",
       "    </tr>\n",
       "    <tr>\n",
       "      <th>3</th>\n",
       "      <td>binary_2</td>\n",
       "      <td>Jason</td>\n",
       "      <td>Montgomery</td>\n",
       "      <td>2005-02-02</td>\n",
       "      <td>749.232.2439</td>\n",
       "      <td>hornbrandon@example.org</td>\n",
       "      <td>1815 Chen Crossing</td>\n",
       "      <td>West Peter</td>\n",
       "      <td>PR</td>\n",
       "      <td>09002</td>\n",
       "    </tr>\n",
       "    <tr>\n",
       "      <th>4</th>\n",
       "      <td>binary_1</td>\n",
       "      <td>Brianna</td>\n",
       "      <td>Price</td>\n",
       "      <td>1922-03-17</td>\n",
       "      <td>8034457547</td>\n",
       "      <td>roberto17@example.org</td>\n",
       "      <td>2596 Velazquez Fords</td>\n",
       "      <td>Johnsonshire</td>\n",
       "      <td>MT</td>\n",
       "      <td>05527</td>\n",
       "    </tr>\n",
       "  </tbody>\n",
       "</table>\n",
       "</div>"
      ],
      "text/plain": [
       "     binary given_name     surname date_of_birth          phone_number  \\\n",
       "0  binary_1   Kimberly         Fox    2000-12-06  001-772-621-0819x940   \n",
       "1  binary_2     Robert       White    1975-03-26      001-656-825-4491   \n",
       "2  binary_2    William        Odom    2022-09-11    461.975.9647x49200   \n",
       "3  binary_2      Jason  Montgomery    2005-02-02          749.232.2439   \n",
       "4  binary_1    Brianna       Price    1922-03-17            8034457547   \n",
       "\n",
       "                        email                     address             city  \\\n",
       "0     pameladavis@example.org  220 Parker Glens Suite 068      Johnchester   \n",
       "1  ginacunningham@example.com           1042 Walter Mount  Meredithchester   \n",
       "2     ramirezerin@example.org                         NaN              NaN   \n",
       "3     hornbrandon@example.org          1815 Chen Crossing       West Peter   \n",
       "4       roberto17@example.org        2596 Velazquez Fords     Johnsonshire   \n",
       "\n",
       "  state zipcode  \n",
       "0    WV   88403  \n",
       "1    ND   99336  \n",
       "2   NaN     NaN  \n",
       "3    PR   09002  \n",
       "4    MT   05527  "
      ]
     },
     "execution_count": 64,
     "metadata": {},
     "output_type": "execute_result"
    }
   ],
   "source": [
    "# drop address, city, state, zipcode and rename nu_ etc.\n",
    "demographics.drop(['address', 'city', 'state', 'zipcode'], axis=1, inplace=True)\n",
    "demographics.rename(columns={'nu_address': 'address', 'nu_city': 'city', 'nu_state': 'state', 'nu_zipcode': 'zipcode'}, inplace=True)\n",
    "demographics.head()"
   ]
  },
  {
   "cell_type": "markdown",
   "metadata": {
    "id": "4A99Q0IknJCE"
   },
   "source": [
    "### Create Independent Variable Correlated with Class"
   ]
  },
  {
   "cell_type": "code",
   "execution_count": 65,
   "metadata": {
    "id": "n3VmXvwBnRr-"
   },
   "outputs": [],
   "source": [
    "import numpy as np\n",
    "import pandas as pd\n",
    "\n",
    "def generate_feature(df, class_col, coeff, intercept):\n",
    "    \"\"\"\n",
    "    Generates normally distributed feature data for a logistic regression model.\n",
    "\n",
    "    Args:\n",
    "        df: The pandas DataFrame containing the class column.\n",
    "        class_col: The name of the class column (containing 0s and 1s).\n",
    "        coeff: The coefficient for the feature in the logistic regression model.\n",
    "        intercept: The intercept of the logistic regression model.\n",
    "\n",
    "    Returns:\n",
    "        A pandas Series containing the generated feature data.\n",
    "    \"\"\"\n",
    "\n",
    "    # Generate probabilities based on the class\n",
    "    probs = np.random.rand(len(df))  # Initial random probabilities\n",
    "    probs = np.where(df[class_col] == 1, probs * 0.8 + 0.2, probs * 0.8)  # Adjust for class\n",
    "\n",
    "    # Apply the inverse logit (logit) function\n",
    "    logits = np.log(probs / (1 - probs))\n",
    "\n",
    "    # Calculate the feature values\n",
    "    feature_values = (logits - intercept) / coeff\n",
    "\n",
    "    return pd.Series(feature_values)\n",
    "\n"
   ]
  },
  {
   "cell_type": "markdown",
   "metadata": {
    "id": "kmOFYI7T_eoP"
   },
   "source": [
    "### Make Classification"
   ]
  },
  {
   "cell_type": "code",
   "execution_count": 66,
   "metadata": {
    "colab": {
     "base_uri": "https://localhost:8080/",
     "height": 365
    },
    "id": "1UYr8YXrJkX8",
    "outputId": "d4e531e1-3b60-4f78-cd91-bb1d6296c036"
   },
   "outputs": [
    {
     "data": {
      "text/html": [
       "<div>\n",
       "<style scoped>\n",
       "    .dataframe tbody tr th:only-of-type {\n",
       "        vertical-align: middle;\n",
       "    }\n",
       "\n",
       "    .dataframe tbody tr th {\n",
       "        vertical-align: top;\n",
       "    }\n",
       "\n",
       "    .dataframe thead th {\n",
       "        text-align: right;\n",
       "    }\n",
       "</style>\n",
       "<table border=\"1\" class=\"dataframe\">\n",
       "  <thead>\n",
       "    <tr style=\"text-align: right;\">\n",
       "      <th></th>\n",
       "      <th>binary</th>\n",
       "      <th>given_name</th>\n",
       "      <th>surname</th>\n",
       "      <th>date_of_birth</th>\n",
       "      <th>phone_number</th>\n",
       "      <th>email</th>\n",
       "      <th>address</th>\n",
       "      <th>city</th>\n",
       "      <th>state</th>\n",
       "      <th>zipcode</th>\n",
       "      <th>informative_1</th>\n",
       "      <th>informative_2</th>\n",
       "      <th>target</th>\n",
       "      <th>class</th>\n",
       "      <th>corr_feature_class</th>\n",
       "    </tr>\n",
       "  </thead>\n",
       "  <tbody>\n",
       "    <tr>\n",
       "      <th>0</th>\n",
       "      <td>binary_1</td>\n",
       "      <td>Kimberly</td>\n",
       "      <td>Fox</td>\n",
       "      <td>2000-12-06</td>\n",
       "      <td>001-772-621-0819x940</td>\n",
       "      <td>pameladavis@example.org</td>\n",
       "      <td>220 Parker Glens Suite 068</td>\n",
       "      <td>Johnchester</td>\n",
       "      <td>WV</td>\n",
       "      <td>88403</td>\n",
       "      <td>-0.999102</td>\n",
       "      <td>-0.663860</td>\n",
       "      <td>-0.904224</td>\n",
       "      <td>1</td>\n",
       "      <td>1.286700</td>\n",
       "    </tr>\n",
       "    <tr>\n",
       "      <th>1</th>\n",
       "      <td>binary_2</td>\n",
       "      <td>Robert</td>\n",
       "      <td>White</td>\n",
       "      <td>1975-03-26</td>\n",
       "      <td>001-656-825-4491</td>\n",
       "      <td>ginacunningham@example.com</td>\n",
       "      <td>1042 Walter Mount</td>\n",
       "      <td>Meredithchester</td>\n",
       "      <td>ND</td>\n",
       "      <td>99336</td>\n",
       "      <td>1.246686</td>\n",
       "      <td>1.153597</td>\n",
       "      <td>2.324370</td>\n",
       "      <td>1</td>\n",
       "      <td>0.822613</td>\n",
       "    </tr>\n",
       "    <tr>\n",
       "      <th>2</th>\n",
       "      <td>binary_2</td>\n",
       "      <td>William</td>\n",
       "      <td>Odom</td>\n",
       "      <td>2022-09-11</td>\n",
       "      <td>461.975.9647x49200</td>\n",
       "      <td>ramirezerin@example.org</td>\n",
       "      <td>NaN</td>\n",
       "      <td>NaN</td>\n",
       "      <td>NaN</td>\n",
       "      <td>NaN</td>\n",
       "      <td>0.962777</td>\n",
       "      <td>0.859397</td>\n",
       "      <td>1.778217</td>\n",
       "      <td>1</td>\n",
       "      <td>2.222530</td>\n",
       "    </tr>\n",
       "    <tr>\n",
       "      <th>3</th>\n",
       "      <td>binary_2</td>\n",
       "      <td>Jason</td>\n",
       "      <td>Montgomery</td>\n",
       "      <td>2005-02-02</td>\n",
       "      <td>749.232.2439</td>\n",
       "      <td>hornbrandon@example.org</td>\n",
       "      <td>1815 Chen Crossing</td>\n",
       "      <td>West Peter</td>\n",
       "      <td>PR</td>\n",
       "      <td>09002</td>\n",
       "      <td>-2.957441</td>\n",
       "      <td>2.033645</td>\n",
       "      <td>5.451235</td>\n",
       "      <td>1</td>\n",
       "      <td>3.362734</td>\n",
       "    </tr>\n",
       "    <tr>\n",
       "      <th>4</th>\n",
       "      <td>binary_1</td>\n",
       "      <td>Brianna</td>\n",
       "      <td>Price</td>\n",
       "      <td>1922-03-17</td>\n",
       "      <td>8034457547</td>\n",
       "      <td>roberto17@example.org</td>\n",
       "      <td>2596 Velazquez Fords</td>\n",
       "      <td>Johnsonshire</td>\n",
       "      <td>MT</td>\n",
       "      <td>05527</td>\n",
       "      <td>1.141165</td>\n",
       "      <td>1.059449</td>\n",
       "      <td>2.153926</td>\n",
       "      <td>1</td>\n",
       "      <td>0.751689</td>\n",
       "    </tr>\n",
       "  </tbody>\n",
       "</table>\n",
       "</div>"
      ],
      "text/plain": [
       "     binary given_name     surname date_of_birth          phone_number  \\\n",
       "0  binary_1   Kimberly         Fox    2000-12-06  001-772-621-0819x940   \n",
       "1  binary_2     Robert       White    1975-03-26      001-656-825-4491   \n",
       "2  binary_2    William        Odom    2022-09-11    461.975.9647x49200   \n",
       "3  binary_2      Jason  Montgomery    2005-02-02          749.232.2439   \n",
       "4  binary_1    Brianna       Price    1922-03-17            8034457547   \n",
       "\n",
       "                        email                     address             city  \\\n",
       "0     pameladavis@example.org  220 Parker Glens Suite 068      Johnchester   \n",
       "1  ginacunningham@example.com           1042 Walter Mount  Meredithchester   \n",
       "2     ramirezerin@example.org                         NaN              NaN   \n",
       "3     hornbrandon@example.org          1815 Chen Crossing       West Peter   \n",
       "4       roberto17@example.org        2596 Velazquez Fords     Johnsonshire   \n",
       "\n",
       "  state zipcode  informative_1  informative_2    target  class  \\\n",
       "0    WV   88403      -0.999102      -0.663860 -0.904224      1   \n",
       "1    ND   99336       1.246686       1.153597  2.324370      1   \n",
       "2   NaN     NaN       0.962777       0.859397  1.778217      1   \n",
       "3    PR   09002      -2.957441       2.033645  5.451235      1   \n",
       "4    MT   05527       1.141165       1.059449  2.153926      1   \n",
       "\n",
       "   corr_feature_class  \n",
       "0            1.286700  \n",
       "1            0.822613  \n",
       "2            2.222530  \n",
       "3            3.362734  \n",
       "4            0.751689  "
      ]
     },
     "execution_count": 66,
     "metadata": {},
     "output_type": "execute_result"
    }
   ],
   "source": [
    "import numpy as np\n",
    "import pandas as pd\n",
    "from sklearn.datasets import make_classification\n",
    "from sklearn.linear_model import LogisticRegression\n",
    "\n",
    "def make_linear_y(row):\n",
    "  model = LogisticRegression()\n",
    "  model.fit(X, y)\n",
    "  coefficients = model.coef_\n",
    "  intercept = model.intercept_\n",
    "  f_of_x = intercept + coefficients[0][0]*row['informative_1'] + coefficients[0][1]*row['informative_2']\n",
    "  # print(f_of_x[0])\n",
    "  return f_of_x[0]\n",
    "\n",
    "# Adjust the make_classification parameters:\n",
    "# Set n_informative and n_redundant to values that sum to less than n_features\n",
    "X, y = make_classification(n_samples=1000, n_features=2, n_informative=2, n_redundant=0, n_repeated=0, random_state=42)\n",
    "df = pd.DataFrame(X, columns=['informative_1', 'informative_2'])\n",
    "df = pd.concat([demographics, df], axis=1).reset_index(drop=True)\n",
    "\n",
    "df['target'] = df.apply(make_linear_y, axis=1) # an independent variable\n",
    "df['class'] = y # the dependent variable\n",
    "df['corr_feature_class'] = generate_feature(df, 'class', 0.5, -1)\n",
    "df.head()"
   ]
  },
  {
   "cell_type": "markdown",
   "metadata": {
    "id": "FlnsQrSN8FLY"
   },
   "source": [
    "### Automation Functions\n",
    "\n",
    "1. gen_null(series, perc)\n",
    "2. gen_quasi_constants(primary_label, variation_percentage=.2, replace=False)\n",
    "3. gen_normal_data(mu=0, std=1, size=len(df))\n",
    "4. gen_uniform_data(size=len(df))\n",
    "5. gen_multivariate_normal_data(mean=[0, 0], cov=[[1, 0], [0, 1]], size=len(df))\n",
    "6. gen_correlated_normal_series(original_series, target_correlation, size=len(df))\n",
    "7. gen_correlated_uniform_series(original_series, correlation_coefficient=0, size=len(df))\n",
    "8. gen_outliers(mean=0, std_dev=1, size=len(df), outlier_percentage=0.1, outlier_magnitude=3)\n",
    "9. gen_standard_scaling(mean=50, std_dev=10, size=len(df), scale_factor=1000)\n",
    "10. gen_minmax_scaling(mean=50, std_dev=10, size=len(df), range_factor=10)\n",
    "11. random_choice_data(choices, size)"
   ]
  },
  {
   "cell_type": "code",
   "execution_count": 67,
   "metadata": {
    "id": "JWOa9CmWQQ3-"
   },
   "outputs": [],
   "source": [
    "# functions\n",
    "import pandas as pd\n",
    "import numpy as np\n",
    "from scipy.stats import norm\n",
    "from scipy.optimize import minimize\n",
    "\n",
    "\n",
    "def gen_null(series, perc):\n",
    "  \"\"\"\n",
    "  Introduces null values (np.nan) into a list based on a specified percentage.\n",
    "\n",
    "  Args:\n",
    "      var: The variable to modify.\n",
    "      perc: The percentage of values to replace with nulls (0-100).\n",
    "\n",
    "  Returns:\n",
    "      The modified variable with null.\n",
    "  \"\"\"\n",
    "  var = series.copy()\n",
    "  num_nulls = int(len(var) * (perc / 100))\n",
    "  indices_to_replace = np.random.choice(len(var), num_nulls, replace=False)\n",
    "\n",
    "  for idx in indices_to_replace:\n",
    "      var[idx] = np.nan\n",
    "\n",
    "  return var\n",
    "\n",
    "def gen_quasi_constants(primary_label, variation_percentage=.2, size=len(df)):\n",
    "  \"\"\"\n",
    "  Generates quasi-constant labels for a Series, with a small percentage of variation.\n",
    "\n",
    "  Args:\n",
    "      primary_label: The main label to use for most values.\n",
    "      variation_percentage: The percentage of labels to vary (0-100).\n",
    "\n",
    "  Returns:\n",
    "      A new Series containing the quasi-constant labels.\n",
    "  \"\"\"\n",
    "\n",
    "  series = pd.Series(np.full(size, primary_label))\n",
    "  num_variations = int(size * (variation_percentage / 100))\n",
    "  variation_indices = np.random.choice(series.index, num_variations, replace=False)\n",
    "  primary_label = primary_label + '_0'\n",
    "  variation1 = primary_label + '_1'\n",
    "  variation2 = primary_label + '_2'\n",
    "\n",
    "  labels = pd.Series([primary_label] * len(series), index=series.index)\n",
    "  labels.loc[variation_indices] = np.random.choice([variation1, variation2], size=num_variations)  # Adjust variations as needed\n",
    "\n",
    "  return labels\n",
    "\n",
    "def gen_normal_data(mu=0, std=1, size=len(df)):\n",
    "  \"\"\"\n",
    "  Generates a normal dataset given the mean and standard deviation\n",
    "\n",
    "  Args:\n",
    "        mu: The mean of the normal distribution.\n",
    "        std: The standard deviation of the normal distribution.\n",
    "        size: The number of data points to generate.\n",
    "\n",
    "  Returns:\n",
    "        A normally distributed series.\n",
    "  \"\"\"\n",
    "  return np.random.normal(mu, std, size)\n",
    "\n",
    "def gen_uniform_data(size=len(df)):\n",
    "  \"\"\"\n",
    "  Generates a uniform dataset\n",
    "\n",
    "  Args:\n",
    "        size: The number of data points to generate.\n",
    "\n",
    "  Returns:\n",
    "        A uniform distributed series.\n",
    "  \"\"\"\n",
    "  return np.random.uniform(size=size)\n",
    "\n",
    "def gen_multivariate_normal_data(mean=[0, 0], cov=[[1, 0], [0, 1]], size=len(df)):\n",
    "  \"\"\"\n",
    "  Generates two datasets with a multivariate normal distribution given the mean and covariance matrix\n",
    "\n",
    "  Args:\n",
    "        mean: The mean of each of the datasets.\n",
    "        cov: The covariance matrix of the datasets.\n",
    "        size: The number of data points to generate.\n",
    "\n",
    "  Returns:\n",
    "        Two correlated series.\n",
    "  \"\"\"\n",
    "  ds1, ds2 = np.random.multivariate_normal(mean, cov, size, tol=1e-6).T # ds = dataset\n",
    "  return ds1, ds2\n",
    "\n",
    "def gen_correlated_normal_series(original_series, target_correlation, size=len(df)):\n",
    "  \"\"\"\n",
    "  Generates a correlated series based on a given series.\n",
    "\n",
    "  This function takes an original series as input and generates a new series\n",
    "  that is correlated with the original series. The correlation between the\n",
    "  original and generated series is approximately equal to the specified\n",
    "  target correlation.\n",
    "\n",
    "  The generated series is created by linearly transforming the original series\n",
    "  and adding Gaussian noise with an adjusted standard deviation to achieve the\n",
    "  desired correlation.\n",
    "\n",
    "  Args:\n",
    "      original_series (numpy.ndarray): The original series.\n",
    "      target_correlation (float): The desired Pearson correlation coefficient\n",
    "          between the original and generated series.\n",
    "\n",
    "  Returns:\n",
    "      numpy.ndarray: The generated correlated series.\n",
    "  \"\"\"\n",
    "  return np.mean(original_series) + target_correlation * (original_series - np.mean(original_series)) \\\n",
    "  +  np.random.normal(0, np.sqrt(1 - target_correlation**2) * np.std(original_series), len(original_series))\n",
    "  \"\"\"\n",
    "  Explanation\n",
    "\n",
    "  This one-liner leverages the properties of linear transformations and normal distributions to generate a correlated series.\n",
    "\n",
    "  It first centers the original_series by subtracting its mean.\n",
    "  It then scales this centered series by the target_correlation.\n",
    "  Finally, it adds Gaussian noise with a standard deviation adjusted to ensure the overall correlation matches the target_correlation.\n",
    "  \"\"\"\n",
    "\n",
    "def gen_correlated_uniform_series(original_series, correlation_coefficient=0, size=len(df)):\n",
    "  \"\"\"\n",
    "  Work in progress\n",
    "\n",
    "  Generates a new series correlated with the given series based on the specified correlation coefficient,\n",
    "  using rank correlation to ensure the generated series follows a uniform distribution.\n",
    "\n",
    "  Args:\n",
    "      original_series (numpy.ndarray or list): The original series.\n",
    "      correlation_coefficient (float): The desired correlation coefficient between the original and generated series.\n",
    "      size: The number of data points to generate.\n",
    "\n",
    "  Returns:\n",
    "      The generated correlated series with a uniform distribution.\n",
    "  \"\"\"\n",
    "  z_scores = (original_series - np.mean(original_series)) / np.std(original_series)\n",
    "  correlation_coefficient=.7\n",
    "  return norm.cdf(correlation_coefficient * norm.ppf(np.random.uniform(size=size)) + np.sqrt(1 - correlation_coefficient**2) * z_scores)\n",
    "\n",
    "def pearson_r_func(x, y, y_mean, y_std, desired_r):\n",
    "    x_mean = np.mean(x)\n",
    "    x_std = np.std(x)\n",
    "    numerator = np.sum((x - x_mean) * (y - y_mean))\n",
    "    denominator = x_std * y_std * len(x)\n",
    "    calculated_r = numerator / denominator\n",
    "    return (calculated_r - desired_r)**2  # Minimize the squared difference\n",
    "\n",
    "def minimize_r(original_series, target_correlation, size=len(df)):\n",
    "    y = original_series\n",
    "    y_mean = np.mean(y)\n",
    "    y_std = np.std(y)\n",
    "    desired_r = target_correlation\n",
    "\n",
    "    # Initial guess for x values\n",
    "    x0 = np.random.uniform(size=len(original_series))\n",
    "\n",
    "    # Solve for x\n",
    "    result = minimize(pearson_r_func, x0, args=(y, y_mean, y_std, desired_r))\n",
    "\n",
    "    if result.success:\n",
    "        x_solution = result.x\n",
    "        # print(\"Solution for x:\", x_solution)\n",
    "        return x_solution\n",
    "    else:\n",
    "        print(\"Optimization failed.\")\n",
    "\n",
    "def gen_outliers(mean=0, std_dev=1, size=len(df), outlier_percentage=0.1, outlier_magnitude=3):\n",
    "    \"\"\"\n",
    "    Generates a normal distribution with outliers.\n",
    "\n",
    "    Args:\n",
    "        mean (float): The mean of the normal distribution.\n",
    "        std_dev (float): The standard deviation of the normal distribution.\n",
    "        size (int): The number of samples to generate.\n",
    "        outlier_percentage (float): The percentage of outliers to introduce (between 0 and 1).\n",
    "        outlier_magnitude (float): The magnitude by which outliers deviate from the mean.\n",
    "\n",
    "    Returns:\n",
    "        numpy.ndarray: The generated data with outliers.\n",
    "    \"\"\"\n",
    "    data = np.random.normal(mean, std_dev, size)\n",
    "    num_outliers = int(size * outlier_percentage)\n",
    "    outlier_indices = np.random.choice(size, num_outliers, replace=False)\n",
    "    for index in outlier_indices:\n",
    "        if np.random.rand() < 0.5:\n",
    "            data[index] += outlier_magnitude\n",
    "        else:\n",
    "            data[index] -= outlier_magnitude\n",
    "\n",
    "    return data\n",
    "\n",
    "def gen_standard_scaling(mean=50, std_dev=10, size=len(df), scale_factor=1000):\n",
    "  \"\"\"\n",
    "  Generates data with a specified mean and standard deviation, then scales it by a factor to create a distribution needing scaling.\n",
    "\n",
    "  Args:\n",
    "      mean (float): The mean of the original distribution.\n",
    "      std_dev (float): The standard deviation of the original distribution.\n",
    "      size (int): The number of samples to generate.\n",
    "      scale_factor (float): The factor by which to scale the original distribution.\n",
    "\n",
    "  Returns:\n",
    "      numpy.ndarray: The generated data needing scaling.\n",
    "  \"\"\"\n",
    "  original_data = np.random.normal(mean, std_dev, size)\n",
    "  return original_data * scale_factor\n",
    "\n",
    "def gen_minmax_scaling(mean=50, std_dev=10, size=len(df), range_factor=10):\n",
    "  \"\"\"\n",
    "  Generates data with a specified mean and standard deviation, then scales and shifts it to create a distribution needing MinMax scaling.\n",
    "\n",
    "  Args:\n",
    "      mean (float): The mean of the original distribution.\n",
    "      std_dev (float): The standard deviation of the original distribution.\n",
    "      size (int): The number of samples to generate.\n",
    "      range_factor (float): The factor to expand the range of the original distribution.\n",
    "\n",
    "  Returns:\n",
    "      numpy.ndarray: The generated data needing scaling.\n",
    "  \"\"\"\n",
    "\n",
    "  # Generate the original data\n",
    "  original_data = np.random.normal(mean, std_dev, size)\n",
    "\n",
    "  # Expand the range of the data\n",
    "  min_val = np.min(original_data)\n",
    "  max_val = np.max(original_data)\n",
    "  return (original_data - min_val) * range_factor + min_val\n",
    "\n",
    "def random_choice_data(choices, size):\n",
    "  \"\"\"\n",
    "  Generates a new series correlated with the given series based on the specified correlation coefficient,\n",
    "  using rank correlation to ensure the generated series follows a uniform distribution.\n",
    "\n",
    "  Args:\n",
    "      original_series (numpy.ndarray or list): The original series.\n",
    "      correlation_coefficient (float): The desired correlation coefficient between the original and generated series.\n",
    "\n",
    "  Returns:\n",
    "      numpy.ndarray: The generated correlated series with a uniform distribution.\n",
    "  \"\"\"\n",
    "  return np.random.choice(choices, size=size)\n"
   ]
  },
  {
   "cell_type": "code",
   "execution_count": 68,
   "metadata": {
    "id": "OwAolbPsxTxS"
   },
   "outputs": [],
   "source": [
    "# categorical variables with little correlation to sales\n",
    "df['random choice 2'] = random_choice_data(['Rand Choice 1', 'Rand Choice 2'], size=len(df))\n",
    "df['random choice 4'] = random_choice_data(['North', 'South', 'East', 'West'], size=len(df))\n",
    "df['random choice 7'] = random_choice_data(['Monday', 'Tuesday', 'Wednesday', 'Thursday', 'Friday', 'Saturday', 'Sunday'], size=len(df))\n",
    "\n",
    "# categorical random choices with random # of labels\n",
    "num_labels = np.random.randint(3, 5)\n",
    "df[f'random label num {num_labels}'] = random_choice_data([f'label num lo {i}' for i in range(1, num_labels + 1)], size=len(df))\n",
    "\n",
    "num_labels = np.random.randint(10, 15)\n",
    "df[f'random label num {num_labels}'] = random_choice_data([f'label num hi {i}' for i in range(1, num_labels + 1)], size=len(df))"
   ]
  },
  {
   "cell_type": "code",
   "execution_count": 69,
   "metadata": {
    "id": "oiR1SK-QR7Rn"
   },
   "outputs": [],
   "source": [
    "# categorical variables correlated with target\n",
    "df['pd qcut1'] = pd.qcut(df['target'], 2, labels=['Low', 'High']) # bi label\n",
    "df['pd qcut2'] = pd.qcut(df['target'], 4, labels=['Q1', 'Q2', 'Q3', 'Q4']) # 4 labels\n",
    "\n",
    "quantiles = [0, 0.1, 0.2, 0.4, 0.6, 0.8, 1]\n",
    "df['pd qcut3'] = pd.qcut(df['target'], quantiles, labels=['G1', 'G2', 'G3', 'G4', 'G5', 'G6']) # 6 labels"
   ]
  },
  {
   "cell_type": "code",
   "execution_count": 70,
   "metadata": {
    "id": "Q6QTLoR2uPkF"
   },
   "outputs": [],
   "source": [
    "# generate four numerical normally distributed continuous features that have a correlation greater than absolute value of .5 with each other\n",
    "# gen_multivariate_normal_data(mean=[0, 0], cov=[[1, 0], [0, 1]], size=len(df))\n",
    "df['multicollinearity 1'], df['multicollinearity 2'] = gen_multivariate_normal_data(mean=[0, 0], cov=[[1, .7], [.7, 1]], size=len(df))\n",
    "df['multicollinearity 3'], df['multicollinearity 4'] = gen_multivariate_normal_data(mean=[0, 0], cov=[[1, .9], [.9, 1]], size=len(df))"
   ]
  },
  {
   "cell_type": "code",
   "execution_count": 71,
   "metadata": {
    "colab": {
     "base_uri": "https://localhost:8080/"
    },
    "id": "EyUCReGZlSSl",
    "outputId": "4dae3fc7-049f-4bc7-902a-ff41b3c3f99f"
   },
   "outputs": [
    {
     "name": "stdout",
     "output_type": "stream",
     "text": [
      "<class 'pandas.core.frame.DataFrame'>\n",
      "RangeIndex: 1000 entries, 0 to 999\n",
      "Data columns (total 29 columns):\n",
      " #   Column                 Non-Null Count  Dtype   \n",
      "---  ------                 --------------  -----   \n",
      " 0   binary                 1000 non-null   object  \n",
      " 1   given_name             1000 non-null   object  \n",
      " 2   surname                1000 non-null   object  \n",
      " 3   date_of_birth          1000 non-null   object  \n",
      " 4   phone_number           1000 non-null   object  \n",
      " 5   email                  1000 non-null   object  \n",
      " 6   address                905 non-null    object  \n",
      " 7   city                   905 non-null    object  \n",
      " 8   state                  905 non-null    object  \n",
      " 9   zipcode                905 non-null    object  \n",
      " 10  informative_1          1000 non-null   float64 \n",
      " 11  informative_2          1000 non-null   float64 \n",
      " 12  target                 1000 non-null   float64 \n",
      " 13  class                  1000 non-null   int64   \n",
      " 14  corr_feature_class     1000 non-null   float64 \n",
      " 15  random choice 2        1000 non-null   object  \n",
      " 16  random choice 4        1000 non-null   object  \n",
      " 17  random choice 7        1000 non-null   object  \n",
      " 18  random label num 3     1000 non-null   object  \n",
      " 19  random label num 12    1000 non-null   object  \n",
      " 20  pd qcut1               1000 non-null   category\n",
      " 21  pd qcut2               1000 non-null   category\n",
      " 22  pd qcut3               1000 non-null   category\n",
      " 23  multicollinearity 1    1000 non-null   float64 \n",
      " 24  multicollinearity 2    1000 non-null   float64 \n",
      " 25  multicollinearity 3    1000 non-null   float64 \n",
      " 26  multicollinearity 4    1000 non-null   float64 \n",
      " 27  correlated w target 1  1000 non-null   float64 \n",
      " 28  correlated w target 2  1000 non-null   float64 \n",
      "dtypes: category(3), float64(10), int64(1), object(15)\n",
      "memory usage: 206.7+ KB\n"
     ]
    }
   ],
   "source": [
    "# generate two normally distributed features that are correlated with the target\n",
    "# gen_correlated_normal_series(original_series, target_correlation, size=len(df))\n",
    "df['correlated w target 1'] = gen_correlated_normal_series(df['target'], target_correlation=.5)\n",
    "df['correlated w target 2'] = gen_correlated_normal_series(df['target'], target_correlation=.7)\n",
    "df.info()"
   ]
  },
  {
   "cell_type": "code",
   "execution_count": 72,
   "metadata": {
    "colab": {
     "base_uri": "https://localhost:8080/",
     "height": 525
    },
    "id": "nEQxB18Juh8M",
    "outputId": "728259d3-f7bd-4319-c340-e6ad04668b8f"
   },
   "outputs": [
    {
     "name": "stdout",
     "output_type": "stream",
     "text": [
      "                uniform corr 1  uniform corr 2    target\n",
      "uniform corr 1        1.000000        0.512597  0.709795\n",
      "uniform corr 2        0.512597        1.000000  0.714819\n",
      "target                0.709795        0.714819  1.000000\n"
     ]
    },
    {
     "data": {
      "image/png": "[encoded data removed]",
      "text/plain": [
       "<Figure size 640x480 with 2 Axes>"
      ]
     },
     "metadata": {},
     "output_type": "display_data"
    }
   ],
   "source": [
    "# generate two uniformly distributed features that are correlated with the target\n",
    "# gen_correlated_uniform_series(original_series, correlation_coefficient=0, size=len(df))\n",
    "df['uniform corr 1'] = gen_correlated_uniform_series(df['target'])\n",
    "df['uniform corr 2'] = gen_correlated_uniform_series(df['target'])\n",
    "\n",
    "print(df[['uniform corr 1', 'uniform corr 2', 'target']].corr())\n",
    "df[['uniform corr 1', 'uniform corr 2']].hist();"
   ]
  },
  {
   "cell_type": "code",
   "execution_count": 73,
   "metadata": {
    "id": "Vx1_vq2FIxan"
   },
   "outputs": [],
   "source": [
    "# create two features that are duplicates of other features\n",
    "df['duplicate_1'] = df['informative_1']\n",
    "df['duplicate_2'] = df['informative_2']"
   ]
  },
  {
   "cell_type": "code",
   "execution_count": 74,
   "metadata": {
    "id": "wJGVW0OMJKCA"
   },
   "outputs": [],
   "source": [
    "# create two numerical features with outliers\n",
    "df['outliers 1'] = gen_outliers(mean=0, std_dev=1, size=len(df), outlier_percentage=0.1, outlier_magnitude=3)\n",
    "df['outliers 2'] = gen_outliers(mean=3, std_dev=2, size=len(df), outlier_percentage=0.2, outlier_magnitude=2)"
   ]
  },
  {
   "cell_type": "code",
   "execution_count": 75,
   "metadata": {
    "id": "oNXKVbukJUX6"
   },
   "outputs": [],
   "source": [
    "# create a numerical feature that needs standard scaling\n",
    "df['standard scaling'] = gen_standard_scaling()"
   ]
  },
  {
   "cell_type": "code",
   "execution_count": 76,
   "metadata": {
    "id": "YffL2FIjJZBe"
   },
   "outputs": [],
   "source": [
    "# create a numerical feature that needs min max scaling\n",
    "df['min max scaling'] = gen_minmax_scaling()"
   ]
  },
  {
   "cell_type": "code",
   "execution_count": 79,
   "metadata": {
    "id": "BSB0O7puJmJb"
   },
   "outputs": [],
   "source": [
    "# generate null values\n",
    "for col in df.drop(['class', 'informative_1', 'informative_2', 'target', 'duplicate_1', 'duplicate_2'], axis=1).columns:\n",
    "    df[col] = gen_null(df[col], np.random.choice([0, 5, 10, 20, 30, 50], size=1).item())"
   ]
  },
  {
   "cell_type": "code",
   "execution_count": 80,
   "metadata": {
    "id": "2sfkZqmYIjDF"
   },
   "outputs": [],
   "source": [
    "# create two features that have constant values\n",
    "df['constant_1'] = 'constant_value'\n",
    "df['constant_2'] = 'constant_value'"
   ]
  },
  {
   "cell_type": "code",
   "execution_count": 81,
   "metadata": {
    "id": "gWSpRTvfIp1c"
   },
   "outputs": [],
   "source": [
    "# create two features with semi constant values\n",
    "df['semi_constant_1'] = gen_quasi_constants('q_const', variation_percentage = 1)\n",
    "df['semi_constant_2'] = gen_quasi_constants('q_const', variation_percentage = 1)"
   ]
  },
  {
   "cell_type": "code",
   "execution_count": 82,
   "metadata": {
    "colab": {
     "base_uri": "https://localhost:8080/"
    },
    "id": "nQ8w6T9WYLf4",
    "outputId": "9f2fc7c4-b45f-4723-e319-5aeca85a6708"
   },
   "outputs": [
    {
     "name": "stdout",
     "output_type": "stream",
     "text": [
      "<class 'pandas.core.frame.DataFrame'>\n",
      "RangeIndex: 1000 entries, 0 to 999\n",
      "Data columns (total 41 columns):\n",
      " #   Column                 Non-Null Count  Dtype   \n",
      "---  ------                 --------------  -----   \n",
      " 0   binary                 664 non-null    object  \n",
      " 1   given_name             856 non-null    object  \n",
      " 2   surname                669 non-null    object  \n",
      " 3   date_of_birth          662 non-null    object  \n",
      " 4   phone_number           631 non-null    object  \n",
      " 5   email                  254 non-null    object  \n",
      " 6   address                716 non-null    object  \n",
      " 7   city                   860 non-null    object  \n",
      " 8   state                  311 non-null    object  \n",
      " 9   zipcode                362 non-null    object  \n",
      " 10  informative_1          1000 non-null   float64 \n",
      " 11  informative_2          1000 non-null   float64 \n",
      " 12  target                 1000 non-null   float64 \n",
      " 13  class                  1000 non-null   int64   \n",
      " 14  corr_feature_class     700 non-null    float64 \n",
      " 15  random choice 2        950 non-null    object  \n",
      " 16  random choice 4        350 non-null    object  \n",
      " 17  random choice 7        700 non-null    object  \n",
      " 18  random label num 3     756 non-null    object  \n",
      " 19  random label num 12    558 non-null    object  \n",
      " 20  pd qcut1               719 non-null    category\n",
      " 21  pd qcut2               900 non-null    category\n",
      " 22  pd qcut3               900 non-null    category\n",
      " 23  multicollinearity 1    638 non-null    float64 \n",
      " 24  multicollinearity 2    560 non-null    float64 \n",
      " 25  multicollinearity 3    560 non-null    float64 \n",
      " 26  multicollinearity 4    900 non-null    float64 \n",
      " 27  correlated w target 1  1000 non-null   float64 \n",
      " 28  correlated w target 2  402 non-null    float64 \n",
      " 29  uniform corr 1         500 non-null    float64 \n",
      " 30  uniform corr 2         500 non-null    float64 \n",
      " 31  duplicate_1            1000 non-null   float64 \n",
      " 32  duplicate_2            1000 non-null   float64 \n",
      " 33  outliers 1             900 non-null    float64 \n",
      " 34  outliers 2             348 non-null    float64 \n",
      " 35  standard scaling       726 non-null    float64 \n",
      " 36  min max scaling        564 non-null    float64 \n",
      " 37  constant_1             1000 non-null   object  \n",
      " 38  constant_2             1000 non-null   object  \n",
      " 39  semi_constant_1        1000 non-null   object  \n",
      " 40  semi_constant_2        1000 non-null   object  \n",
      "dtypes: category(3), float64(18), int64(1), object(19)\n",
      "memory usage: 300.5+ KB\n",
      "None\n"
     ]
    }
   ],
   "source": [
    "print(df.info())  # check your work"
   ]
  },
  {
   "cell_type": "code",
   "execution_count": 83,
   "metadata": {
    "colab": {
     "base_uri": "https://localhost:8080/",
     "height": 1000
    },
    "id": "CiFb0YwCXupw",
    "outputId": "db33af72-79c4-47ad-8d4d-d13791e3ebc0"
   },
   "outputs": [
    {
     "name": "stdout",
     "output_type": "stream",
     "text": [
      "(1010, 41)\n",
      "<class 'pandas.core.frame.DataFrame'>\n",
      "Index: 1010 entries, 0 to 9\n",
      "Data columns (total 41 columns):\n",
      " #   Column                 Non-Null Count  Dtype   \n",
      "---  ------                 --------------  -----   \n",
      " 0   binary                 670 non-null    object  \n",
      " 1   given_name             863 non-null    object  \n",
      " 2   surname                674 non-null    object  \n",
      " 3   date_of_birth          668 non-null    object  \n",
      " 4   phone_number           637 non-null    object  \n",
      " 5   email                  255 non-null    object  \n",
      " 6   address                722 non-null    object  \n",
      " 7   city                   867 non-null    object  \n",
      " 8   state                  316 non-null    object  \n",
      " 9   zipcode                367 non-null    object  \n",
      " 10  min max scaling        567 non-null    float64 \n",
      " 11  random label num 3     766 non-null    object  \n",
      " 12  target                 1010 non-null   float64 \n",
      " 13  random label num 12    563 non-null    object  \n",
      " 14  semi_constant_2        1010 non-null   object  \n",
      " 15  uniform corr 2         507 non-null    float64 \n",
      " 16  corr_feature_class     706 non-null    float64 \n",
      " 17  constant_1             1010 non-null   object  \n",
      " 18  semi_constant_1        1010 non-null   object  \n",
      " 19  pd qcut2               909 non-null    category\n",
      " 20  correlated w target 2  407 non-null    float64 \n",
      " 21  informative_2          1010 non-null   float64 \n",
      " 22  outliers 1             908 non-null    float64 \n",
      " 23  duplicate_2            1010 non-null   float64 \n",
      " 24  random choice 7        704 non-null    object  \n",
      " 25  random choice 2        960 non-null    object  \n",
      " 26  duplicate_1            1010 non-null   float64 \n",
      " 27  pd qcut1               724 non-null    category\n",
      " 28  standard scaling       733 non-null    float64 \n",
      " 29  outliers 2             350 non-null    float64 \n",
      " 30  pd qcut3               910 non-null    category\n",
      " 31  constant_2             1010 non-null   object  \n",
      " 32  correlated w target 1  1010 non-null   float64 \n",
      " 33  informative_1          1010 non-null   float64 \n",
      " 34  uniform corr 1         508 non-null    float64 \n",
      " 35  multicollinearity 4    909 non-null    float64 \n",
      " 36  multicollinearity 2    566 non-null    float64 \n",
      " 37  multicollinearity 3    564 non-null    float64 \n",
      " 38  multicollinearity 1    642 non-null    float64 \n",
      " 39  random choice 4        353 non-null    object  \n",
      " 40  class                  1010 non-null   int64   \n",
      "dtypes: category(3), float64(18), int64(1), object(19)\n",
      "memory usage: 311.2+ KB\n",
      "None\n"
     ]
    },
    {
     "data": {
      "text/html": [
       "<div>\n",
       "<style scoped>\n",
       "    .dataframe tbody tr th:only-of-type {\n",
       "        vertical-align: middle;\n",
       "    }\n",
       "\n",
       "    .dataframe tbody tr th {\n",
       "        vertical-align: top;\n",
       "    }\n",
       "\n",
       "    .dataframe thead th {\n",
       "        text-align: right;\n",
       "    }\n",
       "</style>\n",
       "<table border=\"1\" class=\"dataframe\">\n",
       "  <thead>\n",
       "    <tr style=\"text-align: right;\">\n",
       "      <th></th>\n",
       "      <th>binary</th>\n",
       "      <th>given_name</th>\n",
       "      <th>surname</th>\n",
       "      <th>date_of_birth</th>\n",
       "      <th>phone_number</th>\n",
       "      <th>email</th>\n",
       "      <th>address</th>\n",
       "      <th>city</th>\n",
       "      <th>state</th>\n",
       "      <th>zipcode</th>\n",
       "      <th>...</th>\n",
       "      <th>constant_2</th>\n",
       "      <th>correlated w target 1</th>\n",
       "      <th>informative_1</th>\n",
       "      <th>uniform corr 1</th>\n",
       "      <th>multicollinearity 4</th>\n",
       "      <th>multicollinearity 2</th>\n",
       "      <th>multicollinearity 3</th>\n",
       "      <th>multicollinearity 1</th>\n",
       "      <th>random choice 4</th>\n",
       "      <th>class</th>\n",
       "    </tr>\n",
       "  </thead>\n",
       "  <tbody>\n",
       "    <tr>\n",
       "      <th>0</th>\n",
       "      <td>NaN</td>\n",
       "      <td>NaN</td>\n",
       "      <td>NaN</td>\n",
       "      <td>NaN</td>\n",
       "      <td>001-772-621-0819x940</td>\n",
       "      <td>NaN</td>\n",
       "      <td>220 Parker Glens Suite 068</td>\n",
       "      <td>Johnchester</td>\n",
       "      <td>WV</td>\n",
       "      <td>88403</td>\n",
       "      <td>...</td>\n",
       "      <td>constant_value</td>\n",
       "      <td>-2.132249</td>\n",
       "      <td>-0.999102</td>\n",
       "      <td>0.370691</td>\n",
       "      <td>NaN</td>\n",
       "      <td>-0.483897</td>\n",
       "      <td>NaN</td>\n",
       "      <td>-0.421760</td>\n",
       "      <td>NaN</td>\n",
       "      <td>1</td>\n",
       "    </tr>\n",
       "    <tr>\n",
       "      <th>1</th>\n",
       "      <td>NaN</td>\n",
       "      <td>Robert</td>\n",
       "      <td>NaN</td>\n",
       "      <td>1975-03-26</td>\n",
       "      <td>NaN</td>\n",
       "      <td>NaN</td>\n",
       "      <td>1042 Walter Mount</td>\n",
       "      <td>Meredithchester</td>\n",
       "      <td>NaN</td>\n",
       "      <td>99336</td>\n",
       "      <td>...</td>\n",
       "      <td>constant_value</td>\n",
       "      <td>0.034901</td>\n",
       "      <td>1.246686</td>\n",
       "      <td>0.665893</td>\n",
       "      <td>1.281992</td>\n",
       "      <td>NaN</td>\n",
       "      <td>NaN</td>\n",
       "      <td>0.099843</td>\n",
       "      <td>NaN</td>\n",
       "      <td>1</td>\n",
       "    </tr>\n",
       "    <tr>\n",
       "      <th>2</th>\n",
       "      <td>binary_2</td>\n",
       "      <td>William</td>\n",
       "      <td>NaN</td>\n",
       "      <td>2022-09-11</td>\n",
       "      <td>NaN</td>\n",
       "      <td>ramirezerin@example.org</td>\n",
       "      <td>NaN</td>\n",
       "      <td>NaN</td>\n",
       "      <td>NaN</td>\n",
       "      <td>NaN</td>\n",
       "      <td>...</td>\n",
       "      <td>constant_value</td>\n",
       "      <td>2.187985</td>\n",
       "      <td>0.962777</td>\n",
       "      <td>0.635720</td>\n",
       "      <td>-1.456861</td>\n",
       "      <td>NaN</td>\n",
       "      <td>-1.650001</td>\n",
       "      <td>NaN</td>\n",
       "      <td>NaN</td>\n",
       "      <td>1</td>\n",
       "    </tr>\n",
       "    <tr>\n",
       "      <th>3</th>\n",
       "      <td>binary_2</td>\n",
       "      <td>NaN</td>\n",
       "      <td>Montgomery</td>\n",
       "      <td>2005-02-02</td>\n",
       "      <td>749.232.2439</td>\n",
       "      <td>NaN</td>\n",
       "      <td>NaN</td>\n",
       "      <td>West Peter</td>\n",
       "      <td>NaN</td>\n",
       "      <td>NaN</td>\n",
       "      <td>...</td>\n",
       "      <td>constant_value</td>\n",
       "      <td>1.128210</td>\n",
       "      <td>-2.957441</td>\n",
       "      <td>0.899028</td>\n",
       "      <td>-0.156268</td>\n",
       "      <td>NaN</td>\n",
       "      <td>-1.212587</td>\n",
       "      <td>NaN</td>\n",
       "      <td>East</td>\n",
       "      <td>1</td>\n",
       "    </tr>\n",
       "    <tr>\n",
       "      <th>4</th>\n",
       "      <td>binary_1</td>\n",
       "      <td>Brianna</td>\n",
       "      <td>Price</td>\n",
       "      <td>1922-03-17</td>\n",
       "      <td>NaN</td>\n",
       "      <td>NaN</td>\n",
       "      <td>2596 Velazquez Fords</td>\n",
       "      <td>Johnsonshire</td>\n",
       "      <td>MT</td>\n",
       "      <td>05527</td>\n",
       "      <td>...</td>\n",
       "      <td>constant_value</td>\n",
       "      <td>1.962211</td>\n",
       "      <td>1.141165</td>\n",
       "      <td>NaN</td>\n",
       "      <td>-0.561054</td>\n",
       "      <td>NaN</td>\n",
       "      <td>NaN</td>\n",
       "      <td>NaN</td>\n",
       "      <td>NaN</td>\n",
       "      <td>1</td>\n",
       "    </tr>\n",
       "  </tbody>\n",
       "</table>\n",
       "<p>5 rows × 41 columns</p>\n",
       "</div>"
      ],
      "text/plain": [
       "     binary given_name     surname date_of_birth          phone_number  \\\n",
       "0       NaN        NaN         NaN           NaN  001-772-621-0819x940   \n",
       "1       NaN     Robert         NaN    1975-03-26                   NaN   \n",
       "2  binary_2    William         NaN    2022-09-11                   NaN   \n",
       "3  binary_2        NaN  Montgomery    2005-02-02          749.232.2439   \n",
       "4  binary_1    Brianna       Price    1922-03-17                   NaN   \n",
       "\n",
       "                     email                     address             city state  \\\n",
       "0                      NaN  220 Parker Glens Suite 068      Johnchester    WV   \n",
       "1                      NaN           1042 Walter Mount  Meredithchester   NaN   \n",
       "2  ramirezerin@example.org                         NaN              NaN   NaN   \n",
       "3                      NaN                         NaN       West Peter   NaN   \n",
       "4                      NaN        2596 Velazquez Fords     Johnsonshire    MT   \n",
       "\n",
       "  zipcode  ...      constant_2 correlated w target 1  informative_1  \\\n",
       "0   88403  ...  constant_value             -2.132249      -0.999102   \n",
       "1   99336  ...  constant_value              0.034901       1.246686   \n",
       "2     NaN  ...  constant_value              2.187985       0.962777   \n",
       "3     NaN  ...  constant_value              1.128210      -2.957441   \n",
       "4   05527  ...  constant_value              1.962211       1.141165   \n",
       "\n",
       "  uniform corr 1 multicollinearity 4  multicollinearity 2  \\\n",
       "0       0.370691                 NaN            -0.483897   \n",
       "1       0.665893            1.281992                  NaN   \n",
       "2       0.635720           -1.456861                  NaN   \n",
       "3       0.899028           -0.156268                  NaN   \n",
       "4            NaN           -0.561054                  NaN   \n",
       "\n",
       "   multicollinearity 3 multicollinearity 1 random choice 4 class  \n",
       "0                  NaN           -0.421760             NaN     1  \n",
       "1                  NaN            0.099843             NaN     1  \n",
       "2            -1.650001                 NaN             NaN     1  \n",
       "3            -1.212587                 NaN            East     1  \n",
       "4                  NaN                 NaN             NaN     1  \n",
       "\n",
       "[5 rows x 41 columns]"
      ]
     },
     "execution_count": 83,
     "metadata": {},
     "output_type": "execute_result"
    }
   ],
   "source": [
    "# add duplicates\n",
    "dupes = df.loc[0:9]\n",
    "df = pd.concat([df, dupes], axis=0)\n",
    "\n",
    "# shuffle all columns\n",
    "# df = df.sample(frac=1).reset_index(drop=True)\n",
    "# df = df.sample(frac=1, axis=1)\n",
    "\n",
    "# shuffle selected columns\n",
    "demographic_columns = demographics.columns\n",
    "remaining_columns = [col for col in df.columns if col not in demographic_columns]\n",
    "# print(remaining_columns)\n",
    "np.random.shuffle(remaining_columns)\n",
    "\n",
    "# Reassemble the DataFrame with the shuffled columns\n",
    "df = df[list(demographic_columns) + list(remaining_columns)]\n",
    "\n",
    "# move target to the end of the list\n",
    "class_var = 'class'\n",
    "df = df[df.drop('class', axis=1).columns.tolist() + [class_var]]\n",
    "\n",
    "print(df.shape)\n",
    "print(df.info())\n",
    "df.head()"
   ]
  },
  {
   "cell_type": "code",
   "execution_count": 84,
   "metadata": {},
   "outputs": [],
   "source": [
    "from pathlib import Path\n",
    "\n",
    "# Ensure the directory exists\n",
    "Path(\"development/datasets\").mkdir(parents=True, exist_ok=True)"
   ]
  },
  {
   "cell_type": "code",
   "execution_count": 85,
   "metadata": {
    "id": "Legtg7PmvNor"
   },
   "outputs": [],
   "source": [
    "df.to_csv('development/datasets/created_raw_data.csv', index=False)"
   ]
  },
  {
   "cell_type": "markdown",
   "metadata": {
    "id": "Qkomq9RKTv9E"
   },
   "source": [
    "# Part 2 - Exploratory Data Analysis (EDA)\n",
    "\n",
    "Exploratory data analysis (EDA) is a data analysis method that helps data scientists understand their data and identify patterns. It's often used as the first step in data analysis."
   ]
  },
  {
   "cell_type": "markdown",
   "metadata": {
    "id": "nDvqqYpHshxX"
   },
   "source": [
    "## Load Data"
   ]
  },
  {
   "cell_type": "code",
   "execution_count": 86,
   "metadata": {
    "id": "KwzNuey3sjtd"
   },
   "outputs": [
    {
     "name": "stdout",
     "output_type": "stream",
     "text": [
      "(1010, 41)\n",
      "<class 'pandas.core.frame.DataFrame'>\n",
      "RangeIndex: 1010 entries, 0 to 1009\n",
      "Data columns (total 41 columns):\n",
      " #   Column                 Non-Null Count  Dtype  \n",
      "---  ------                 --------------  -----  \n",
      " 0   binary                 670 non-null    object \n",
      " 1   given_name             863 non-null    object \n",
      " 2   surname                674 non-null    object \n",
      " 3   date_of_birth          668 non-null    object \n",
      " 4   phone_number           637 non-null    object \n",
      " 5   email                  255 non-null    object \n",
      " 6   address                722 non-null    object \n",
      " 7   city                   867 non-null    object \n",
      " 8   state                  316 non-null    object \n",
      " 9   zipcode                367 non-null    float64\n",
      " 10  min max scaling        567 non-null    float64\n",
      " 11  random label num 3     766 non-null    object \n",
      " 12  target                 1010 non-null   float64\n",
      " 13  random label num 12    563 non-null    object \n",
      " 14  semi_constant_2        1010 non-null   object \n",
      " 15  uniform corr 2         507 non-null    float64\n",
      " 16  corr_feature_class     706 non-null    float64\n",
      " 17  constant_1             1010 non-null   object \n",
      " 18  semi_constant_1        1010 non-null   object \n",
      " 19  pd qcut2               909 non-null    object \n",
      " 20  correlated w target 2  407 non-null    float64\n",
      " 21  informative_2          1010 non-null   float64\n",
      " 22  outliers 1             908 non-null    float64\n",
      " 23  duplicate_2            1010 non-null   float64\n",
      " 24  random choice 7        704 non-null    object \n",
      " 25  random choice 2        960 non-null    object \n",
      " 26  duplicate_1            1010 non-null   float64\n",
      " 27  pd qcut1               724 non-null    object \n",
      " 28  standard scaling       733 non-null    float64\n",
      " 29  outliers 2             350 non-null    float64\n",
      " 30  pd qcut3               910 non-null    object \n",
      " 31  constant_2             1010 non-null   object \n",
      " 32  correlated w target 1  1010 non-null   float64\n",
      " 33  informative_1          1010 non-null   float64\n",
      " 34  uniform corr 1         508 non-null    float64\n",
      " 35  multicollinearity 4    909 non-null    float64\n",
      " 36  multicollinearity 2    566 non-null    float64\n",
      " 37  multicollinearity 3    564 non-null    float64\n",
      " 38  multicollinearity 1    642 non-null    float64\n",
      " 39  random choice 4        353 non-null    object \n",
      " 40  class                  1010 non-null   int64  \n",
      "dtypes: float64(19), int64(1), object(21)\n",
      "memory usage: 323.6+ KB\n",
      "None\n"
     ]
    },
    {
     "data": {
      "text/html": [
       "<div>\n",
       "<style scoped>\n",
       "    .dataframe tbody tr th:only-of-type {\n",
       "        vertical-align: middle;\n",
       "    }\n",
       "\n",
       "    .dataframe tbody tr th {\n",
       "        vertical-align: top;\n",
       "    }\n",
       "\n",
       "    .dataframe thead th {\n",
       "        text-align: right;\n",
       "    }\n",
       "</style>\n",
       "<table border=\"1\" class=\"dataframe\">\n",
       "  <thead>\n",
       "    <tr style=\"text-align: right;\">\n",
       "      <th></th>\n",
       "      <th>binary</th>\n",
       "      <th>given_name</th>\n",
       "      <th>surname</th>\n",
       "      <th>date_of_birth</th>\n",
       "      <th>phone_number</th>\n",
       "      <th>email</th>\n",
       "      <th>address</th>\n",
       "      <th>city</th>\n",
       "      <th>state</th>\n",
       "      <th>zipcode</th>\n",
       "      <th>...</th>\n",
       "      <th>constant_2</th>\n",
       "      <th>correlated w target 1</th>\n",
       "      <th>informative_1</th>\n",
       "      <th>uniform corr 1</th>\n",
       "      <th>multicollinearity 4</th>\n",
       "      <th>multicollinearity 2</th>\n",
       "      <th>multicollinearity 3</th>\n",
       "      <th>multicollinearity 1</th>\n",
       "      <th>random choice 4</th>\n",
       "      <th>class</th>\n",
       "    </tr>\n",
       "  </thead>\n",
       "  <tbody>\n",
       "    <tr>\n",
       "      <th>0</th>\n",
       "      <td>NaN</td>\n",
       "      <td>NaN</td>\n",
       "      <td>NaN</td>\n",
       "      <td>NaN</td>\n",
       "      <td>001-772-621-0819x940</td>\n",
       "      <td>NaN</td>\n",
       "      <td>220 Parker Glens Suite 068</td>\n",
       "      <td>Johnchester</td>\n",
       "      <td>WV</td>\n",
       "      <td>88403.0</td>\n",
       "      <td>...</td>\n",
       "      <td>constant_value</td>\n",
       "      <td>-2.132249</td>\n",
       "      <td>-0.999102</td>\n",
       "      <td>0.370691</td>\n",
       "      <td>NaN</td>\n",
       "      <td>-0.483897</td>\n",
       "      <td>NaN</td>\n",
       "      <td>-0.421760</td>\n",
       "      <td>NaN</td>\n",
       "      <td>1</td>\n",
       "    </tr>\n",
       "    <tr>\n",
       "      <th>1</th>\n",
       "      <td>NaN</td>\n",
       "      <td>Robert</td>\n",
       "      <td>NaN</td>\n",
       "      <td>1975-03-26</td>\n",
       "      <td>NaN</td>\n",
       "      <td>NaN</td>\n",
       "      <td>1042 Walter Mount</td>\n",
       "      <td>Meredithchester</td>\n",
       "      <td>NaN</td>\n",
       "      <td>99336.0</td>\n",
       "      <td>...</td>\n",
       "      <td>constant_value</td>\n",
       "      <td>0.034901</td>\n",
       "      <td>1.246686</td>\n",
       "      <td>0.665893</td>\n",
       "      <td>1.281992</td>\n",
       "      <td>NaN</td>\n",
       "      <td>NaN</td>\n",
       "      <td>0.099843</td>\n",
       "      <td>NaN</td>\n",
       "      <td>1</td>\n",
       "    </tr>\n",
       "    <tr>\n",
       "      <th>2</th>\n",
       "      <td>binary_2</td>\n",
       "      <td>William</td>\n",
       "      <td>NaN</td>\n",
       "      <td>2022-09-11</td>\n",
       "      <td>NaN</td>\n",
       "      <td>ramirezerin@example.org</td>\n",
       "      <td>NaN</td>\n",
       "      <td>NaN</td>\n",
       "      <td>NaN</td>\n",
       "      <td>NaN</td>\n",
       "      <td>...</td>\n",
       "      <td>constant_value</td>\n",
       "      <td>2.187985</td>\n",
       "      <td>0.962777</td>\n",
       "      <td>0.635720</td>\n",
       "      <td>-1.456861</td>\n",
       "      <td>NaN</td>\n",
       "      <td>-1.650001</td>\n",
       "      <td>NaN</td>\n",
       "      <td>NaN</td>\n",
       "      <td>1</td>\n",
       "    </tr>\n",
       "    <tr>\n",
       "      <th>3</th>\n",
       "      <td>binary_2</td>\n",
       "      <td>NaN</td>\n",
       "      <td>Montgomery</td>\n",
       "      <td>2005-02-02</td>\n",
       "      <td>749.232.2439</td>\n",
       "      <td>NaN</td>\n",
       "      <td>NaN</td>\n",
       "      <td>West Peter</td>\n",
       "      <td>NaN</td>\n",
       "      <td>NaN</td>\n",
       "      <td>...</td>\n",
       "      <td>constant_value</td>\n",
       "      <td>1.128210</td>\n",
       "      <td>-2.957441</td>\n",
       "      <td>0.899028</td>\n",
       "      <td>-0.156268</td>\n",
       "      <td>NaN</td>\n",
       "      <td>-1.212587</td>\n",
       "      <td>NaN</td>\n",
       "      <td>East</td>\n",
       "      <td>1</td>\n",
       "    </tr>\n",
       "    <tr>\n",
       "      <th>4</th>\n",
       "      <td>binary_1</td>\n",
       "      <td>Brianna</td>\n",
       "      <td>Price</td>\n",
       "      <td>1922-03-17</td>\n",
       "      <td>NaN</td>\n",
       "      <td>NaN</td>\n",
       "      <td>2596 Velazquez Fords</td>\n",
       "      <td>Johnsonshire</td>\n",
       "      <td>MT</td>\n",
       "      <td>5527.0</td>\n",
       "      <td>...</td>\n",
       "      <td>constant_value</td>\n",
       "      <td>1.962211</td>\n",
       "      <td>1.141165</td>\n",
       "      <td>NaN</td>\n",
       "      <td>-0.561054</td>\n",
       "      <td>NaN</td>\n",
       "      <td>NaN</td>\n",
       "      <td>NaN</td>\n",
       "      <td>NaN</td>\n",
       "      <td>1</td>\n",
       "    </tr>\n",
       "  </tbody>\n",
       "</table>\n",
       "<p>5 rows × 41 columns</p>\n",
       "</div>"
      ],
      "text/plain": [
       "     binary given_name     surname date_of_birth          phone_number  \\\n",
       "0       NaN        NaN         NaN           NaN  001-772-621-0819x940   \n",
       "1       NaN     Robert         NaN    1975-03-26                   NaN   \n",
       "2  binary_2    William         NaN    2022-09-11                   NaN   \n",
       "3  binary_2        NaN  Montgomery    2005-02-02          749.232.2439   \n",
       "4  binary_1    Brianna       Price    1922-03-17                   NaN   \n",
       "\n",
       "                     email                     address             city state  \\\n",
       "0                      NaN  220 Parker Glens Suite 068      Johnchester    WV   \n",
       "1                      NaN           1042 Walter Mount  Meredithchester   NaN   \n",
       "2  ramirezerin@example.org                         NaN              NaN   NaN   \n",
       "3                      NaN                         NaN       West Peter   NaN   \n",
       "4                      NaN        2596 Velazquez Fords     Johnsonshire    MT   \n",
       "\n",
       "   zipcode  ...      constant_2 correlated w target 1  informative_1  \\\n",
       "0  88403.0  ...  constant_value             -2.132249      -0.999102   \n",
       "1  99336.0  ...  constant_value              0.034901       1.246686   \n",
       "2      NaN  ...  constant_value              2.187985       0.962777   \n",
       "3      NaN  ...  constant_value              1.128210      -2.957441   \n",
       "4   5527.0  ...  constant_value              1.962211       1.141165   \n",
       "\n",
       "  uniform corr 1 multicollinearity 4  multicollinearity 2  \\\n",
       "0       0.370691                 NaN            -0.483897   \n",
       "1       0.665893            1.281992                  NaN   \n",
       "2       0.635720           -1.456861                  NaN   \n",
       "3       0.899028           -0.156268                  NaN   \n",
       "4            NaN           -0.561054                  NaN   \n",
       "\n",
       "   multicollinearity 3 multicollinearity 1 random choice 4 class  \n",
       "0                  NaN           -0.421760             NaN     1  \n",
       "1                  NaN            0.099843             NaN     1  \n",
       "2            -1.650001                 NaN             NaN     1  \n",
       "3            -1.212587                 NaN            East     1  \n",
       "4                  NaN                 NaN             NaN     1  \n",
       "\n",
       "[5 rows x 41 columns]"
      ]
     },
     "execution_count": 86,
     "metadata": {},
     "output_type": "execute_result"
    }
   ],
   "source": [
    "import pandas as pd\n",
    "\n",
    "df = pd.read_csv('development/datasets/created_raw_data.csv')\n",
    "print(df.shape)\n",
    "print(df.info())\n",
    "df.head()"
   ]
  },
  {
   "cell_type": "markdown",
   "metadata": {
    "id": "nMZvDVF51DcG"
   },
   "source": [
    "## Var Types"
   ]
  },
  {
   "cell_type": "code",
   "execution_count": 88,
   "metadata": {
    "colab": {
     "base_uri": "https://localhost:8080/"
    },
    "id": "pVRA3GCN73QV",
    "outputId": "7b0b4a87-7e65-4297-cecb-71c16357f938"
   },
   "outputs": [
    {
     "data": {
      "text/plain": [
       "Index([], dtype='object')"
      ]
     },
     "execution_count": 88,
     "metadata": {},
     "output_type": "execute_result"
    }
   ],
   "source": [
    "df_numerical = df.select_dtypes(include='number').columns\n",
    "df_object = df.select_dtypes(include=['object']).columns\n",
    "df_discreet = df.select_dtypes(include=['category']).columns\n",
    "df_categorical_features = df.select_dtypes(include=['category', 'object']).columns\n",
    "df_discreet"
   ]
  },
  {
   "cell_type": "code",
   "execution_count": 89,
   "metadata": {},
   "outputs": [],
   "source": [
    "import os\n",
    "import pickle\n",
    "\n",
    "# Ensure the directory exists\n",
    "directory = 'development/pickles'\n",
    "os.makedirs(directory, exist_ok=True)\n",
    "\n",
    "# File path\n",
    "file_path = os.path.join(directory, 'var_types.pkl')\n",
    "\n",
    "# Save data\n",
    "data = {'df_numerical': df_numerical, 'df_object': df_object, 'df_discreet': df_discreet, 'df_categorical_features': df_categorical_features}\n",
    "with open(file_path, 'wb') as f:\n",
    "    pickle.dump(data, f)\n"
   ]
  },
  {
   "cell_type": "markdown",
   "metadata": {
    "id": "UlDP5W6MhwA2"
   },
   "source": [
    "## Correlation"
   ]
  },
  {
   "cell_type": "code",
   "execution_count": 90,
   "metadata": {
    "colab": {
     "base_uri": "https://localhost:8080/",
     "height": 717
    },
    "id": "-WOkym8CmK9k",
    "outputId": "24f7c72e-9a74-4f69-e031-fd1522f9d357"
   },
   "outputs": [
    {
     "data": {
      "text/html": [
       "<div>\n",
       "<style scoped>\n",
       "    .dataframe tbody tr th:only-of-type {\n",
       "        vertical-align: middle;\n",
       "    }\n",
       "\n",
       "    .dataframe tbody tr th {\n",
       "        vertical-align: top;\n",
       "    }\n",
       "\n",
       "    .dataframe thead th {\n",
       "        text-align: right;\n",
       "    }\n",
       "</style>\n",
       "<table border=\"1\" class=\"dataframe\">\n",
       "  <thead>\n",
       "    <tr style=\"text-align: right;\">\n",
       "      <th></th>\n",
       "      <th>zipcode</th>\n",
       "      <th>min max scaling</th>\n",
       "      <th>target</th>\n",
       "      <th>uniform corr 2</th>\n",
       "      <th>corr_feature_class</th>\n",
       "      <th>correlated w target 2</th>\n",
       "      <th>informative_2</th>\n",
       "      <th>outliers 1</th>\n",
       "      <th>duplicate_2</th>\n",
       "      <th>duplicate_1</th>\n",
       "      <th>standard scaling</th>\n",
       "      <th>outliers 2</th>\n",
       "      <th>correlated w target 1</th>\n",
       "      <th>informative_1</th>\n",
       "      <th>uniform corr 1</th>\n",
       "      <th>multicollinearity 4</th>\n",
       "      <th>multicollinearity 2</th>\n",
       "      <th>multicollinearity 3</th>\n",
       "      <th>multicollinearity 1</th>\n",
       "      <th>class</th>\n",
       "    </tr>\n",
       "  </thead>\n",
       "  <tbody>\n",
       "    <tr>\n",
       "      <th>zipcode</th>\n",
       "      <td>1.00</td>\n",
       "      <td>-0.01</td>\n",
       "      <td>0.01</td>\n",
       "      <td>0.03</td>\n",
       "      <td>0.04</td>\n",
       "      <td>0.09</td>\n",
       "      <td>0.01</td>\n",
       "      <td>0.03</td>\n",
       "      <td>0.01</td>\n",
       "      <td>0.00</td>\n",
       "      <td>-0.04</td>\n",
       "      <td>0.15</td>\n",
       "      <td>-0.05</td>\n",
       "      <td>0.00</td>\n",
       "      <td>-0.07</td>\n",
       "      <td>-0.00</td>\n",
       "      <td>-0.01</td>\n",
       "      <td>-0.06</td>\n",
       "      <td>0.08</td>\n",
       "      <td>-0.01</td>\n",
       "    </tr>\n",
       "    <tr>\n",
       "      <th>min max scaling</th>\n",
       "      <td>-0.01</td>\n",
       "      <td>1.00</td>\n",
       "      <td>-0.03</td>\n",
       "      <td>0.06</td>\n",
       "      <td>-0.03</td>\n",
       "      <td>0.03</td>\n",
       "      <td>-0.03</td>\n",
       "      <td>0.03</td>\n",
       "      <td>-0.03</td>\n",
       "      <td>-0.00</td>\n",
       "      <td>-0.09</td>\n",
       "      <td>-0.04</td>\n",
       "      <td>0.02</td>\n",
       "      <td>-0.00</td>\n",
       "      <td>-0.07</td>\n",
       "      <td>-0.05</td>\n",
       "      <td>0.01</td>\n",
       "      <td>-0.08</td>\n",
       "      <td>-0.02</td>\n",
       "      <td>0.00</td>\n",
       "    </tr>\n",
       "    <tr>\n",
       "      <th>target</th>\n",
       "      <td>0.01</td>\n",
       "      <td>-0.03</td>\n",
       "      <td>1.00</td>\n",
       "      <td>0.72</td>\n",
       "      <td>0.26</td>\n",
       "      <td>0.71</td>\n",
       "      <td>0.99</td>\n",
       "      <td>-0.06</td>\n",
       "      <td>0.99</td>\n",
       "      <td>-0.03</td>\n",
       "      <td>-0.01</td>\n",
       "      <td>-0.05</td>\n",
       "      <td>0.53</td>\n",
       "      <td>-0.03</td>\n",
       "      <td>0.71</td>\n",
       "      <td>0.02</td>\n",
       "      <td>0.01</td>\n",
       "      <td>0.00</td>\n",
       "      <td>0.02</td>\n",
       "      <td>0.72</td>\n",
       "    </tr>\n",
       "    <tr>\n",
       "      <th>uniform corr 2</th>\n",
       "      <td>0.03</td>\n",
       "      <td>0.06</td>\n",
       "      <td>0.72</td>\n",
       "      <td>1.00</td>\n",
       "      <td>0.24</td>\n",
       "      <td>0.52</td>\n",
       "      <td>0.71</td>\n",
       "      <td>-0.03</td>\n",
       "      <td>0.71</td>\n",
       "      <td>-0.00</td>\n",
       "      <td>-0.07</td>\n",
       "      <td>-0.01</td>\n",
       "      <td>0.42</td>\n",
       "      <td>-0.00</td>\n",
       "      <td>0.60</td>\n",
       "      <td>0.02</td>\n",
       "      <td>0.09</td>\n",
       "      <td>-0.02</td>\n",
       "      <td>-0.01</td>\n",
       "      <td>0.55</td>\n",
       "    </tr>\n",
       "    <tr>\n",
       "      <th>corr_feature_class</th>\n",
       "      <td>0.04</td>\n",
       "      <td>-0.03</td>\n",
       "      <td>0.26</td>\n",
       "      <td>0.24</td>\n",
       "      <td>1.00</td>\n",
       "      <td>0.26</td>\n",
       "      <td>0.25</td>\n",
       "      <td>-0.02</td>\n",
       "      <td>0.25</td>\n",
       "      <td>-0.02</td>\n",
       "      <td>0.06</td>\n",
       "      <td>-0.08</td>\n",
       "      <td>0.09</td>\n",
       "      <td>-0.02</td>\n",
       "      <td>0.17</td>\n",
       "      <td>0.02</td>\n",
       "      <td>-0.07</td>\n",
       "      <td>0.04</td>\n",
       "      <td>0.06</td>\n",
       "      <td>0.39</td>\n",
       "    </tr>\n",
       "    <tr>\n",
       "      <th>correlated w target 2</th>\n",
       "      <td>0.09</td>\n",
       "      <td>0.03</td>\n",
       "      <td>0.71</td>\n",
       "      <td>0.52</td>\n",
       "      <td>0.26</td>\n",
       "      <td>1.00</td>\n",
       "      <td>0.70</td>\n",
       "      <td>-0.01</td>\n",
       "      <td>0.70</td>\n",
       "      <td>-0.04</td>\n",
       "      <td>0.04</td>\n",
       "      <td>0.09</td>\n",
       "      <td>0.39</td>\n",
       "      <td>-0.04</td>\n",
       "      <td>0.59</td>\n",
       "      <td>0.04</td>\n",
       "      <td>0.08</td>\n",
       "      <td>0.00</td>\n",
       "      <td>0.07</td>\n",
       "      <td>0.56</td>\n",
       "    </tr>\n",
       "    <tr>\n",
       "      <th>informative_2</th>\n",
       "      <td>0.01</td>\n",
       "      <td>-0.03</td>\n",
       "      <td>0.99</td>\n",
       "      <td>0.71</td>\n",
       "      <td>0.25</td>\n",
       "      <td>0.70</td>\n",
       "      <td>1.00</td>\n",
       "      <td>-0.06</td>\n",
       "      <td>1.00</td>\n",
       "      <td>0.10</td>\n",
       "      <td>-0.02</td>\n",
       "      <td>-0.06</td>\n",
       "      <td>0.53</td>\n",
       "      <td>0.10</td>\n",
       "      <td>0.70</td>\n",
       "      <td>0.02</td>\n",
       "      <td>0.01</td>\n",
       "      <td>-0.00</td>\n",
       "      <td>0.03</td>\n",
       "      <td>0.72</td>\n",
       "    </tr>\n",
       "    <tr>\n",
       "      <th>outliers 1</th>\n",
       "      <td>0.03</td>\n",
       "      <td>0.03</td>\n",
       "      <td>-0.06</td>\n",
       "      <td>-0.03</td>\n",
       "      <td>-0.02</td>\n",
       "      <td>-0.01</td>\n",
       "      <td>-0.06</td>\n",
       "      <td>1.00</td>\n",
       "      <td>-0.06</td>\n",
       "      <td>0.01</td>\n",
       "      <td>0.01</td>\n",
       "      <td>-0.03</td>\n",
       "      <td>0.01</td>\n",
       "      <td>0.01</td>\n",
       "      <td>-0.04</td>\n",
       "      <td>0.04</td>\n",
       "      <td>-0.07</td>\n",
       "      <td>0.01</td>\n",
       "      <td>-0.04</td>\n",
       "      <td>-0.04</td>\n",
       "    </tr>\n",
       "    <tr>\n",
       "      <th>duplicate_2</th>\n",
       "      <td>0.01</td>\n",
       "      <td>-0.03</td>\n",
       "      <td>0.99</td>\n",
       "      <td>0.71</td>\n",
       "      <td>0.25</td>\n",
       "      <td>0.70</td>\n",
       "      <td>1.00</td>\n",
       "      <td>-0.06</td>\n",
       "      <td>1.00</td>\n",
       "      <td>0.10</td>\n",
       "      <td>-0.02</td>\n",
       "      <td>-0.06</td>\n",
       "      <td>0.53</td>\n",
       "      <td>0.10</td>\n",
       "      <td>0.70</td>\n",
       "      <td>0.02</td>\n",
       "      <td>0.01</td>\n",
       "      <td>-0.00</td>\n",
       "      <td>0.03</td>\n",
       "      <td>0.72</td>\n",
       "    </tr>\n",
       "    <tr>\n",
       "      <th>duplicate_1</th>\n",
       "      <td>0.00</td>\n",
       "      <td>-0.00</td>\n",
       "      <td>-0.03</td>\n",
       "      <td>-0.00</td>\n",
       "      <td>-0.02</td>\n",
       "      <td>-0.04</td>\n",
       "      <td>0.10</td>\n",
       "      <td>0.01</td>\n",
       "      <td>0.10</td>\n",
       "      <td>1.00</td>\n",
       "      <td>-0.04</td>\n",
       "      <td>-0.08</td>\n",
       "      <td>-0.02</td>\n",
       "      <td>1.00</td>\n",
       "      <td>-0.04</td>\n",
       "      <td>-0.02</td>\n",
       "      <td>0.02</td>\n",
       "      <td>-0.02</td>\n",
       "      <td>0.02</td>\n",
       "      <td>-0.01</td>\n",
       "    </tr>\n",
       "    <tr>\n",
       "      <th>standard scaling</th>\n",
       "      <td>-0.04</td>\n",
       "      <td>-0.09</td>\n",
       "      <td>-0.01</td>\n",
       "      <td>-0.07</td>\n",
       "      <td>0.06</td>\n",
       "      <td>0.04</td>\n",
       "      <td>-0.02</td>\n",
       "      <td>0.01</td>\n",
       "      <td>-0.02</td>\n",
       "      <td>-0.04</td>\n",
       "      <td>1.00</td>\n",
       "      <td>0.04</td>\n",
       "      <td>-0.01</td>\n",
       "      <td>-0.04</td>\n",
       "      <td>-0.01</td>\n",
       "      <td>0.05</td>\n",
       "      <td>0.04</td>\n",
       "      <td>0.01</td>\n",
       "      <td>0.01</td>\n",
       "      <td>0.00</td>\n",
       "    </tr>\n",
       "    <tr>\n",
       "      <th>outliers 2</th>\n",
       "      <td>0.15</td>\n",
       "      <td>-0.04</td>\n",
       "      <td>-0.05</td>\n",
       "      <td>-0.01</td>\n",
       "      <td>-0.08</td>\n",
       "      <td>0.09</td>\n",
       "      <td>-0.06</td>\n",
       "      <td>-0.03</td>\n",
       "      <td>-0.06</td>\n",
       "      <td>-0.08</td>\n",
       "      <td>0.04</td>\n",
       "      <td>1.00</td>\n",
       "      <td>0.03</td>\n",
       "      <td>-0.08</td>\n",
       "      <td>-0.12</td>\n",
       "      <td>-0.01</td>\n",
       "      <td>0.26</td>\n",
       "      <td>0.10</td>\n",
       "      <td>0.10</td>\n",
       "      <td>-0.06</td>\n",
       "    </tr>\n",
       "    <tr>\n",
       "      <th>correlated w target 1</th>\n",
       "      <td>-0.05</td>\n",
       "      <td>0.02</td>\n",
       "      <td>0.53</td>\n",
       "      <td>0.42</td>\n",
       "      <td>0.09</td>\n",
       "      <td>0.39</td>\n",
       "      <td>0.53</td>\n",
       "      <td>0.01</td>\n",
       "      <td>0.53</td>\n",
       "      <td>-0.02</td>\n",
       "      <td>-0.01</td>\n",
       "      <td>0.03</td>\n",
       "      <td>1.00</td>\n",
       "      <td>-0.02</td>\n",
       "      <td>0.35</td>\n",
       "      <td>-0.01</td>\n",
       "      <td>-0.01</td>\n",
       "      <td>-0.08</td>\n",
       "      <td>0.01</td>\n",
       "      <td>0.35</td>\n",
       "    </tr>\n",
       "    <tr>\n",
       "      <th>informative_1</th>\n",
       "      <td>0.00</td>\n",
       "      <td>-0.00</td>\n",
       "      <td>-0.03</td>\n",
       "      <td>-0.00</td>\n",
       "      <td>-0.02</td>\n",
       "      <td>-0.04</td>\n",
       "      <td>0.10</td>\n",
       "      <td>0.01</td>\n",
       "      <td>0.10</td>\n",
       "      <td>1.00</td>\n",
       "      <td>-0.04</td>\n",
       "      <td>-0.08</td>\n",
       "      <td>-0.02</td>\n",
       "      <td>1.00</td>\n",
       "      <td>-0.04</td>\n",
       "      <td>-0.02</td>\n",
       "      <td>0.02</td>\n",
       "      <td>-0.02</td>\n",
       "      <td>0.02</td>\n",
       "      <td>-0.01</td>\n",
       "    </tr>\n",
       "    <tr>\n",
       "      <th>uniform corr 1</th>\n",
       "      <td>-0.07</td>\n",
       "      <td>-0.07</td>\n",
       "      <td>0.71</td>\n",
       "      <td>0.60</td>\n",
       "      <td>0.17</td>\n",
       "      <td>0.59</td>\n",
       "      <td>0.70</td>\n",
       "      <td>-0.04</td>\n",
       "      <td>0.70</td>\n",
       "      <td>-0.04</td>\n",
       "      <td>-0.01</td>\n",
       "      <td>-0.12</td>\n",
       "      <td>0.35</td>\n",
       "      <td>-0.04</td>\n",
       "      <td>1.00</td>\n",
       "      <td>-0.01</td>\n",
       "      <td>0.11</td>\n",
       "      <td>-0.07</td>\n",
       "      <td>0.04</td>\n",
       "      <td>0.52</td>\n",
       "    </tr>\n",
       "    <tr>\n",
       "      <th>multicollinearity 4</th>\n",
       "      <td>-0.00</td>\n",
       "      <td>-0.05</td>\n",
       "      <td>0.02</td>\n",
       "      <td>0.02</td>\n",
       "      <td>0.02</td>\n",
       "      <td>0.04</td>\n",
       "      <td>0.02</td>\n",
       "      <td>0.04</td>\n",
       "      <td>0.02</td>\n",
       "      <td>-0.02</td>\n",
       "      <td>0.05</td>\n",
       "      <td>-0.01</td>\n",
       "      <td>-0.01</td>\n",
       "      <td>-0.02</td>\n",
       "      <td>-0.01</td>\n",
       "      <td>1.00</td>\n",
       "      <td>-0.05</td>\n",
       "      <td>0.90</td>\n",
       "      <td>0.02</td>\n",
       "      <td>-0.01</td>\n",
       "    </tr>\n",
       "    <tr>\n",
       "      <th>multicollinearity 2</th>\n",
       "      <td>-0.01</td>\n",
       "      <td>0.01</td>\n",
       "      <td>0.01</td>\n",
       "      <td>0.09</td>\n",
       "      <td>-0.07</td>\n",
       "      <td>0.08</td>\n",
       "      <td>0.01</td>\n",
       "      <td>-0.07</td>\n",
       "      <td>0.01</td>\n",
       "      <td>0.02</td>\n",
       "      <td>0.04</td>\n",
       "      <td>0.26</td>\n",
       "      <td>-0.01</td>\n",
       "      <td>0.02</td>\n",
       "      <td>0.11</td>\n",
       "      <td>-0.05</td>\n",
       "      <td>1.00</td>\n",
       "      <td>-0.05</td>\n",
       "      <td>0.65</td>\n",
       "      <td>0.04</td>\n",
       "    </tr>\n",
       "    <tr>\n",
       "      <th>multicollinearity 3</th>\n",
       "      <td>-0.06</td>\n",
       "      <td>-0.08</td>\n",
       "      <td>0.00</td>\n",
       "      <td>-0.02</td>\n",
       "      <td>0.04</td>\n",
       "      <td>0.00</td>\n",
       "      <td>-0.00</td>\n",
       "      <td>0.01</td>\n",
       "      <td>-0.00</td>\n",
       "      <td>-0.02</td>\n",
       "      <td>0.01</td>\n",
       "      <td>0.10</td>\n",
       "      <td>-0.08</td>\n",
       "      <td>-0.02</td>\n",
       "      <td>-0.07</td>\n",
       "      <td>0.90</td>\n",
       "      <td>-0.05</td>\n",
       "      <td>1.00</td>\n",
       "      <td>-0.07</td>\n",
       "      <td>-0.03</td>\n",
       "    </tr>\n",
       "    <tr>\n",
       "      <th>multicollinearity 1</th>\n",
       "      <td>0.08</td>\n",
       "      <td>-0.02</td>\n",
       "      <td>0.02</td>\n",
       "      <td>-0.01</td>\n",
       "      <td>0.06</td>\n",
       "      <td>0.07</td>\n",
       "      <td>0.03</td>\n",
       "      <td>-0.04</td>\n",
       "      <td>0.03</td>\n",
       "      <td>0.02</td>\n",
       "      <td>0.01</td>\n",
       "      <td>0.10</td>\n",
       "      <td>0.01</td>\n",
       "      <td>0.02</td>\n",
       "      <td>0.04</td>\n",
       "      <td>0.02</td>\n",
       "      <td>0.65</td>\n",
       "      <td>-0.07</td>\n",
       "      <td>1.00</td>\n",
       "      <td>0.04</td>\n",
       "    </tr>\n",
       "    <tr>\n",
       "      <th>class</th>\n",
       "      <td>-0.01</td>\n",
       "      <td>0.00</td>\n",
       "      <td>0.72</td>\n",
       "      <td>0.55</td>\n",
       "      <td>0.39</td>\n",
       "      <td>0.56</td>\n",
       "      <td>0.72</td>\n",
       "      <td>-0.04</td>\n",
       "      <td>0.72</td>\n",
       "      <td>-0.01</td>\n",
       "      <td>0.00</td>\n",
       "      <td>-0.06</td>\n",
       "      <td>0.35</td>\n",
       "      <td>-0.01</td>\n",
       "      <td>0.52</td>\n",
       "      <td>-0.01</td>\n",
       "      <td>0.04</td>\n",
       "      <td>-0.03</td>\n",
       "      <td>0.04</td>\n",
       "      <td>1.00</td>\n",
       "    </tr>\n",
       "  </tbody>\n",
       "</table>\n",
       "</div>"
      ],
      "text/plain": [
       "                       zipcode  min max scaling  target  uniform corr 2  \\\n",
       "zipcode                   1.00            -0.01    0.01            0.03   \n",
       "min max scaling          -0.01             1.00   -0.03            0.06   \n",
       "target                    0.01            -0.03    1.00            0.72   \n",
       "uniform corr 2            0.03             0.06    0.72            1.00   \n",
       "corr_feature_class        0.04            -0.03    0.26            0.24   \n",
       "correlated w target 2     0.09             0.03    0.71            0.52   \n",
       "informative_2             0.01            -0.03    0.99            0.71   \n",
       "outliers 1                0.03             0.03   -0.06           -0.03   \n",
       "duplicate_2               0.01            -0.03    0.99            0.71   \n",
       "duplicate_1               0.00            -0.00   -0.03           -0.00   \n",
       "standard scaling         -0.04            -0.09   -0.01           -0.07   \n",
       "outliers 2                0.15            -0.04   -0.05           -0.01   \n",
       "correlated w target 1    -0.05             0.02    0.53            0.42   \n",
       "informative_1             0.00            -0.00   -0.03           -0.00   \n",
       "uniform corr 1           -0.07            -0.07    0.71            0.60   \n",
       "multicollinearity 4      -0.00            -0.05    0.02            0.02   \n",
       "multicollinearity 2      -0.01             0.01    0.01            0.09   \n",
       "multicollinearity 3      -0.06            -0.08    0.00           -0.02   \n",
       "multicollinearity 1       0.08            -0.02    0.02           -0.01   \n",
       "class                    -0.01             0.00    0.72            0.55   \n",
       "\n",
       "                       corr_feature_class  correlated w target 2  \\\n",
       "zipcode                              0.04                   0.09   \n",
       "min max scaling                     -0.03                   0.03   \n",
       "target                               0.26                   0.71   \n",
       "uniform corr 2                       0.24                   0.52   \n",
       "corr_feature_class                   1.00                   0.26   \n",
       "correlated w target 2                0.26                   1.00   \n",
       "informative_2                        0.25                   0.70   \n",
       "outliers 1                          -0.02                  -0.01   \n",
       "duplicate_2                          0.25                   0.70   \n",
       "duplicate_1                         -0.02                  -0.04   \n",
       "standard scaling                     0.06                   0.04   \n",
       "outliers 2                          -0.08                   0.09   \n",
       "correlated w target 1                0.09                   0.39   \n",
       "informative_1                       -0.02                  -0.04   \n",
       "uniform corr 1                       0.17                   0.59   \n",
       "multicollinearity 4                  0.02                   0.04   \n",
       "multicollinearity 2                 -0.07                   0.08   \n",
       "multicollinearity 3                  0.04                   0.00   \n",
       "multicollinearity 1                  0.06                   0.07   \n",
       "class                                0.39                   0.56   \n",
       "\n",
       "                       informative_2  outliers 1  duplicate_2  duplicate_1  \\\n",
       "zipcode                         0.01        0.03         0.01         0.00   \n",
       "min max scaling                -0.03        0.03        -0.03        -0.00   \n",
       "target                          0.99       -0.06         0.99        -0.03   \n",
       "uniform corr 2                  0.71       -0.03         0.71        -0.00   \n",
       "corr_feature_class              0.25       -0.02         0.25        -0.02   \n",
       "correlated w target 2           0.70       -0.01         0.70        -0.04   \n",
       "informative_2                   1.00       -0.06         1.00         0.10   \n",
       "outliers 1                     -0.06        1.00        -0.06         0.01   \n",
       "duplicate_2                     1.00       -0.06         1.00         0.10   \n",
       "duplicate_1                     0.10        0.01         0.10         1.00   \n",
       "standard scaling               -0.02        0.01        -0.02        -0.04   \n",
       "outliers 2                     -0.06       -0.03        -0.06        -0.08   \n",
       "correlated w target 1           0.53        0.01         0.53        -0.02   \n",
       "informative_1                   0.10        0.01         0.10         1.00   \n",
       "uniform corr 1                  0.70       -0.04         0.70        -0.04   \n",
       "multicollinearity 4             0.02        0.04         0.02        -0.02   \n",
       "multicollinearity 2             0.01       -0.07         0.01         0.02   \n",
       "multicollinearity 3            -0.00        0.01        -0.00        -0.02   \n",
       "multicollinearity 1             0.03       -0.04         0.03         0.02   \n",
       "class                           0.72       -0.04         0.72        -0.01   \n",
       "\n",
       "                       standard scaling  outliers 2  correlated w target 1  \\\n",
       "zipcode                           -0.04        0.15                  -0.05   \n",
       "min max scaling                   -0.09       -0.04                   0.02   \n",
       "target                            -0.01       -0.05                   0.53   \n",
       "uniform corr 2                    -0.07       -0.01                   0.42   \n",
       "corr_feature_class                 0.06       -0.08                   0.09   \n",
       "correlated w target 2              0.04        0.09                   0.39   \n",
       "informative_2                     -0.02       -0.06                   0.53   \n",
       "outliers 1                         0.01       -0.03                   0.01   \n",
       "duplicate_2                       -0.02       -0.06                   0.53   \n",
       "duplicate_1                       -0.04       -0.08                  -0.02   \n",
       "standard scaling                   1.00        0.04                  -0.01   \n",
       "outliers 2                         0.04        1.00                   0.03   \n",
       "correlated w target 1             -0.01        0.03                   1.00   \n",
       "informative_1                     -0.04       -0.08                  -0.02   \n",
       "uniform corr 1                    -0.01       -0.12                   0.35   \n",
       "multicollinearity 4                0.05       -0.01                  -0.01   \n",
       "multicollinearity 2                0.04        0.26                  -0.01   \n",
       "multicollinearity 3                0.01        0.10                  -0.08   \n",
       "multicollinearity 1                0.01        0.10                   0.01   \n",
       "class                              0.00       -0.06                   0.35   \n",
       "\n",
       "                       informative_1  uniform corr 1  multicollinearity 4  \\\n",
       "zipcode                         0.00           -0.07                -0.00   \n",
       "min max scaling                -0.00           -0.07                -0.05   \n",
       "target                         -0.03            0.71                 0.02   \n",
       "uniform corr 2                 -0.00            0.60                 0.02   \n",
       "corr_feature_class             -0.02            0.17                 0.02   \n",
       "correlated w target 2          -0.04            0.59                 0.04   \n",
       "informative_2                   0.10            0.70                 0.02   \n",
       "outliers 1                      0.01           -0.04                 0.04   \n",
       "duplicate_2                     0.10            0.70                 0.02   \n",
       "duplicate_1                     1.00           -0.04                -0.02   \n",
       "standard scaling               -0.04           -0.01                 0.05   \n",
       "outliers 2                     -0.08           -0.12                -0.01   \n",
       "correlated w target 1          -0.02            0.35                -0.01   \n",
       "informative_1                   1.00           -0.04                -0.02   \n",
       "uniform corr 1                 -0.04            1.00                -0.01   \n",
       "multicollinearity 4            -0.02           -0.01                 1.00   \n",
       "multicollinearity 2             0.02            0.11                -0.05   \n",
       "multicollinearity 3            -0.02           -0.07                 0.90   \n",
       "multicollinearity 1             0.02            0.04                 0.02   \n",
       "class                          -0.01            0.52                -0.01   \n",
       "\n",
       "                       multicollinearity 2  multicollinearity 3  \\\n",
       "zipcode                              -0.01                -0.06   \n",
       "min max scaling                       0.01                -0.08   \n",
       "target                                0.01                 0.00   \n",
       "uniform corr 2                        0.09                -0.02   \n",
       "corr_feature_class                   -0.07                 0.04   \n",
       "correlated w target 2                 0.08                 0.00   \n",
       "informative_2                         0.01                -0.00   \n",
       "outliers 1                           -0.07                 0.01   \n",
       "duplicate_2                           0.01                -0.00   \n",
       "duplicate_1                           0.02                -0.02   \n",
       "standard scaling                      0.04                 0.01   \n",
       "outliers 2                            0.26                 0.10   \n",
       "correlated w target 1                -0.01                -0.08   \n",
       "informative_1                         0.02                -0.02   \n",
       "uniform corr 1                        0.11                -0.07   \n",
       "multicollinearity 4                  -0.05                 0.90   \n",
       "multicollinearity 2                   1.00                -0.05   \n",
       "multicollinearity 3                  -0.05                 1.00   \n",
       "multicollinearity 1                   0.65                -0.07   \n",
       "class                                 0.04                -0.03   \n",
       "\n",
       "                       multicollinearity 1  class  \n",
       "zipcode                               0.08  -0.01  \n",
       "min max scaling                      -0.02   0.00  \n",
       "target                                0.02   0.72  \n",
       "uniform corr 2                       -0.01   0.55  \n",
       "corr_feature_class                    0.06   0.39  \n",
       "correlated w target 2                 0.07   0.56  \n",
       "informative_2                         0.03   0.72  \n",
       "outliers 1                           -0.04  -0.04  \n",
       "duplicate_2                           0.03   0.72  \n",
       "duplicate_1                           0.02  -0.01  \n",
       "standard scaling                      0.01   0.00  \n",
       "outliers 2                            0.10  -0.06  \n",
       "correlated w target 1                 0.01   0.35  \n",
       "informative_1                         0.02  -0.01  \n",
       "uniform corr 1                        0.04   0.52  \n",
       "multicollinearity 4                   0.02  -0.01  \n",
       "multicollinearity 2                   0.65   0.04  \n",
       "multicollinearity 3                  -0.07  -0.03  \n",
       "multicollinearity 1                   1.00   0.04  \n",
       "class                                 0.04   1.00  "
      ]
     },
     "execution_count": 90,
     "metadata": {},
     "output_type": "execute_result"
    }
   ],
   "source": [
    "# code along\n",
    "df._get_numeric_data().corr().round(2)"
   ]
  },
  {
   "cell_type": "code",
   "execution_count": 91,
   "metadata": {
    "colab": {
     "base_uri": "https://localhost:8080/",
     "height": 995
    },
    "id": "4MiwGUpVd8AG",
    "outputId": "07301858-4d2f-4074-c0ab-f31e31a1eb9e"
   },
   "outputs": [
    {
     "data": {
      "image/png": "[encoded data removed]",
      "text/plain": [
       "<Figure size 1200x1200 with 2 Axes>"
      ]
     },
     "metadata": {},
     "output_type": "display_data"
    }
   ],
   "source": [
    "# show correlation between the features\n",
    "import numpy as np\n",
    "import matplotlib.pyplot as plt\n",
    "import seaborn as sns\n",
    "\n",
    "# correlation matrix\n",
    "sns.set(style=\"white\")\n",
    "\n",
    "# compute the correlation matrix\n",
    "corr = df._get_numeric_data().corr().round(2)\n",
    "\n",
    "# generate a mask for the upper triangle\n",
    "mask = np.zeros_like(corr, dtype=bool)\n",
    "mask[np.triu_indices_from(mask)] = True\n",
    "\n",
    "# set up the matplotlib figure\n",
    "# f, ax = plt.subplots()\n",
    "f = plt.figure(figsize=(12, 12))\n",
    "\n",
    "# generate a custom diverging colormap\n",
    "cmap = sns.diverging_palette(220, 10, as_cmap=True)\n",
    "\n",
    "# draw the heatmap with the mask and correct aspect ratio\n",
    "sns.heatmap(corr, mask=mask, cmap=cmap, vmax=.3, center=0,\n",
    "            square=True, linewidths=.5, cbar_kws={\"shrink\": .5}, annot=True);\n",
    "\n",
    "plt.tight_layout()"
   ]
  },
  {
   "cell_type": "code",
   "execution_count": 92,
   "metadata": {
    "colab": {
     "base_uri": "https://localhost:8080/"
    },
    "id": "rK9vXDx28Sxc",
    "outputId": "923fcf56-cdcf-47d8-f1fe-55039824ed02"
   },
   "outputs": [
    {
     "name": "stdout",
     "output_type": "stream",
     "text": [
      "                  feature1               feature2  correlation\n",
      "269          informative_1            duplicate_1     1.000000\n",
      "193            duplicate_1          informative_1     1.000000\n",
      "166            duplicate_2          informative_2     1.000000\n",
      "128          informative_2            duplicate_2     1.000000\n",
      "162            duplicate_2                 target     0.991500\n",
      "46                  target          informative_2     0.991500\n",
      "48                  target            duplicate_2     0.991500\n",
      "122          informative_2                 target     0.991500\n",
      "355    multicollinearity 3    multicollinearity 4     0.902198\n",
      "317    multicollinearity 4    multicollinearity 3     0.902198\n",
      "59                  target                  class     0.722662\n",
      "382                  class                 target     0.722662\n",
      "43                  target         uniform corr 2     0.717599\n",
      "62          uniform corr 2                 target     0.717599\n",
      "386                  class          informative_2     0.717481\n",
      "179            duplicate_2                  class     0.717481\n",
      "139          informative_2                  class     0.717481\n",
      "388                  class            duplicate_2     0.717481\n",
      "163            duplicate_2         uniform corr 2     0.714024\n",
      "66          uniform corr 2          informative_2     0.714024\n",
      "68          uniform corr 2            duplicate_2     0.714024\n",
      "123          informative_2         uniform corr 2     0.714024\n",
      "282         uniform corr 1                 target     0.711733\n",
      "54                  target         uniform corr 1     0.711733\n",
      "102  correlated w target 2                 target     0.709359\n",
      "45                  target  correlated w target 2     0.709359\n",
      "108  correlated w target 2            duplicate_2     0.704178\n",
      "125          informative_2  correlated w target 2     0.704178\n",
      "165            duplicate_2  correlated w target 2     0.704178\n",
      "106  correlated w target 2          informative_2     0.704178\n",
      "134          informative_2         uniform corr 1     0.701977\n",
      "286         uniform corr 1          informative_2     0.701977\n",
      "288         uniform corr 1            duplicate_2     0.701977\n",
      "174            duplicate_2         uniform corr 1     0.701977\n",
      "Data saved to development/pickles/correlation_scores.pkl\n"
     ]
    }
   ],
   "source": [
    "import pickle\n",
    "import os\n",
    "\n",
    "# calculate the correlation matrix\n",
    "corr_matrix = df._get_numeric_data().corr()\n",
    "\n",
    "# Create a mask for the upper triangle (to avoid duplicates)\n",
    "mask = np.triu(np.ones_like(corr_matrix, dtype=bool))\n",
    "\n",
    "# Convert the correlation matrix to a long format\n",
    "corr_df = corr_matrix.stack().reset_index()\n",
    "corr_df.columns = ['feature1', 'feature2', 'correlation']\n",
    "\n",
    "# Filter for correlations above a certain threshold (e.g., 0.7)\n",
    "high_corr_df = corr_df[(abs(corr_df['correlation']) > 0.7) & (corr_df['feature1'] != corr_df['feature2'])]\n",
    "\n",
    "# Sort by absolute correlation in descending order\n",
    "high_corr_df = high_corr_df.sort_values(by='correlation', ascending=False, key=abs)\n",
    "\n",
    "# Print the top correlated features\n",
    "# print(high_corr_df['feature1'].to_list()[4:10])\n",
    "print(high_corr_df)\n",
    "\n",
    "# Create a variable to pickle\n",
    "#data = {'correlation scores': high_corr_df}\n",
    "\n",
    "# Pickle the variable and save it to a file\n",
    "directory = 'development/pickles'\n",
    "os.makedirs(directory, exist_ok=True)  # Create the directory if it doesn't exist\n",
    "file_path = os.path.join(directory, 'correlation_scores.pkl')\n",
    "\n",
    "with open(file_path, 'wb') as f:\n",
    "    pickle.dump(data, f)\n",
    "print(f\"Data saved to {file_path}\")"
   ]
  },
  {
   "cell_type": "code",
   "execution_count": 93,
   "metadata": {
    "colab": {
     "base_uri": "https://localhost:8080/"
    },
    "id": "phR0PhZWrOFi",
    "outputId": "97699b02-3d46-4b8a-f905-328919ec1e09"
   },
   "outputs": [
    {
     "name": "stdout",
     "output_type": "stream",
     "text": [
      "inf\n",
      "                 Variable           VIF\n",
      "0                 zipcode  1.011997e+00\n",
      "1         min max scaling  1.012075e+00\n",
      "2                  target  1.694436e+04\n",
      "3          uniform corr 2  1.373146e+00\n",
      "4      corr_feature_class  1.064510e+00\n",
      "5   correlated w target 2  1.285744e+00\n",
      "6           informative_2           inf\n",
      "7              outliers 1  1.011946e+00\n",
      "8             duplicate_2           inf\n",
      "9             duplicate_1           inf\n",
      "10       standard scaling  1.012804e+00\n",
      "11             outliers 2  1.038503e+00\n",
      "12  correlated w target 1  1.423005e+00\n",
      "13          informative_1           inf\n",
      "14         uniform corr 1  1.378870e+00\n",
      "15    multicollinearity 4  1.674727e+00\n",
      "16    multicollinearity 2  1.187455e+00\n",
      "17    multicollinearity 3  1.683602e+00\n",
      "18    multicollinearity 1  1.166091e+00\n"
     ]
    },
    {
     "name": "stderr",
     "output_type": "stream",
     "text": [
      "/Users/swetha/Downloads/Project5502_1/.venv/lib/python3.13/site-packages/statsmodels/stats/outliers_influence.py:197: RuntimeWarning: divide by zero encountered in scalar divide\n",
      "  vif = 1. / (1. - r_squared_i)\n",
      "/Users/swetha/Downloads/Project5502_1/.venv/lib/python3.13/site-packages/statsmodels/stats/outliers_influence.py:197: RuntimeWarning: divide by zero encountered in scalar divide\n",
      "  vif = 1. / (1. - r_squared_i)\n"
     ]
    }
   ],
   "source": [
    "# check for vif\n",
    "import pandas as pd\n",
    "import numpy as np\n",
    "from sklearn.preprocessing import StandardScaler\n",
    "from statsmodels.stats.outliers_influence import variance_inflation_factor\n",
    "\n",
    "# handle null values (using mean imputation for simplicity)\n",
    "x_copy = df.drop('class', axis=1)._get_numeric_data()\n",
    "x_copy.fillna(x_copy.mean(), inplace=True)\n",
    "\n",
    "print(max([variance_inflation_factor(x_copy, i) for i in range(x_copy.shape[1])]))\n",
    "\n",
    "# calculate VIF\n",
    "vif = pd.DataFrame()\n",
    "vif[\"Variable\"] = x_copy.columns\n",
    "vif[\"VIF\"] = [variance_inflation_factor(x_copy, i) for i in range(x_copy.shape[1])]\n",
    "print(vif)"
   ]
  },
  {
   "cell_type": "markdown",
   "metadata": {
    "id": "O_iCw05QUmzN"
   },
   "source": [
    "## Multicollinearity\n",
    "\n",
    "* We want high correlation with target\n",
    "* We don't want high correlation between features\n",
    "* Drop correlated features\n",
    "* Combine correlated features"
   ]
  },
  {
   "cell_type": "code",
   "execution_count": 95,
   "metadata": {},
   "outputs": [
    {
     "name": "stdout",
     "output_type": "stream",
     "text": [
      "informative_2 inf\n",
      "duplicate_1 inf\n",
      "duplicate_2 16957.164279237015\n",
      "standard scaling 21.01085003571052\n",
      "min max scaling 12.38235198953532\n",
      "                 Variable       VIF\n",
      "0                 zipcode  7.477998\n",
      "1                  target  2.048159\n",
      "2          uniform corr 2  6.829646\n",
      "3      corr_feature_class  1.756570\n",
      "4   correlated w target 2  1.326453\n",
      "5              outliers 1  1.011787\n",
      "6              outliers 2  5.312394\n",
      "7   correlated w target 1  1.428063\n",
      "8           informative_1  1.006237\n",
      "9          uniform corr 1  6.611197\n",
      "10    multicollinearity 4  1.671304\n",
      "11    multicollinearity 2  1.181085\n",
      "12    multicollinearity 3  1.684261\n",
      "13    multicollinearity 1  1.165787\n",
      "Data saved to development/pickles/vif.pkl\n"
     ]
    },
    {
     "name": "stderr",
     "output_type": "stream",
     "text": [
      "/Users/swetha/Downloads/Project5502_1/.venv/lib/python3.13/site-packages/statsmodels/stats/outliers_influence.py:197: RuntimeWarning: divide by zero encountered in scalar divide\n",
      "  vif = 1. / (1. - r_squared_i)\n",
      "/Users/swetha/Downloads/Project5502_1/.venv/lib/python3.13/site-packages/statsmodels/stats/outliers_influence.py:197: RuntimeWarning: divide by zero encountered in scalar divide\n",
      "  vif = 1. / (1. - r_squared_i)\n"
     ]
    }
   ],
   "source": [
    "# iterate dropping features with high vif\n",
    "import pandas as pd\n",
    "import numpy as np\n",
    "from sklearn.preprocessing import StandardScaler\n",
    "from statsmodels.stats.outliers_influence import variance_inflation_factor\n",
    "import pickle\n",
    "import os\n",
    "\n",
    "# Initialize removed features list\n",
    "removed1 = []\n",
    "\n",
    "# Create a copy of x_copy (ensure x_copy is defined with numeric data)\n",
    "x_copy1 = x_copy.copy()\n",
    "\n",
    "# Threshold for VIF\n",
    "max_vif = thresh = 10\n",
    "\n",
    "# Iterate to drop features with high VIF\n",
    "while max_vif >= thresh:\n",
    "    my_list = [variance_inflation_factor(x_copy1.values, i) for i in range(x_copy1.shape[1])]\n",
    "    max_vif = max(my_list)\n",
    "    if max_vif > thresh:\n",
    "        max_index = my_list.index(max_vif)\n",
    "        removed1.append(x_copy1.columns[max_index])\n",
    "        print(x_copy1.columns[max_index], variance_inflation_factor(x_copy1.values, max_index))\n",
    "        x_copy1.drop(x_copy1.columns[max_index], axis=1, inplace=True)\n",
    "\n",
    "# Calculate VIF for remaining variables\n",
    "vif = pd.DataFrame()\n",
    "vif[\"Variable\"] = x_copy1.columns\n",
    "vif[\"VIF\"] = [variance_inflation_factor(x_copy1.values, i) for i in range(x_copy1.shape[1])]\n",
    "print(vif)\n",
    "\n",
    "# Create a variable to pickle\n",
    "data = {'vif': vif}\n",
    "\n",
    "# Pickle the variable and save it to a file\n",
    "directory = 'development/pickles'\n",
    "os.makedirs(directory, exist_ok=True)  # Create directory if it doesn't exist\n",
    "file_path = os.path.join(directory, 'vif.pkl')\n",
    "\n",
    "with open(file_path, 'wb') as f:\n",
    "    pickle.dump(data, f)\n",
    "\n",
    "print(f\"Data saved to {file_path}\")\n"
   ]
  },
  {
   "cell_type": "code",
   "execution_count": 96,
   "metadata": {
    "colab": {
     "base_uri": "https://localhost:8080/"
    },
    "id": "eAb1MA-UEA1e",
    "outputId": "8ab5cb86-ee3c-4dac-cc25-07d96f22b0ff"
   },
   "outputs": [
    {
     "name": "stdout",
     "output_type": "stream",
     "text": [
      "target 16944.357763911485\n",
      "min max scaling 15.464869010630444\n",
      "informative_2 inf\n",
      "duplicate_1 inf\n",
      "standard scaling 17.0044439011388\n",
      "                 Variable       VIF\n",
      "0                 zipcode  7.522694\n",
      "1          uniform corr 2  6.801835\n",
      "2      corr_feature_class  1.755821\n",
      "3   correlated w target 2  1.327479\n",
      "4              outliers 1  1.011752\n",
      "5             duplicate_2  2.027822\n",
      "6              outliers 2  5.333040\n",
      "7   correlated w target 1  1.427433\n",
      "8           informative_1  1.033634\n",
      "9          uniform corr 1  6.578626\n",
      "10    multicollinearity 4  1.671302\n",
      "11    multicollinearity 2  1.181124\n",
      "12    multicollinearity 3  1.684235\n",
      "13    multicollinearity 1  1.165789\n"
     ]
    },
    {
     "name": "stderr",
     "output_type": "stream",
     "text": [
      "/Users/swetha/Downloads/Project5502_1/.venv/lib/python3.13/site-packages/statsmodels/stats/outliers_influence.py:197: RuntimeWarning: divide by zero encountered in scalar divide\n",
      "  vif = 1. / (1. - r_squared_i)\n",
      "/Users/swetha/Downloads/Project5502_1/.venv/lib/python3.13/site-packages/statsmodels/stats/outliers_influence.py:197: RuntimeWarning: divide by zero encountered in scalar divide\n",
      "  vif = 1. / (1. - r_squared_i)\n",
      "/Users/swetha/Downloads/Project5502_1/.venv/lib/python3.13/site-packages/statsmodels/stats/outliers_influence.py:197: RuntimeWarning: divide by zero encountered in scalar divide\n",
      "  vif = 1. / (1. - r_squared_i)\n",
      "/Users/swetha/Downloads/Project5502_1/.venv/lib/python3.13/site-packages/statsmodels/stats/outliers_influence.py:197: RuntimeWarning: divide by zero encountered in scalar divide\n",
      "  vif = 1. / (1. - r_squared_i)\n"
     ]
    }
   ],
   "source": [
    "# check again vif\n",
    "import pandas as pd\n",
    "import numpy as np\n",
    "from sklearn.preprocessing import StandardScaler\n",
    "from statsmodels.stats.outliers_influence import variance_inflation_factor\n",
    "\n",
    "removed2=[]\n",
    "max_vif = thresh = 10\n",
    "while max_vif >= thresh:\n",
    "  max_vif = max([variance_inflation_factor(x_copy, i) for i in range(x_copy.shape[1])])\n",
    "  for i in range(x_copy.shape[1]):\n",
    "    if variance_inflation_factor(x_copy, i) > thresh:\n",
    "      removed2.append(x_copy.columns[i])\n",
    "      print(x_copy.columns[i], variance_inflation_factor(x_copy, i))\n",
    "      x_copy.drop(x_copy.columns[i], axis=1, inplace=True)\n",
    "      break\n",
    "\n",
    "# Calculate VIF\n",
    "vif = pd.DataFrame()\n",
    "vif[\"Variable\"] = x_copy.columns\n",
    "vif[\"VIF\"] = [variance_inflation_factor(x_copy, i) for i in range(x_copy.shape[1])]\n",
    "print(vif)"
   ]
  },
  {
   "cell_type": "code",
   "execution_count": 97,
   "metadata": {
    "colab": {
     "base_uri": "https://localhost:8080/"
    },
    "id": "TJOdfdcPfTBB",
    "outputId": "114daf9a-4399-4365-9acd-ba858f0e05bc"
   },
   "outputs": [
    {
     "name": "stdout",
     "output_type": "stream",
     "text": [
      "['informative_2', 'duplicate_1', 'duplicate_2', 'standard scaling', 'min max scaling']\n",
      "['target', 'min max scaling', 'informative_2', 'duplicate_1', 'standard scaling']\n"
     ]
    }
   ],
   "source": [
    "print(removed1)\n",
    "print(removed2)"
   ]
  },
  {
   "cell_type": "markdown",
   "metadata": {
    "id": "qzuW_Dp-h0hX"
   },
   "source": [
    "## Outliers"
   ]
  },
  {
   "cell_type": "code",
   "execution_count": 98,
   "metadata": {
    "colab": {
     "base_uri": "https://localhost:8080/",
     "height": 434
    },
    "id": "Wvt9mNhQvX2C",
    "outputId": "55b3886b-ad33-4976-f3a0-e6fbfccffbd8"
   },
   "outputs": [
    {
     "data": {
      "image/png": "[encoded data removed]",
      "text/plain": [
       "<Figure size 640x480 with 1 Axes>"
      ]
     },
     "metadata": {},
     "output_type": "display_data"
    }
   ],
   "source": [
    "# code along\n",
    "df.boxplot(column=['outliers 1']);"
   ]
  },
  {
   "cell_type": "code",
   "execution_count": 99,
   "metadata": {
    "colab": {
     "base_uri": "https://localhost:8080/",
     "height": 337
    },
    "id": "ZwA0vezIyGsP",
    "outputId": "5645ea45-63bf-4da4-87d5-e11118afedea"
   },
   "outputs": [
    {
     "data": {
      "text/html": [
       "<div>\n",
       "<style scoped>\n",
       "    .dataframe tbody tr th:only-of-type {\n",
       "        vertical-align: middle;\n",
       "    }\n",
       "\n",
       "    .dataframe tbody tr th {\n",
       "        vertical-align: top;\n",
       "    }\n",
       "\n",
       "    .dataframe thead th {\n",
       "        text-align: right;\n",
       "    }\n",
       "</style>\n",
       "<table border=\"1\" class=\"dataframe\">\n",
       "  <thead>\n",
       "    <tr style=\"text-align: right;\">\n",
       "      <th></th>\n",
       "      <th>zipcode</th>\n",
       "      <th>min max scaling</th>\n",
       "      <th>target</th>\n",
       "      <th>uniform corr 2</th>\n",
       "      <th>corr_feature_class</th>\n",
       "      <th>correlated w target 2</th>\n",
       "      <th>informative_2</th>\n",
       "      <th>outliers 1</th>\n",
       "      <th>duplicate_2</th>\n",
       "      <th>duplicate_1</th>\n",
       "      <th>standard scaling</th>\n",
       "      <th>outliers 2</th>\n",
       "      <th>correlated w target 1</th>\n",
       "      <th>informative_1</th>\n",
       "      <th>uniform corr 1</th>\n",
       "      <th>multicollinearity 4</th>\n",
       "      <th>multicollinearity 2</th>\n",
       "      <th>multicollinearity 3</th>\n",
       "      <th>multicollinearity 1</th>\n",
       "      <th>class</th>\n",
       "    </tr>\n",
       "  </thead>\n",
       "  <tbody>\n",
       "    <tr>\n",
       "      <th>count</th>\n",
       "      <td>367.000000</td>\n",
       "      <td>567.000000</td>\n",
       "      <td>1010.000000</td>\n",
       "      <td>507.000000</td>\n",
       "      <td>706.000000</td>\n",
       "      <td>407.000000</td>\n",
       "      <td>1010.000000</td>\n",
       "      <td>908.000000</td>\n",
       "      <td>1010.000000</td>\n",
       "      <td>1010.000000</td>\n",
       "      <td>733.000000</td>\n",
       "      <td>350.000000</td>\n",
       "      <td>1010.000000</td>\n",
       "      <td>1010.000000</td>\n",
       "      <td>508.000000</td>\n",
       "      <td>909.000000</td>\n",
       "      <td>566.000000</td>\n",
       "      <td>564.000000</td>\n",
       "      <td>642.000000</td>\n",
       "      <td>1010.000000</td>\n",
       "    </tr>\n",
       "    <tr>\n",
       "      <th>mean</th>\n",
       "      <td>51624.000000</td>\n",
       "      <td>328.368939</td>\n",
       "      <td>0.195609</td>\n",
       "      <td>0.469172</td>\n",
       "      <td>1.956076</td>\n",
       "      <td>0.363997</td>\n",
       "      <td>-0.018978</td>\n",
       "      <td>-0.029309</td>\n",
       "      <td>-0.018978</td>\n",
       "      <td>-0.047372</td>\n",
       "      <td>49946.652621</td>\n",
       "      <td>2.996468</td>\n",
       "      <td>0.210191</td>\n",
       "      <td>-0.047372</td>\n",
       "      <td>0.485553</td>\n",
       "      <td>-0.016187</td>\n",
       "      <td>-0.058605</td>\n",
       "      <td>-0.031062</td>\n",
       "      <td>0.002767</td>\n",
       "      <td>0.502970</td>\n",
       "    </tr>\n",
       "    <tr>\n",
       "      <th>std</th>\n",
       "      <td>27667.960362</td>\n",
       "      <td>99.693480</td>\n",
       "      <td>2.991347</td>\n",
       "      <td>0.291237</td>\n",
       "      <td>2.837281</td>\n",
       "      <td>2.970739</td>\n",
       "      <td>1.403413</td>\n",
       "      <td>1.366882</td>\n",
       "      <td>1.403413</td>\n",
       "      <td>1.324010</td>\n",
       "      <td>9625.637593</td>\n",
       "      <td>2.242456</td>\n",
       "      <td>3.029965</td>\n",
       "      <td>1.324010</td>\n",
       "      <td>0.290746</td>\n",
       "      <td>1.012349</td>\n",
       "      <td>1.010685</td>\n",
       "      <td>0.990616</td>\n",
       "      <td>1.056262</td>\n",
       "      <td>0.500239</td>\n",
       "    </tr>\n",
       "    <tr>\n",
       "      <th>min</th>\n",
       "      <td>639.000000</td>\n",
       "      <td>27.865530</td>\n",
       "      <td>-8.943212</td>\n",
       "      <td>0.005380</td>\n",
       "      <td>-8.989944</td>\n",
       "      <td>-8.438812</td>\n",
       "      <td>-4.543441</td>\n",
       "      <td>-5.428440</td>\n",
       "      <td>-4.543441</td>\n",
       "      <td>-3.836929</td>\n",
       "      <td>19861.896870</td>\n",
       "      <td>-3.927766</td>\n",
       "      <td>-10.116513</td>\n",
       "      <td>-3.836929</td>\n",
       "      <td>0.001242</td>\n",
       "      <td>-3.240189</td>\n",
       "      <td>-3.216880</td>\n",
       "      <td>-2.601421</td>\n",
       "      <td>-3.167030</td>\n",
       "      <td>0.000000</td>\n",
       "    </tr>\n",
       "    <tr>\n",
       "      <th>25%</th>\n",
       "      <td>28594.500000</td>\n",
       "      <td>263.016922</td>\n",
       "      <td>-2.166961</td>\n",
       "      <td>0.220743</td>\n",
       "      <td>0.304856</td>\n",
       "      <td>-1.642202</td>\n",
       "      <td>-1.050339</td>\n",
       "      <td>-0.769275</td>\n",
       "      <td>-1.050339</td>\n",
       "      <td>-1.018399</td>\n",
       "      <td>43397.160283</td>\n",
       "      <td>1.571832</td>\n",
       "      <td>-1.760159</td>\n",
       "      <td>-1.018399</td>\n",
       "      <td>0.217221</td>\n",
       "      <td>-0.705422</td>\n",
       "      <td>-0.743016</td>\n",
       "      <td>-0.724085</td>\n",
       "      <td>-0.630316</td>\n",
       "      <td>0.000000</td>\n",
       "    </tr>\n",
       "    <tr>\n",
       "      <th>50%</th>\n",
       "      <td>53333.000000</td>\n",
       "      <td>331.042833</td>\n",
       "      <td>-0.011259</td>\n",
       "      <td>0.423213</td>\n",
       "      <td>2.023952</td>\n",
       "      <td>0.239825</td>\n",
       "      <td>-0.194004</td>\n",
       "      <td>-0.004509</td>\n",
       "      <td>-0.194004</td>\n",
       "      <td>-0.224366</td>\n",
       "      <td>49852.998460</td>\n",
       "      <td>2.984623</td>\n",
       "      <td>0.172993</td>\n",
       "      <td>-0.224366</td>\n",
       "      <td>0.474391</td>\n",
       "      <td>-0.024637</td>\n",
       "      <td>-0.022433</td>\n",
       "      <td>0.002955</td>\n",
       "      <td>-0.004635</td>\n",
       "      <td>1.000000</td>\n",
       "    </tr>\n",
       "    <tr>\n",
       "      <th>75%</th>\n",
       "      <td>74404.000000</td>\n",
       "      <td>395.830186</td>\n",
       "      <td>2.367192</td>\n",
       "      <td>0.732248</td>\n",
       "      <td>3.566371</td>\n",
       "      <td>2.572419</td>\n",
       "      <td>0.991017</td>\n",
       "      <td>0.764527</td>\n",
       "      <td>0.991017</td>\n",
       "      <td>0.975364</td>\n",
       "      <td>56962.860387</td>\n",
       "      <td>4.616315</td>\n",
       "      <td>2.144705</td>\n",
       "      <td>0.975364</td>\n",
       "      <td>0.750304</td>\n",
       "      <td>0.653520</td>\n",
       "      <td>0.649273</td>\n",
       "      <td>0.663895</td>\n",
       "      <td>0.680621</td>\n",
       "      <td>1.000000</td>\n",
       "    </tr>\n",
       "    <tr>\n",
       "      <th>max</th>\n",
       "      <td>99924.000000</td>\n",
       "      <td>649.712602</td>\n",
       "      <td>9.299296</td>\n",
       "      <td>0.999571</td>\n",
       "      <td>15.790827</td>\n",
       "      <td>8.464639</td>\n",
       "      <td>4.020262</td>\n",
       "      <td>5.785856</td>\n",
       "      <td>4.020262</td>\n",
       "      <td>3.994644</td>\n",
       "      <td>78867.619141</td>\n",
       "      <td>8.095049</td>\n",
       "      <td>8.960484</td>\n",
       "      <td>3.994644</td>\n",
       "      <td>0.997483</td>\n",
       "      <td>2.929530</td>\n",
       "      <td>3.082988</td>\n",
       "      <td>2.794507</td>\n",
       "      <td>2.997523</td>\n",
       "      <td>1.000000</td>\n",
       "    </tr>\n",
       "  </tbody>\n",
       "</table>\n",
       "</div>"
      ],
      "text/plain": [
       "            zipcode  min max scaling       target  uniform corr 2  \\\n",
       "count    367.000000       567.000000  1010.000000      507.000000   \n",
       "mean   51624.000000       328.368939     0.195609        0.469172   \n",
       "std    27667.960362        99.693480     2.991347        0.291237   \n",
       "min      639.000000        27.865530    -8.943212        0.005380   \n",
       "25%    28594.500000       263.016922    -2.166961        0.220743   \n",
       "50%    53333.000000       331.042833    -0.011259        0.423213   \n",
       "75%    74404.000000       395.830186     2.367192        0.732248   \n",
       "max    99924.000000       649.712602     9.299296        0.999571   \n",
       "\n",
       "       corr_feature_class  correlated w target 2  informative_2  outliers 1  \\\n",
       "count          706.000000             407.000000    1010.000000  908.000000   \n",
       "mean             1.956076               0.363997      -0.018978   -0.029309   \n",
       "std              2.837281               2.970739       1.403413    1.366882   \n",
       "min             -8.989944              -8.438812      -4.543441   -5.428440   \n",
       "25%              0.304856              -1.642202      -1.050339   -0.769275   \n",
       "50%              2.023952               0.239825      -0.194004   -0.004509   \n",
       "75%              3.566371               2.572419       0.991017    0.764527   \n",
       "max             15.790827               8.464639       4.020262    5.785856   \n",
       "\n",
       "       duplicate_2  duplicate_1  standard scaling  outliers 2  \\\n",
       "count  1010.000000  1010.000000        733.000000  350.000000   \n",
       "mean     -0.018978    -0.047372      49946.652621    2.996468   \n",
       "std       1.403413     1.324010       9625.637593    2.242456   \n",
       "min      -4.543441    -3.836929      19861.896870   -3.927766   \n",
       "25%      -1.050339    -1.018399      43397.160283    1.571832   \n",
       "50%      -0.194004    -0.224366      49852.998460    2.984623   \n",
       "75%       0.991017     0.975364      56962.860387    4.616315   \n",
       "max       4.020262     3.994644      78867.619141    8.095049   \n",
       "\n",
       "       correlated w target 1  informative_1  uniform corr 1  \\\n",
       "count            1010.000000    1010.000000      508.000000   \n",
       "mean                0.210191      -0.047372        0.485553   \n",
       "std                 3.029965       1.324010        0.290746   \n",
       "min               -10.116513      -3.836929        0.001242   \n",
       "25%                -1.760159      -1.018399        0.217221   \n",
       "50%                 0.172993      -0.224366        0.474391   \n",
       "75%                 2.144705       0.975364        0.750304   \n",
       "max                 8.960484       3.994644        0.997483   \n",
       "\n",
       "       multicollinearity 4  multicollinearity 2  multicollinearity 3  \\\n",
       "count           909.000000           566.000000           564.000000   \n",
       "mean             -0.016187            -0.058605            -0.031062   \n",
       "std               1.012349             1.010685             0.990616   \n",
       "min              -3.240189            -3.216880            -2.601421   \n",
       "25%              -0.705422            -0.743016            -0.724085   \n",
       "50%              -0.024637            -0.022433             0.002955   \n",
       "75%               0.653520             0.649273             0.663895   \n",
       "max               2.929530             3.082988             2.794507   \n",
       "\n",
       "       multicollinearity 1        class  \n",
       "count           642.000000  1010.000000  \n",
       "mean              0.002767     0.502970  \n",
       "std               1.056262     0.500239  \n",
       "min              -3.167030     0.000000  \n",
       "25%              -0.630316     0.000000  \n",
       "50%              -0.004635     1.000000  \n",
       "75%               0.680621     1.000000  \n",
       "max               2.997523     1.000000  "
      ]
     },
     "execution_count": 99,
     "metadata": {},
     "output_type": "execute_result"
    }
   ],
   "source": [
    "# code along\n",
    "df.describe()"
   ]
  },
  {
   "cell_type": "code",
   "execution_count": 105,
   "metadata": {},
   "outputs": [
    {
     "name": "stdout",
     "output_type": "stream",
     "text": [
      "Data saved to development/pickles/outliers.pkl\n"
     ]
    }
   ],
   "source": [
    "import pickle\n",
    "import os\n",
    "import pandas as pd\n",
    "import numpy as np\n",
    "\n",
    "# Example DataFrame\n",
    "df = pd.DataFrame({'A': [1, 2, 3, 100], 'B': [4, 5, 6, 200]})\n",
    "\n",
    "# Detect outliers using Z-score\n",
    "z_scores = np.abs((df - df.mean()) / df.std())\n",
    "threshold = 3\n",
    "outliers = df[(z_scores > threshold).any(axis=1)]\n",
    "\n",
    "# Create a variable to pickle\n",
    "data = {'outliers': outliers}\n",
    "\n",
    "# Define the directory and file path\n",
    "directory = 'development/pickles'\n",
    "os.makedirs(directory, exist_ok=True)  # Create directory if it doesn't exist\n",
    "file_path = os.path.join(directory, 'outliers.pkl')\n",
    "\n",
    "# Pickle the variable and save it to a file\n",
    "with open(file_path, 'wb') as f:\n",
    "    pickle.dump(data, f)\n",
    "\n",
    "print(f\"Data saved to {file_path}\")\n"
   ]
  },
  {
   "cell_type": "code",
   "execution_count": 106,
   "metadata": {
    "colab": {
     "base_uri": "https://localhost:8080/"
    },
    "id": "C71eDEM3JOc1",
    "outputId": "19a34311-83e3-454f-d462-4309b3057372"
   },
   "outputs": [
    {
     "name": "stdout",
     "output_type": "stream",
     "text": [
      "<class 'pandas.core.frame.DataFrame'>\n",
      "RangeIndex: 4 entries, 0 to 3\n",
      "Data columns (total 2 columns):\n",
      " #   Column  Non-Null Count  Dtype\n",
      "---  ------  --------------  -----\n",
      " 0   A       4 non-null      int64\n",
      " 1   B       4 non-null      int64\n",
      "dtypes: int64(2)\n",
      "memory usage: 196.0 bytes\n"
     ]
    }
   ],
   "source": [
    "# code along\n",
    "df.info()"
   ]
  },
  {
   "cell_type": "markdown",
   "metadata": {
    "id": "p43IcKZ2H4TU"
   },
   "source": [
    "# Part 3 - Data Prep\n",
    "\n",
    "https://www.udemy.com/course/feature-engineering-for-machine-learning\n",
    "\n",
    "* Types and characteristics of data\n",
    "* Missing data imputation\n",
    "* Categorical encoding\n",
    "* Variable transformation\n",
    "* Discretization\n",
    "* Outliers\n",
    "* Datetime\n",
    "* Scaling\n",
    "* Feature creation"
   ]
  },
  {
   "cell_type": "markdown",
   "metadata": {
    "id": "nWWZXj_t7wkH"
   },
   "source": [
    "## Load Data"
   ]
  },
  {
   "cell_type": "code",
   "execution_count": 108,
   "metadata": {
    "id": "GER6wToI7wkI"
   },
   "outputs": [
    {
     "name": "stdout",
     "output_type": "stream",
     "text": [
      "(1010, 41)\n",
      "<class 'pandas.core.frame.DataFrame'>\n",
      "RangeIndex: 1010 entries, 0 to 1009\n",
      "Data columns (total 41 columns):\n",
      " #   Column                 Non-Null Count  Dtype  \n",
      "---  ------                 --------------  -----  \n",
      " 0   binary                 670 non-null    object \n",
      " 1   given_name             863 non-null    object \n",
      " 2   surname                674 non-null    object \n",
      " 3   date_of_birth          668 non-null    object \n",
      " 4   phone_number           637 non-null    object \n",
      " 5   email                  255 non-null    object \n",
      " 6   address                722 non-null    object \n",
      " 7   city                   867 non-null    object \n",
      " 8   state                  316 non-null    object \n",
      " 9   zipcode                367 non-null    float64\n",
      " 10  min max scaling        567 non-null    float64\n",
      " 11  random label num 3     766 non-null    object \n",
      " 12  target                 1010 non-null   float64\n",
      " 13  random label num 12    563 non-null    object \n",
      " 14  semi_constant_2        1010 non-null   object \n",
      " 15  uniform corr 2         507 non-null    float64\n",
      " 16  corr_feature_class     706 non-null    float64\n",
      " 17  constant_1             1010 non-null   object \n",
      " 18  semi_constant_1        1010 non-null   object \n",
      " 19  pd qcut2               909 non-null    object \n",
      " 20  correlated w target 2  407 non-null    float64\n",
      " 21  informative_2          1010 non-null   float64\n",
      " 22  outliers 1             908 non-null    float64\n",
      " 23  duplicate_2            1010 non-null   float64\n",
      " 24  random choice 7        704 non-null    object \n",
      " 25  random choice 2        960 non-null    object \n",
      " 26  duplicate_1            1010 non-null   float64\n",
      " 27  pd qcut1               724 non-null    object \n",
      " 28  standard scaling       733 non-null    float64\n",
      " 29  outliers 2             350 non-null    float64\n",
      " 30  pd qcut3               910 non-null    object \n",
      " 31  constant_2             1010 non-null   object \n",
      " 32  correlated w target 1  1010 non-null   float64\n",
      " 33  informative_1          1010 non-null   float64\n",
      " 34  uniform corr 1         508 non-null    float64\n",
      " 35  multicollinearity 4    909 non-null    float64\n",
      " 36  multicollinearity 2    566 non-null    float64\n",
      " 37  multicollinearity 3    564 non-null    float64\n",
      " 38  multicollinearity 1    642 non-null    float64\n",
      " 39  random choice 4        353 non-null    object \n",
      " 40  class                  1010 non-null   int64  \n",
      "dtypes: float64(19), int64(1), object(21)\n",
      "memory usage: 323.6+ KB\n",
      "None\n"
     ]
    },
    {
     "data": {
      "text/html": [
       "<div>\n",
       "<style scoped>\n",
       "    .dataframe tbody tr th:only-of-type {\n",
       "        vertical-align: middle;\n",
       "    }\n",
       "\n",
       "    .dataframe tbody tr th {\n",
       "        vertical-align: top;\n",
       "    }\n",
       "\n",
       "    .dataframe thead th {\n",
       "        text-align: right;\n",
       "    }\n",
       "</style>\n",
       "<table border=\"1\" class=\"dataframe\">\n",
       "  <thead>\n",
       "    <tr style=\"text-align: right;\">\n",
       "      <th></th>\n",
       "      <th>binary</th>\n",
       "      <th>given_name</th>\n",
       "      <th>surname</th>\n",
       "      <th>date_of_birth</th>\n",
       "      <th>phone_number</th>\n",
       "      <th>email</th>\n",
       "      <th>address</th>\n",
       "      <th>city</th>\n",
       "      <th>state</th>\n",
       "      <th>zipcode</th>\n",
       "      <th>...</th>\n",
       "      <th>constant_2</th>\n",
       "      <th>correlated w target 1</th>\n",
       "      <th>informative_1</th>\n",
       "      <th>uniform corr 1</th>\n",
       "      <th>multicollinearity 4</th>\n",
       "      <th>multicollinearity 2</th>\n",
       "      <th>multicollinearity 3</th>\n",
       "      <th>multicollinearity 1</th>\n",
       "      <th>random choice 4</th>\n",
       "      <th>class</th>\n",
       "    </tr>\n",
       "  </thead>\n",
       "  <tbody>\n",
       "    <tr>\n",
       "      <th>0</th>\n",
       "      <td>NaN</td>\n",
       "      <td>NaN</td>\n",
       "      <td>NaN</td>\n",
       "      <td>NaN</td>\n",
       "      <td>001-772-621-0819x940</td>\n",
       "      <td>NaN</td>\n",
       "      <td>220 Parker Glens Suite 068</td>\n",
       "      <td>Johnchester</td>\n",
       "      <td>WV</td>\n",
       "      <td>88403.0</td>\n",
       "      <td>...</td>\n",
       "      <td>constant_value</td>\n",
       "      <td>-2.132249</td>\n",
       "      <td>-0.999102</td>\n",
       "      <td>0.370691</td>\n",
       "      <td>NaN</td>\n",
       "      <td>-0.483897</td>\n",
       "      <td>NaN</td>\n",
       "      <td>-0.421760</td>\n",
       "      <td>NaN</td>\n",
       "      <td>1</td>\n",
       "    </tr>\n",
       "    <tr>\n",
       "      <th>1</th>\n",
       "      <td>NaN</td>\n",
       "      <td>Robert</td>\n",
       "      <td>NaN</td>\n",
       "      <td>1975-03-26</td>\n",
       "      <td>NaN</td>\n",
       "      <td>NaN</td>\n",
       "      <td>1042 Walter Mount</td>\n",
       "      <td>Meredithchester</td>\n",
       "      <td>NaN</td>\n",
       "      <td>99336.0</td>\n",
       "      <td>...</td>\n",
       "      <td>constant_value</td>\n",
       "      <td>0.034901</td>\n",
       "      <td>1.246686</td>\n",
       "      <td>0.665893</td>\n",
       "      <td>1.281992</td>\n",
       "      <td>NaN</td>\n",
       "      <td>NaN</td>\n",
       "      <td>0.099843</td>\n",
       "      <td>NaN</td>\n",
       "      <td>1</td>\n",
       "    </tr>\n",
       "    <tr>\n",
       "      <th>2</th>\n",
       "      <td>binary_2</td>\n",
       "      <td>William</td>\n",
       "      <td>NaN</td>\n",
       "      <td>2022-09-11</td>\n",
       "      <td>NaN</td>\n",
       "      <td>ramirezerin@example.org</td>\n",
       "      <td>NaN</td>\n",
       "      <td>NaN</td>\n",
       "      <td>NaN</td>\n",
       "      <td>NaN</td>\n",
       "      <td>...</td>\n",
       "      <td>constant_value</td>\n",
       "      <td>2.187985</td>\n",
       "      <td>0.962777</td>\n",
       "      <td>0.635720</td>\n",
       "      <td>-1.456861</td>\n",
       "      <td>NaN</td>\n",
       "      <td>-1.650001</td>\n",
       "      <td>NaN</td>\n",
       "      <td>NaN</td>\n",
       "      <td>1</td>\n",
       "    </tr>\n",
       "    <tr>\n",
       "      <th>3</th>\n",
       "      <td>binary_2</td>\n",
       "      <td>NaN</td>\n",
       "      <td>Montgomery</td>\n",
       "      <td>2005-02-02</td>\n",
       "      <td>749.232.2439</td>\n",
       "      <td>NaN</td>\n",
       "      <td>NaN</td>\n",
       "      <td>West Peter</td>\n",
       "      <td>NaN</td>\n",
       "      <td>NaN</td>\n",
       "      <td>...</td>\n",
       "      <td>constant_value</td>\n",
       "      <td>1.128210</td>\n",
       "      <td>-2.957441</td>\n",
       "      <td>0.899028</td>\n",
       "      <td>-0.156268</td>\n",
       "      <td>NaN</td>\n",
       "      <td>-1.212587</td>\n",
       "      <td>NaN</td>\n",
       "      <td>East</td>\n",
       "      <td>1</td>\n",
       "    </tr>\n",
       "    <tr>\n",
       "      <th>4</th>\n",
       "      <td>binary_1</td>\n",
       "      <td>Brianna</td>\n",
       "      <td>Price</td>\n",
       "      <td>1922-03-17</td>\n",
       "      <td>NaN</td>\n",
       "      <td>NaN</td>\n",
       "      <td>2596 Velazquez Fords</td>\n",
       "      <td>Johnsonshire</td>\n",
       "      <td>MT</td>\n",
       "      <td>5527.0</td>\n",
       "      <td>...</td>\n",
       "      <td>constant_value</td>\n",
       "      <td>1.962211</td>\n",
       "      <td>1.141165</td>\n",
       "      <td>NaN</td>\n",
       "      <td>-0.561054</td>\n",
       "      <td>NaN</td>\n",
       "      <td>NaN</td>\n",
       "      <td>NaN</td>\n",
       "      <td>NaN</td>\n",
       "      <td>1</td>\n",
       "    </tr>\n",
       "  </tbody>\n",
       "</table>\n",
       "<p>5 rows × 41 columns</p>\n",
       "</div>"
      ],
      "text/plain": [
       "     binary given_name     surname date_of_birth          phone_number  \\\n",
       "0       NaN        NaN         NaN           NaN  001-772-621-0819x940   \n",
       "1       NaN     Robert         NaN    1975-03-26                   NaN   \n",
       "2  binary_2    William         NaN    2022-09-11                   NaN   \n",
       "3  binary_2        NaN  Montgomery    2005-02-02          749.232.2439   \n",
       "4  binary_1    Brianna       Price    1922-03-17                   NaN   \n",
       "\n",
       "                     email                     address             city state  \\\n",
       "0                      NaN  220 Parker Glens Suite 068      Johnchester    WV   \n",
       "1                      NaN           1042 Walter Mount  Meredithchester   NaN   \n",
       "2  ramirezerin@example.org                         NaN              NaN   NaN   \n",
       "3                      NaN                         NaN       West Peter   NaN   \n",
       "4                      NaN        2596 Velazquez Fords     Johnsonshire    MT   \n",
       "\n",
       "   zipcode  ...      constant_2 correlated w target 1  informative_1  \\\n",
       "0  88403.0  ...  constant_value             -2.132249      -0.999102   \n",
       "1  99336.0  ...  constant_value              0.034901       1.246686   \n",
       "2      NaN  ...  constant_value              2.187985       0.962777   \n",
       "3      NaN  ...  constant_value              1.128210      -2.957441   \n",
       "4   5527.0  ...  constant_value              1.962211       1.141165   \n",
       "\n",
       "  uniform corr 1 multicollinearity 4  multicollinearity 2  \\\n",
       "0       0.370691                 NaN            -0.483897   \n",
       "1       0.665893            1.281992                  NaN   \n",
       "2       0.635720           -1.456861                  NaN   \n",
       "3       0.899028           -0.156268                  NaN   \n",
       "4            NaN           -0.561054                  NaN   \n",
       "\n",
       "   multicollinearity 3 multicollinearity 1 random choice 4 class  \n",
       "0                  NaN           -0.421760             NaN     1  \n",
       "1                  NaN            0.099843             NaN     1  \n",
       "2            -1.650001                 NaN             NaN     1  \n",
       "3            -1.212587                 NaN            East     1  \n",
       "4                  NaN                 NaN             NaN     1  \n",
       "\n",
       "[5 rows x 41 columns]"
      ]
     },
     "execution_count": 108,
     "metadata": {},
     "output_type": "execute_result"
    }
   ],
   "source": [
    "import pandas as pd\n",
    "\n",
    "df = pd.read_csv('development/datasets/created_raw_data.csv')\n",
    "print(df.shape)\n",
    "print(df.info())\n",
    "df.head()"
   ]
  },
  {
   "cell_type": "code",
   "execution_count": 110,
   "metadata": {},
   "outputs": [
    {
     "name": "stdout",
     "output_type": "stream",
     "text": [
      "4.3.0\n"
     ]
    }
   ],
   "source": [
    "import preppy\n",
    "print(preppy.__version__)\n"
   ]
  },
  {
   "cell_type": "code",
   "execution_count": 114,
   "metadata": {},
   "outputs": [
    {
     "name": "stdout",
     "output_type": "stream",
     "text": [
      "Requirement already satisfied: preppy in /Users/swetha/Downloads/Project5502_1/.venv/lib/python3.13/site-packages (4.3.0)\n",
      "Note: you may need to restart the kernel to use updated packages.\n"
     ]
    }
   ],
   "source": [
    "pip install --upgrade preppy"
   ]
  },
  {
   "cell_type": "code",
   "execution_count": 116,
   "metadata": {},
   "outputs": [],
   "source": [
    "import preppy as utils\n"
   ]
  },
  {
   "cell_type": "code",
   "execution_count": null,
   "metadata": {},
   "outputs": [],
   "source": [
    "import sys\n",
    "sys.path.append('/path/to/directory/containing/preppy report.py')\n",
    "\n",
    "import preppy_report as utils  # Replace \"preppy report\" with the file name\n"
   ]
  },
  {
   "cell_type": "code",
   "execution_count": 121,
   "metadata": {},
   "outputs": [
    {
     "ename": "ModuleNotFoundError",
     "evalue": "No module named 'preppy.utils'; 'preppy' is not a package",
     "output_type": "error",
     "traceback": [
      "\u001b[0;31m---------------------------------------------------------------------------\u001b[0m",
      "\u001b[0;31mModuleNotFoundError\u001b[0m                       Traceback (most recent call last)",
      "Cell \u001b[0;32mIn[121], line 1\u001b[0m\n\u001b[0;32m----> 1\u001b[0m \u001b[38;5;28;01mimport\u001b[39;00m \u001b[38;5;21;01mpreppy\u001b[39;00m\u001b[38;5;21;01m.\u001b[39;00m\u001b[38;5;21;01mutils\u001b[39;00m \u001b[38;5;28;01mas\u001b[39;00m \u001b[38;5;21;01mutils\u001b[39;00m\n\u001b[1;32m      2\u001b[0m \u001b[38;5;28;01mfrom\u001b[39;00m \u001b[38;5;21;01mpreppy\u001b[39;00m\u001b[38;5;21;01m.\u001b[39;00m\u001b[38;5;21;01mversion\u001b[39;00m \u001b[38;5;28;01mimport\u001b[39;00m __version__\n",
      "\u001b[0;31mModuleNotFoundError\u001b[0m: No module named 'preppy.utils'; 'preppy' is not a package"
     ]
    }
   ],
   "source": [
    "import preppy.utils as utils\n",
    "from preppy.version import __version__\n"
   ]
  },
  {
   "cell_type": "code",
   "execution_count": 120,
   "metadata": {
    "colab": {
     "base_uri": "https://localhost:8080/"
    },
    "id": "UNIumF3DHQsn",
    "outputId": "7be763a2-791b-411f-e1c0-4d5a5fb80889"
   },
   "outputs": [
    {
     "ename": "ModuleNotFoundError",
     "evalue": "No module named 'preppy.utils'; 'preppy' is not a package",
     "output_type": "error",
     "traceback": [
      "\u001b[0;31m---------------------------------------------------------------------------\u001b[0m",
      "\u001b[0;31mModuleNotFoundError\u001b[0m                       Traceback (most recent call last)",
      "Cell \u001b[0;32mIn[120], line 1\u001b[0m\n\u001b[0;32m----> 1\u001b[0m \u001b[38;5;28;01mimport\u001b[39;00m \u001b[38;5;21;01mpreppy\u001b[39;00m\u001b[38;5;21;01m.\u001b[39;00m\u001b[38;5;21;01mutils\u001b[39;00m \u001b[38;5;28;01mas\u001b[39;00m \u001b[38;5;21;01mutils\u001b[39;00m\n\u001b[1;32m      2\u001b[0m \u001b[38;5;28;01mfrom\u001b[39;00m \u001b[38;5;21;01mpreppy\u001b[39;00m\u001b[38;5;21;01m.\u001b[39;00m\u001b[38;5;21;01mversion\u001b[39;00m \u001b[38;5;28;01mimport\u001b[39;00m __version__\n\u001b[1;32m      4\u001b[0m \u001b[38;5;28mprint\u001b[39m(__version__)\n",
      "\u001b[0;31mModuleNotFoundError\u001b[0m: No module named 'preppy.utils'; 'preppy' is not a package"
     ]
    }
   ],
   "source": [
    "import preppy.utils as utils\n",
    "from preppy.version import __version__\n",
    "\n",
    "print(__version__)\n",
    "\n",
    "utils.report.write_report(df, thresh=.5)"
   ]
  },
  {
   "cell_type": "code",
   "execution_count": null,
   "metadata": {
    "colab": {
     "base_uri": "https://localhost:8080/"
    },
    "id": "VVb32G3MTSVy",
    "outputId": "55151712-6a4f-4ee5-9f14-bd00beffa34c"
   },
   "outputs": [
    {
     "name": "stdout",
     "output_type": "stream",
     "text": [
      "['duplicate_1', 'constant_1', 'duplicate_2']\n",
      "['constant_2', 'constant_1']\n",
      "['constant_1', 'constant_2']\n"
     ]
    }
   ],
   "source": [
    "import preppy.utils as preppy\n",
    "\n",
    "consts = preppy.functions.identify_consts(df)\n",
    "quasi_consts = preppy.functions.identify_quasi_consts(df)\n",
    "duplicates = preppy.functions.check_col_duplicates(df)\n",
    "print(duplicates)\n",
    "print(consts)\n",
    "print(quasi_consts)"
   ]
  },
  {
   "cell_type": "code",
   "execution_count": 115,
   "metadata": {
    "colab": {
     "base_uri": "https://localhost:8080/"
    },
    "id": "vUZXsYTcTtTq",
    "outputId": "e45e80e5-0612-405b-8a2d-2cad4c360664"
   },
   "outputs": [
    {
     "ename": "NameError",
     "evalue": "name 'consts' is not defined",
     "output_type": "error",
     "traceback": [
      "\u001b[0;31m---------------------------------------------------------------------------\u001b[0m",
      "\u001b[0;31mNameError\u001b[0m                                 Traceback (most recent call last)",
      "Cell \u001b[0;32mIn[115], line 2\u001b[0m\n\u001b[1;32m      1\u001b[0m \u001b[38;5;66;03m# numeric_df = df.apply(pd.to_numeric, errors='coerce')\u001b[39;00m\n\u001b[0;32m----> 2\u001b[0m all_deletes \u001b[38;5;241m=\u001b[39m \u001b[38;5;28mlist\u001b[39m(\u001b[38;5;28mset\u001b[39m(\u001b[43mconsts\u001b[49m \u001b[38;5;241m+\u001b[39m quasi_consts \u001b[38;5;241m+\u001b[39m duplicates))\n\u001b[1;32m      3\u001b[0m \u001b[38;5;28;01mfor\u001b[39;00m col \u001b[38;5;129;01min\u001b[39;00m all_deletes:\n\u001b[1;32m      4\u001b[0m   \u001b[38;5;28mprint\u001b[39m(col, df[col]\u001b[38;5;241m.\u001b[39mdtype)\n",
      "\u001b[0;31mNameError\u001b[0m: name 'consts' is not defined"
     ]
    }
   ],
   "source": [
    "# numeric_df = df.apply(pd.to_numeric, errors='coerce')\n",
    "all_deletes = list(set(consts + quasi_consts + duplicates))\n",
    "for col in all_deletes:\n",
    "  print(col, df[col].dtype)\n",
    "  if df[col].dtype in ['float64', 'int64']:\n",
    "    df_numerical.remove(col)\n",
    "  elif df[col].dtype in ['object']:\n",
    "    df_object.remove(col)\n",
    "    df_categorical_features.remove(col)\n",
    "  else:\n",
    "    df_discreet.remove(col)\n"
   ]
  },
  {
   "cell_type": "markdown",
   "metadata": {
    "id": "r_x1lTEpNaks"
   },
   "source": [
    "## PrepPy Pipeline"
   ]
  },
  {
   "cell_type": "code",
   "execution_count": 122,
   "metadata": {
    "colab": {
     "base_uri": "https://localhost:8080/"
    },
    "id": "-jj9s-ARUVsk",
    "outputId": "064c129b-b047-4c5a-beb7-f365f01c5b2e"
   },
   "outputs": [
    {
     "ename": "ModuleNotFoundError",
     "evalue": "No module named 'preppy.utils'; 'preppy' is not a package",
     "output_type": "error",
     "traceback": [
      "\u001b[0;31m---------------------------------------------------------------------------\u001b[0m",
      "\u001b[0;31mModuleNotFoundError\u001b[0m                       Traceback (most recent call last)",
      "Cell \u001b[0;32mIn[122], line 4\u001b[0m\n\u001b[1;32m      2\u001b[0m \u001b[38;5;28;01mimport\u001b[39;00m \u001b[38;5;21;01mpandas\u001b[39;00m \u001b[38;5;28;01mas\u001b[39;00m \u001b[38;5;21;01mpd\u001b[39;00m\n\u001b[1;32m      3\u001b[0m \u001b[38;5;28;01mfrom\u001b[39;00m \u001b[38;5;21;01msklearn\u001b[39;00m\u001b[38;5;21;01m.\u001b[39;00m\u001b[38;5;21;01mpipeline\u001b[39;00m \u001b[38;5;28;01mimport\u001b[39;00m Pipeline\n\u001b[0;32m----> 4\u001b[0m \u001b[38;5;28;01mimport\u001b[39;00m \u001b[38;5;21;01mpreppy\u001b[39;00m\u001b[38;5;21;01m.\u001b[39;00m\u001b[38;5;21;01mutils\u001b[39;00m \u001b[38;5;28;01mas\u001b[39;00m \u001b[38;5;21;01mpreppy\u001b[39;00m\n\u001b[1;32m      6\u001b[0m pipe \u001b[38;5;241m=\u001b[39m [\n\u001b[1;32m      7\u001b[0m     (\u001b[38;5;124m'\u001b[39m\u001b[38;5;124mconstants\u001b[39m\u001b[38;5;124m'\u001b[39m, preppy\u001b[38;5;241m.\u001b[39mclasses\u001b[38;5;241m.\u001b[39mRemoveConstants()),\n\u001b[1;32m      8\u001b[0m     (\u001b[38;5;124m'\u001b[39m\u001b[38;5;124mquasiconsts\u001b[39m\u001b[38;5;124m'\u001b[39m, preppy\u001b[38;5;241m.\u001b[39mclasses\u001b[38;5;241m.\u001b[39mRemoveQuasiConstants(thresh\u001b[38;5;241m=\u001b[39m\u001b[38;5;241m0.8\u001b[39m)),\n\u001b[0;32m   (...)\u001b[0m\n\u001b[1;32m     11\u001b[0m     \u001b[38;5;66;03m# ('encoding', HandleCatEncodeing())\u001b[39;00m\n\u001b[1;32m     12\u001b[0m ]\n\u001b[1;32m     14\u001b[0m pipe_model \u001b[38;5;241m=\u001b[39m Pipeline(pipe)\n",
      "\u001b[0;31mModuleNotFoundError\u001b[0m: No module named 'preppy.utils'; 'preppy' is not a package"
     ]
    }
   ],
   "source": [
    "import numpy as np\n",
    "import pandas as pd\n",
    "from sklearn.pipeline import Pipeline\n",
    "import preppy.utils as preppy\n",
    "\n",
    "pipe = [\n",
    "    ('constants', preppy.classes.RemoveConstants()),\n",
    "    ('quasiconsts', preppy.classes.RemoveQuasiConstants(thresh=0.8)),\n",
    "    ('duplicates', preppy.classes.DropDuplicates()),\n",
    "    ('missing', preppy.classes.HandleMissingValues()),\n",
    "    # ('encoding', HandleCatEncodeing())\n",
    "]\n",
    "\n",
    "pipe_model = Pipeline(pipe)\n",
    "data = pipe_model.fit_transform(df)\n",
    "cols = [col for col in df.columns if col not in consts + quasi_consts + duplicates]\n",
    "nu_df = pd.DataFrame(data, columns=cols)\n",
    "nu_df.info()"
   ]
  },
  {
   "cell_type": "code",
   "execution_count": 124,
   "metadata": {
    "colab": {
     "base_uri": "https://localhost:8080/"
    },
    "id": "ajFC8rmuHZ4S",
    "outputId": "e3fbf392-9e4e-49ba-9c12-a551337010a6"
   },
   "outputs": [
    {
     "name": "stdout",
     "output_type": "stream",
     "text": [
      "{'df_numerical': Index(['zipcode', 'min max scaling', 'target', 'uniform corr 2',\n",
      "       'corr_feature_class', 'correlated w target 2', 'informative_2',\n",
      "       'outliers 1', 'duplicate_2', 'duplicate_1', 'standard scaling',\n",
      "       'outliers 2', 'correlated w target 1', 'informative_1',\n",
      "       'uniform corr 1', 'multicollinearity 4', 'multicollinearity 2',\n",
      "       'multicollinearity 3', 'multicollinearity 1', 'class'],\n",
      "      dtype='object'), 'df_object': Index(['binary', 'given_name', 'surname', 'date_of_birth', 'phone_number',\n",
      "       'email', 'address', 'city', 'state', 'random label num 3',\n",
      "       'random label num 12', 'semi_constant_2', 'constant_1',\n",
      "       'semi_constant_1', 'pd qcut2', 'random choice 7', 'random choice 2',\n",
      "       'pd qcut1', 'pd qcut3', 'constant_2', 'random choice 4'],\n",
      "      dtype='object'), 'df_discreet': Index([], dtype='object'), 'df_categorical_features': Index(['binary', 'given_name', 'surname', 'date_of_birth', 'phone_number',\n",
      "       'email', 'address', 'city', 'state', 'random label num 3',\n",
      "       'random label num 12', 'semi_constant_2', 'constant_1',\n",
      "       'semi_constant_1', 'pd qcut2', 'random choice 7', 'random choice 2',\n",
      "       'pd qcut1', 'pd qcut3', 'constant_2', 'random choice 4'],\n",
      "      dtype='object')}\n"
     ]
    }
   ],
   "source": [
    "import pickle\n",
    "\n",
    "# Load the pickled variable from the file\n",
    "with open('development/pickles/var_types.pkl', 'rb') as f:\n",
    "    var_types = pickle.load(f)\n",
    "\n",
    "print(var_types)"
   ]
  },
  {
   "cell_type": "code",
   "execution_count": 125,
   "metadata": {
    "id": "_qoBXoPjRUEk"
   },
   "outputs": [],
   "source": [
    "df_numerical = var_types['df_numerical']\n",
    "df_object = var_types['df_object']\n",
    "df_discreet = var_types['df_discreet']\n",
    "df_categorical_features = var_types['df_categorical_features']"
   ]
  },
  {
   "cell_type": "code",
   "execution_count": 126,
   "metadata": {
    "colab": {
     "base_uri": "https://localhost:8080/"
    },
    "id": "RR5jTPPP7ThD",
    "outputId": "f372d632-57a1-42e2-ab63-139e8dd67460"
   },
   "outputs": [
    {
     "ename": "NameError",
     "evalue": "name 'nu_df' is not defined",
     "output_type": "error",
     "traceback": [
      "\u001b[0;31m---------------------------------------------------------------------------\u001b[0m",
      "\u001b[0;31mNameError\u001b[0m                                 Traceback (most recent call last)",
      "Cell \u001b[0;32mIn[126], line 2\u001b[0m\n\u001b[1;32m      1\u001b[0m \u001b[38;5;66;03m# code along\u001b[39;00m\n\u001b[0;32m----> 2\u001b[0m nu_df[df_numerical] \u001b[38;5;241m=\u001b[39m \u001b[43mnu_df\u001b[49m[df_numerical]\u001b[38;5;241m.\u001b[39mastype(\u001b[38;5;28mfloat\u001b[39m)\n\u001b[1;32m      3\u001b[0m nu_df\u001b[38;5;241m.\u001b[39minfo()\n",
      "\u001b[0;31mNameError\u001b[0m: name 'nu_df' is not defined"
     ]
    }
   ],
   "source": [
    "# code along\n",
    "nu_df[df_numerical] = nu_df[df_numerical].astype(float)\n",
    "nu_df.info()"
   ]
  },
  {
   "cell_type": "markdown",
   "metadata": {
    "id": "EI54gfICj3Tg"
   },
   "source": [
    "## Feature Engineering"
   ]
  },
  {
   "cell_type": "markdown",
   "metadata": {
    "id": "3ZaEp01sx2-9"
   },
   "source": [
    "### Feature Combination"
   ]
  },
  {
   "cell_type": "code",
   "execution_count": 127,
   "metadata": {
    "id": "l4TygZ-hx6PX"
   },
   "outputs": [],
   "source": [
    "# create a new variable by combining two variables\n",
    "df['scaling_combined'] = df['standard scaling'] + df['min max scaling']\n",
    "df.drop(['standard scaling', 'min max scaling'], axis=1, inplace=True)"
   ]
  },
  {
   "cell_type": "markdown",
   "metadata": {
    "id": "43tZx7khof9Q"
   },
   "source": [
    "### Categorical Encoding"
   ]
  },
  {
   "cell_type": "code",
   "execution_count": null,
   "metadata": {
    "colab": {
     "base_uri": "https://localhost:8080/"
    },
    "id": "hjKC1_6U9Vvd",
    "outputId": "a6f6e6b6-1dbb-439f-a3f6-9b34bc9eacdc"
   },
   "outputs": [
    {
     "name": "stdout",
     "output_type": "stream",
     "text": [
      "<class 'pandas.core.frame.DataFrame'>\n",
      "RangeIndex: 1000 entries, 0 to 999\n",
      "Data columns (total 45 columns):\n",
      " #   Column                             Non-Null Count  Dtype  \n",
      "---  ------                             --------------  -----  \n",
      " 0   binary                             1000 non-null   int64  \n",
      " 1   given_name                         1000 non-null   float64\n",
      " 2   surname                            1000 non-null   float64\n",
      " 3   date_of_birth                      1000 non-null   float64\n",
      " 4   phone_number                       1000 non-null   float64\n",
      " 5   email                              1000 non-null   float64\n",
      " 6   address                            1000 non-null   float64\n",
      " 7   city                               1000 non-null   float64\n",
      " 8   state                              1000 non-null   float64\n",
      " 9   zipcode                            1000 non-null   float64\n",
      " 10  correlated w target 2              1000 non-null   float64\n",
      " 11  standard scaling                   1000 non-null   float64\n",
      " 12  uniform corr 1                     1000 non-null   float64\n",
      " 13  informative_1                      1000 non-null   float64\n",
      " 14  outliers 1                         1000 non-null   float64\n",
      " 15  correlated w target 1              1000 non-null   float64\n",
      " 16  min max scaling                    1000 non-null   float64\n",
      " 17  target                             1000 non-null   float64\n",
      " 18  multicollinearity 4                1000 non-null   float64\n",
      " 19  pd qcut1                           1000 non-null   int64  \n",
      " 20  multicollinearity 2                1000 non-null   float64\n",
      " 21  multicollinearity 1                1000 non-null   float64\n",
      " 22  informative_2                      1000 non-null   float64\n",
      " 23  corr_feature_class                 1000 non-null   float64\n",
      " 24  random label num 12                1000 non-null   float64\n",
      " 25  uniform corr 2                     1000 non-null   float64\n",
      " 26  pd qcut3                           1000 non-null   float64\n",
      " 27  random choice 2                    1000 non-null   int64  \n",
      " 28  random choice 7                    1000 non-null   float64\n",
      " 29  outliers 2                         1000 non-null   float64\n",
      " 30  multicollinearity 3                1000 non-null   float64\n",
      " 31  class                              1000 non-null   float64\n",
      " 32  pd qcut2_Q2                        1000 non-null   float64\n",
      " 33  pd qcut2_Q3                        1000 non-null   float64\n",
      " 34  pd qcut2_Q4                        1000 non-null   float64\n",
      " 35  semi_constant_2_q_const_0_1        1000 non-null   float64\n",
      " 36  semi_constant_2_q_const_0_2        1000 non-null   float64\n",
      " 37  semi_constant_1_q_const_0_1        1000 non-null   float64\n",
      " 38  semi_constant_1_q_const_0_2        1000 non-null   float64\n",
      " 39  random label num 4_label num lo 2  1000 non-null   float64\n",
      " 40  random label num 4_label num lo 3  1000 non-null   float64\n",
      " 41  random label num 4_label num lo 4  1000 non-null   float64\n",
      " 42  random choice 4_North              1000 non-null   float64\n",
      " 43  random choice 4_South              1000 non-null   float64\n",
      " 44  random choice 4_West               1000 non-null   float64\n",
      "dtypes: float64(42), int64(3)\n",
      "memory usage: 351.7 KB\n"
     ]
    }
   ],
   "source": [
    "# code along\n",
    "import preppy.utils as utils\n",
    "\n",
    "df = utils.functions.do_OHE(df)\n",
    "df.info()"
   ]
  },
  {
   "cell_type": "code",
   "execution_count": 128,
   "metadata": {
    "id": "495vI4Zmfyym"
   },
   "outputs": [],
   "source": [
    "df.to_csv('development/datasets/prepared_data.csv', index=False)"
   ]
  },
  {
   "cell_type": "markdown",
   "metadata": {
    "id": "3zeC15Wmj7co"
   },
   "source": [
    "# Part 4 - Feature Selection"
   ]
  },
  {
   "cell_type": "code",
   "execution_count": 131,
   "metadata": {
    "colab": {
     "base_uri": "https://localhost:8080/",
     "height": 1000
    },
    "id": "P3PeZvm2g5Ra",
    "outputId": "51e6efa1-dcd7-403a-9145-66059270999b"
   },
   "outputs": [
    {
     "name": "stdout",
     "output_type": "stream",
     "text": [
      "(1010, 40)\n",
      "<class 'pandas.core.frame.DataFrame'>\n",
      "RangeIndex: 1010 entries, 0 to 1009\n",
      "Data columns (total 40 columns):\n",
      " #   Column                 Non-Null Count  Dtype  \n",
      "---  ------                 --------------  -----  \n",
      " 0   binary                 670 non-null    object \n",
      " 1   given_name             863 non-null    object \n",
      " 2   surname                674 non-null    object \n",
      " 3   date_of_birth          668 non-null    object \n",
      " 4   phone_number           637 non-null    object \n",
      " 5   email                  255 non-null    object \n",
      " 6   address                722 non-null    object \n",
      " 7   city                   867 non-null    object \n",
      " 8   state                  316 non-null    object \n",
      " 9   zipcode                367 non-null    float64\n",
      " 10  random label num 3     766 non-null    object \n",
      " 11  target                 1010 non-null   float64\n",
      " 12  random label num 12    563 non-null    object \n",
      " 13  semi_constant_2        1010 non-null   object \n",
      " 14  uniform corr 2         507 non-null    float64\n",
      " 15  corr_feature_class     706 non-null    float64\n",
      " 16  constant_1             1010 non-null   object \n",
      " 17  semi_constant_1        1010 non-null   object \n",
      " 18  pd qcut2               909 non-null    object \n",
      " 19  correlated w target 2  407 non-null    float64\n",
      " 20  informative_2          1010 non-null   float64\n",
      " 21  outliers 1             908 non-null    float64\n",
      " 22  duplicate_2            1010 non-null   float64\n",
      " 23  random choice 7        704 non-null    object \n",
      " 24  random choice 2        960 non-null    object \n",
      " 25  duplicate_1            1010 non-null   float64\n",
      " 26  pd qcut1               724 non-null    object \n",
      " 27  outliers 2             350 non-null    float64\n",
      " 28  pd qcut3               910 non-null    object \n",
      " 29  constant_2             1010 non-null   object \n",
      " 30  correlated w target 1  1010 non-null   float64\n",
      " 31  informative_1          1010 non-null   float64\n",
      " 32  uniform corr 1         508 non-null    float64\n",
      " 33  multicollinearity 4    909 non-null    float64\n",
      " 34  multicollinearity 2    566 non-null    float64\n",
      " 35  multicollinearity 3    564 non-null    float64\n",
      " 36  multicollinearity 1    642 non-null    float64\n",
      " 37  random choice 4        353 non-null    object \n",
      " 38  class                  1010 non-null   int64  \n",
      " 39  scaling_combined       402 non-null    float64\n",
      "dtypes: float64(18), int64(1), object(21)\n",
      "memory usage: 315.8+ KB\n",
      "None\n"
     ]
    },
    {
     "data": {
      "text/html": [
       "<div>\n",
       "<style scoped>\n",
       "    .dataframe tbody tr th:only-of-type {\n",
       "        vertical-align: middle;\n",
       "    }\n",
       "\n",
       "    .dataframe tbody tr th {\n",
       "        vertical-align: top;\n",
       "    }\n",
       "\n",
       "    .dataframe thead th {\n",
       "        text-align: right;\n",
       "    }\n",
       "</style>\n",
       "<table border=\"1\" class=\"dataframe\">\n",
       "  <thead>\n",
       "    <tr style=\"text-align: right;\">\n",
       "      <th></th>\n",
       "      <th>binary</th>\n",
       "      <th>given_name</th>\n",
       "      <th>surname</th>\n",
       "      <th>date_of_birth</th>\n",
       "      <th>phone_number</th>\n",
       "      <th>email</th>\n",
       "      <th>address</th>\n",
       "      <th>city</th>\n",
       "      <th>state</th>\n",
       "      <th>zipcode</th>\n",
       "      <th>...</th>\n",
       "      <th>correlated w target 1</th>\n",
       "      <th>informative_1</th>\n",
       "      <th>uniform corr 1</th>\n",
       "      <th>multicollinearity 4</th>\n",
       "      <th>multicollinearity 2</th>\n",
       "      <th>multicollinearity 3</th>\n",
       "      <th>multicollinearity 1</th>\n",
       "      <th>random choice 4</th>\n",
       "      <th>class</th>\n",
       "      <th>scaling_combined</th>\n",
       "    </tr>\n",
       "  </thead>\n",
       "  <tbody>\n",
       "    <tr>\n",
       "      <th>0</th>\n",
       "      <td>NaN</td>\n",
       "      <td>NaN</td>\n",
       "      <td>NaN</td>\n",
       "      <td>NaN</td>\n",
       "      <td>001-772-621-0819x940</td>\n",
       "      <td>NaN</td>\n",
       "      <td>220 Parker Glens Suite 068</td>\n",
       "      <td>Johnchester</td>\n",
       "      <td>WV</td>\n",
       "      <td>88403.0</td>\n",
       "      <td>...</td>\n",
       "      <td>-2.132249</td>\n",
       "      <td>-0.999102</td>\n",
       "      <td>0.370691</td>\n",
       "      <td>NaN</td>\n",
       "      <td>-0.483897</td>\n",
       "      <td>NaN</td>\n",
       "      <td>-0.421760</td>\n",
       "      <td>NaN</td>\n",
       "      <td>1</td>\n",
       "      <td>NaN</td>\n",
       "    </tr>\n",
       "    <tr>\n",
       "      <th>1</th>\n",
       "      <td>NaN</td>\n",
       "      <td>Robert</td>\n",
       "      <td>NaN</td>\n",
       "      <td>1975-03-26</td>\n",
       "      <td>NaN</td>\n",
       "      <td>NaN</td>\n",
       "      <td>1042 Walter Mount</td>\n",
       "      <td>Meredithchester</td>\n",
       "      <td>NaN</td>\n",
       "      <td>99336.0</td>\n",
       "      <td>...</td>\n",
       "      <td>0.034901</td>\n",
       "      <td>1.246686</td>\n",
       "      <td>0.665893</td>\n",
       "      <td>1.281992</td>\n",
       "      <td>NaN</td>\n",
       "      <td>NaN</td>\n",
       "      <td>0.099843</td>\n",
       "      <td>NaN</td>\n",
       "      <td>1</td>\n",
       "      <td>NaN</td>\n",
       "    </tr>\n",
       "    <tr>\n",
       "      <th>2</th>\n",
       "      <td>binary_2</td>\n",
       "      <td>William</td>\n",
       "      <td>NaN</td>\n",
       "      <td>2022-09-11</td>\n",
       "      <td>NaN</td>\n",
       "      <td>ramirezerin@example.org</td>\n",
       "      <td>NaN</td>\n",
       "      <td>NaN</td>\n",
       "      <td>NaN</td>\n",
       "      <td>NaN</td>\n",
       "      <td>...</td>\n",
       "      <td>2.187985</td>\n",
       "      <td>0.962777</td>\n",
       "      <td>0.635720</td>\n",
       "      <td>-1.456861</td>\n",
       "      <td>NaN</td>\n",
       "      <td>-1.650001</td>\n",
       "      <td>NaN</td>\n",
       "      <td>NaN</td>\n",
       "      <td>1</td>\n",
       "      <td>NaN</td>\n",
       "    </tr>\n",
       "    <tr>\n",
       "      <th>3</th>\n",
       "      <td>binary_2</td>\n",
       "      <td>NaN</td>\n",
       "      <td>Montgomery</td>\n",
       "      <td>2005-02-02</td>\n",
       "      <td>749.232.2439</td>\n",
       "      <td>NaN</td>\n",
       "      <td>NaN</td>\n",
       "      <td>West Peter</td>\n",
       "      <td>NaN</td>\n",
       "      <td>NaN</td>\n",
       "      <td>...</td>\n",
       "      <td>1.128210</td>\n",
       "      <td>-2.957441</td>\n",
       "      <td>0.899028</td>\n",
       "      <td>-0.156268</td>\n",
       "      <td>NaN</td>\n",
       "      <td>-1.212587</td>\n",
       "      <td>NaN</td>\n",
       "      <td>East</td>\n",
       "      <td>1</td>\n",
       "      <td>51590.817380</td>\n",
       "    </tr>\n",
       "    <tr>\n",
       "      <th>4</th>\n",
       "      <td>binary_1</td>\n",
       "      <td>Brianna</td>\n",
       "      <td>Price</td>\n",
       "      <td>1922-03-17</td>\n",
       "      <td>NaN</td>\n",
       "      <td>NaN</td>\n",
       "      <td>2596 Velazquez Fords</td>\n",
       "      <td>Johnsonshire</td>\n",
       "      <td>MT</td>\n",
       "      <td>5527.0</td>\n",
       "      <td>...</td>\n",
       "      <td>1.962211</td>\n",
       "      <td>1.141165</td>\n",
       "      <td>NaN</td>\n",
       "      <td>-0.561054</td>\n",
       "      <td>NaN</td>\n",
       "      <td>NaN</td>\n",
       "      <td>NaN</td>\n",
       "      <td>NaN</td>\n",
       "      <td>1</td>\n",
       "      <td>56038.461704</td>\n",
       "    </tr>\n",
       "  </tbody>\n",
       "</table>\n",
       "<p>5 rows × 40 columns</p>\n",
       "</div>"
      ],
      "text/plain": [
       "     binary given_name     surname date_of_birth          phone_number  \\\n",
       "0       NaN        NaN         NaN           NaN  001-772-621-0819x940   \n",
       "1       NaN     Robert         NaN    1975-03-26                   NaN   \n",
       "2  binary_2    William         NaN    2022-09-11                   NaN   \n",
       "3  binary_2        NaN  Montgomery    2005-02-02          749.232.2439   \n",
       "4  binary_1    Brianna       Price    1922-03-17                   NaN   \n",
       "\n",
       "                     email                     address             city state  \\\n",
       "0                      NaN  220 Parker Glens Suite 068      Johnchester    WV   \n",
       "1                      NaN           1042 Walter Mount  Meredithchester   NaN   \n",
       "2  ramirezerin@example.org                         NaN              NaN   NaN   \n",
       "3                      NaN                         NaN       West Peter   NaN   \n",
       "4                      NaN        2596 Velazquez Fords     Johnsonshire    MT   \n",
       "\n",
       "   zipcode  ... correlated w target 1  informative_1 uniform corr 1  \\\n",
       "0  88403.0  ...             -2.132249      -0.999102       0.370691   \n",
       "1  99336.0  ...              0.034901       1.246686       0.665893   \n",
       "2      NaN  ...              2.187985       0.962777       0.635720   \n",
       "3      NaN  ...              1.128210      -2.957441       0.899028   \n",
       "4   5527.0  ...              1.962211       1.141165            NaN   \n",
       "\n",
       "  multicollinearity 4  multicollinearity 2  multicollinearity 3  \\\n",
       "0                 NaN            -0.483897                  NaN   \n",
       "1            1.281992                  NaN                  NaN   \n",
       "2           -1.456861                  NaN            -1.650001   \n",
       "3           -0.156268                  NaN            -1.212587   \n",
       "4           -0.561054                  NaN                  NaN   \n",
       "\n",
       "  multicollinearity 1 random choice 4 class  scaling_combined  \n",
       "0           -0.421760             NaN     1               NaN  \n",
       "1            0.099843             NaN     1               NaN  \n",
       "2                 NaN             NaN     1               NaN  \n",
       "3                 NaN            East     1      51590.817380  \n",
       "4                 NaN             NaN     1      56038.461704  \n",
       "\n",
       "[5 rows x 40 columns]"
      ]
     },
     "execution_count": 131,
     "metadata": {},
     "output_type": "execute_result"
    }
   ],
   "source": [
    "# get data\n",
    "import pandas as pd\n",
    "\n",
    "df = pd.read_csv('development/datasets/prepared_data.csv')\n",
    "#df = pd.read_csv('/content/drive/MyDrive/Project CICD/make_me_data_science_v.csv')\n",
    "print(df.shape)\n",
    "print(df.info())\n",
    "df.head()"
   ]
  },
  {
   "cell_type": "markdown",
   "metadata": {
    "id": "Oc6VU37OoCyb"
   },
   "source": [
    "## Train Test Split"
   ]
  },
  {
   "cell_type": "code",
   "execution_count": 132,
   "metadata": {
    "id": "2w9ihcyFlend"
   },
   "outputs": [],
   "source": [
    "# seed\n",
    "import random\n",
    "\n",
    "seed_id = 11809985\n",
    "random_state = random.seed(seed_id)\n",
    "random_state"
   ]
  },
  {
   "cell_type": "code",
   "execution_count": 133,
   "metadata": {
    "colab": {
     "base_uri": "https://localhost:8080/"
    },
    "id": "RcrWm0I4oEy2",
    "outputId": "7537ed2e-b420-4463-a9ce-a6499e193a09"
   },
   "outputs": [
    {
     "data": {
      "text/plain": [
       "((707, 39), (303, 39))"
      ]
     },
     "execution_count": 133,
     "metadata": {},
     "output_type": "execute_result"
    }
   ],
   "source": [
    "from sklearn.model_selection import train_test_split\n",
    "\n",
    "X_train, X_test, y_train, y_test = train_test_split(df.drop('class', axis=1), df['class'], test_size=0.3, random_state=random_state)\n",
    "X_train.shape, X_test.shape"
   ]
  },
  {
   "cell_type": "markdown",
   "metadata": {
    "id": "rb9tIdNp8J8v"
   },
   "source": [
    "### Mutual Information"
   ]
  },
  {
   "cell_type": "code",
   "execution_count": 135,
   "metadata": {},
   "outputs": [
    {
     "name": "stdout",
     "output_type": "stream",
     "text": [
      "Data types of X_train columns:\n",
      "binary                    object\n",
      "given_name                object\n",
      "surname                   object\n",
      "date_of_birth             object\n",
      "phone_number              object\n",
      "email                     object\n",
      "address                   object\n",
      "city                      object\n",
      "state                     object\n",
      "zipcode                  float64\n",
      "random label num 3        object\n",
      "target                   float64\n",
      "random label num 12       object\n",
      "semi_constant_2           object\n",
      "uniform corr 2           float64\n",
      "corr_feature_class       float64\n",
      "constant_1                object\n",
      "semi_constant_1           object\n",
      "pd qcut2                  object\n",
      "correlated w target 2    float64\n",
      "informative_2            float64\n",
      "outliers 1               float64\n",
      "duplicate_2              float64\n",
      "random choice 7           object\n",
      "random choice 2           object\n",
      "duplicate_1              float64\n",
      "pd qcut1                  object\n",
      "outliers 2               float64\n",
      "pd qcut3                  object\n",
      "constant_2                object\n",
      "correlated w target 1    float64\n",
      "informative_1            float64\n",
      "uniform corr 1           float64\n",
      "multicollinearity 4      float64\n",
      "multicollinearity 2      float64\n",
      "multicollinearity 3      float64\n",
      "multicollinearity 1      float64\n",
      "random choice 4           object\n",
      "scaling_combined         float64\n",
      "dtype: object\n",
      "Encoding non-numeric column: binary\n",
      "Encoding non-numeric column: given_name\n",
      "Encoding non-numeric column: surname\n",
      "Encoding non-numeric column: date_of_birth\n",
      "Encoding non-numeric column: phone_number\n",
      "Encoding non-numeric column: email\n",
      "Encoding non-numeric column: address\n",
      "Encoding non-numeric column: city\n",
      "Encoding non-numeric column: state\n",
      "Encoding non-numeric column: random label num 3\n",
      "Encoding non-numeric column: random label num 12\n",
      "Encoding non-numeric column: semi_constant_2\n",
      "Encoding non-numeric column: constant_1\n",
      "Encoding non-numeric column: semi_constant_1\n",
      "Encoding non-numeric column: pd qcut2\n",
      "Encoding non-numeric column: random choice 7\n",
      "Encoding non-numeric column: random choice 2\n",
      "Encoding non-numeric column: pd qcut1\n",
      "Encoding non-numeric column: pd qcut3\n",
      "Encoding non-numeric column: constant_2\n",
      "Encoding non-numeric column: random choice 4\n",
      "Missing values detected. Filling with 0.\n"
     ]
    },
    {
     "data": {
      "image/png": "[encoded data removed]",
      "text/plain": [
       "<Figure size 1000x600 with 1 Axes>"
      ]
     },
     "metadata": {},
     "output_type": "display_data"
    }
   ],
   "source": [
    "# Import necessary libraries\n",
    "import pandas as pd\n",
    "import matplotlib.pyplot as plt\n",
    "from sklearn.feature_selection import mutual_info_classif\n",
    "from sklearn.preprocessing import LabelEncoder\n",
    "\n",
    "# Assuming X_train and y_train are already defined, proceed with preprocessing\n",
    "# Check for non-numeric columns in X_train\n",
    "print(\"Data types of X_train columns:\")\n",
    "print(X_train.dtypes)\n",
    "\n",
    "# Convert non-numeric columns to numeric (Label Encoding as an example)\n",
    "# You can replace LabelEncoder with pd.get_dummies if you prefer one-hot encoding\n",
    "label_encoders = {}\n",
    "for column in X_train.select_dtypes(include=['object', 'category']).columns:\n",
    "    print(f\"Encoding non-numeric column: {column}\")\n",
    "    label_encoder = LabelEncoder()\n",
    "    X_train[column] = label_encoder.fit_transform(X_train[column])\n",
    "    label_encoders[column] = label_encoder\n",
    "\n",
    "# Check for missing values and handle them (e.g., filling with 0)\n",
    "if X_train.isnull().sum().sum() > 0:\n",
    "    print(\"Missing values detected. Filling with 0.\")\n",
    "    X_train = X_train.fillna(0)\n",
    "\n",
    "# Ensure y_train is numeric if not already\n",
    "if y_train.dtype == 'object' or y_train.dtype.name == 'category':\n",
    "    print(\"Encoding target variable y_train.\")\n",
    "    y_train = LabelEncoder().fit_transform(y_train)\n",
    "\n",
    "# Calculate mutual information for classification\n",
    "mi = mutual_info_classif(X_train, y_train)\n",
    "mi = pd.Series(mi, index=X_train.columns)\n",
    "\n",
    "# Plot mutual information\n",
    "mi.sort_values(ascending=False).plot.bar(figsize=(10, 6))\n",
    "plt.title('Mutual Information Scores')\n",
    "plt.ylabel('Mutual Information')\n",
    "plt.xlabel('Features')\n",
    "plt.show()"
   ]
  },
  {
   "cell_type": "code",
   "execution_count": 136,
   "metadata": {
    "colab": {
     "base_uri": "https://localhost:8080/"
    },
    "id": "f-UYVaIuwb6n",
    "outputId": "c985dff7-0ad8-46a7-d3ab-db92bc424cee"
   },
   "outputs": [
    {
     "name": "stdout",
     "output_type": "stream",
     "text": [
      "Index(['target', 'informative_2', 'duplicate_2', 'pd qcut3', 'pd qcut2'], dtype='object')\n"
     ]
    }
   ],
   "source": [
    "mi_keepers = mi.sort_values(ascending=False).index[:5]\n",
    "print(mi_keepers)"
   ]
  },
  {
   "cell_type": "markdown",
   "metadata": {
    "id": "vRo1hgSE8Qy1"
   },
   "source": [
    "### SelectKBest"
   ]
  },
  {
   "cell_type": "code",
   "execution_count": 137,
   "metadata": {
    "colab": {
     "base_uri": "https://localhost:8080/"
    },
    "id": "PExIjwjzuw_Q",
    "outputId": "5a65de72-7b06-466d-b6d2-3996ab339d0c"
   },
   "outputs": [
    {
     "name": "stdout",
     "output_type": "stream",
     "text": [
      "['target' 'pd qcut2' 'informative_2' 'duplicate_2' 'pd qcut3']\n"
     ]
    },
    {
     "name": "stderr",
     "output_type": "stream",
     "text": [
      "/Users/swetha/Downloads/Project5502_1/.venv/lib/python3.13/site-packages/sklearn/feature_selection/_univariate_selection.py:111: UserWarning: Features [16 29] are constant.\n",
      "  warnings.warn(\"Features %s are constant.\" % constant_features_idx, UserWarning)\n",
      "/Users/swetha/Downloads/Project5502_1/.venv/lib/python3.13/site-packages/sklearn/feature_selection/_univariate_selection.py:112: RuntimeWarning: invalid value encountered in divide\n",
      "  f = msb / msw\n"
     ]
    }
   ],
   "source": [
    "# SelectKBest\n",
    "from sklearn.feature_selection import SelectKBest, f_regression, f_classif\n",
    "\n",
    "selector = SelectKBest(f_classif, k=5) # Select the top 5 features\n",
    "X_new = selector.fit(X_train, y_train)\n",
    "\n",
    "kb_keepers = X_train.columns.values[selector.get_support()]\n",
    "print(kb_keepers)"
   ]
  },
  {
   "cell_type": "markdown",
   "metadata": {
    "id": "fjR1U4GM8Tyw"
   },
   "source": [
    "### Select From Model"
   ]
  },
  {
   "cell_type": "code",
   "execution_count": 139,
   "metadata": {
    "colab": {
     "base_uri": "https://localhost:8080/"
    },
    "id": "DkRDmJWchp0Z",
    "outputId": "bbac0451-8fb3-4254-ddbc-ebc9097d683c"
   },
   "outputs": [
    {
     "name": "stdout",
     "output_type": "stream",
     "text": [
      "['state' 'target' 'semi_constant_2' 'corr_feature_class' 'semi_constant_1'\n",
      " 'informative_2' 'outliers 1' 'duplicate_2' 'random choice 7'\n",
      " 'multicollinearity 3']\n"
     ]
    }
   ],
   "source": [
    "# Select from model\n",
    "import numpy as np\n",
    "from sklearn.linear_model import LinearRegression, LogisticRegression\n",
    "from sklearn.feature_selection import SelectFromModel\n",
    "from sklearn.preprocessing import StandardScaler\n",
    "\n",
    "scaler = StandardScaler()\n",
    "scaler.fit(X_train)\n",
    "X_scaled = scaler.transform(X_train)\n",
    "\n",
    "selections = SelectFromModel(estimator=LogisticRegression()).fit(X_scaled, y_train)\n",
    "mt_keepers = X_train.columns.values[selections.get_support()]\n",
    "print(mt_keepers)"
   ]
  },
  {
   "cell_type": "markdown",
   "metadata": {
    "id": "Hum_dCtv8XfC"
   },
   "source": [
    "### Recursive Feature Elmination"
   ]
  },
  {
   "cell_type": "code",
   "execution_count": 140,
   "metadata": {
    "colab": {
     "base_uri": "https://localhost:8080/"
    },
    "id": "epn6N1WTvyNX",
    "outputId": "fac5cdce-f075-4d23-ec81-430268807b72"
   },
   "outputs": [
    {
     "name": "stdout",
     "output_type": "stream",
     "text": [
      "['state' 'target' 'semi_constant_2' 'corr_feature_class' 'semi_constant_1'\n",
      " 'informative_2' 'outliers 1' 'duplicate_2' 'random choice 7'\n",
      " 'multicollinearity 3']\n"
     ]
    }
   ],
   "source": [
    "from sklearn.feature_selection import RFE\n",
    "from sklearn.linear_model import LinearRegression, LogisticRegression\n",
    "\n",
    "estimator = LogisticRegression()\n",
    "selector = RFE(estimator, n_features_to_select=5) # Select the top 5 features\n",
    "X_new = selector.fit_transform(X_scaled, y_train)\n",
    "rf_keepers = X_train.columns.values[selections.get_support()]\n",
    "print(rf_keepers)"
   ]
  },
  {
   "cell_type": "markdown",
   "metadata": {
    "id": "CQ7VwY3ABUsa"
   },
   "source": [
    "### Review Pickled Variables\n",
    "\n",
    "* Correlated features\n",
    "* VIF\n",
    "* Outliers"
   ]
  },
  {
   "cell_type": "markdown",
   "metadata": {
    "id": "wPvl0kTMe3e4"
   },
   "source": [
    "### Random Forest Importance\n"
   ]
  },
  {
   "cell_type": "code",
   "execution_count": 141,
   "metadata": {
    "colab": {
     "base_uri": "https://localhost:8080/"
    },
    "id": "VaMYAQmnfGRp",
    "outputId": "0e59f624-5cb9-492c-8494-0bce79c1038f"
   },
   "outputs": [
    {
     "data": {
      "text/plain": [
       "['target', 'informative_2', 'duplicate_2', 'pd qcut3']"
      ]
     },
     "execution_count": 141,
     "metadata": {},
     "output_type": "execute_result"
    }
   ],
   "source": [
    "# random forest importance\n",
    "from sklearn.ensemble import RandomForestClassifier, RandomForestRegressor\n",
    "from sklearn.feature_selection import SelectFromModel\n",
    "\n",
    "selects = SelectFromModel(RandomForestClassifier(n_estimators=100, random_state=random_state), max_features=4)\n",
    "selects.fit(X_train, y_train)\n",
    "rfi = X_train.columns[(selects.get_support())]\n",
    "rfi.tolist()"
   ]
  },
  {
   "cell_type": "markdown",
   "metadata": {
    "id": "fJ7tH75NfZom"
   },
   "source": [
    "Scenario: We are trying to classify if a user will subscribe to our YouTube channel.\n",
    "\n",
    "Lets grab the first four features from feature importance and rename them using the following suggestions:\n",
    "\n",
    "**Numerical Features**\n",
    "\n",
    "*   **Watch Time (seconds)**: Measures the total time viewers spend watching your videos.\n",
    "*   **Average View Duration (seconds)**: The average length of time viewers watch a single video.\n",
    "*   **Click-Through Rate (CTR)**: The percentage of viewers who click on your video after seeing the thumbnail/title.\n",
    "*   **Comments per Video**: The number of comments on each video.\n",
    "*   **Shares per Video**: The number of times each video is shared.\n",
    "*   **Likes per Video**: The number of likes on each video.\n",
    "*   **Dislikes per Video**: The number of dislikes on each video.\n",
    "*   **Subscribers Gained per Video**: The number of subscribers gained after a video is published.\n",
    "*   **Views per Video**: The total number of views for each video.\n",
    "\n",
    "**Categorical Features**\n",
    "\n",
    "*   **Video Category**: The category or genre of the video (e.g., tutorial, review, vlog).\n",
    "*   **Upload Frequency**: How often you upload videos (e.g., daily, weekly, monthly).\n",
    "*   **Video Length**: Categorize videos based on length (e.g., short, medium, long).\n",
    "*   **Thumbnail Type**: The type of thumbnail used (e.g., image, text overlay, face).\n",
    "*   **Use of Background Music**: Whether the video uses background music or not.\n",
    "*   **Use of End Screens**: Whether the video includes end screens or not.\n",
    "*   **Viewer Gender**: The dominant gender of your viewers (if available).\n",
    "*   **Viewer Age**: The dominant age group of your viewers (if available).\n",
    "*   **Viewer Location**: The primary location of your viewers (if available).\n",
    "\n",
    "**Discrete Features**\n",
    "\n",
    "*   **Number of Videos Uploaded**: The total number of videos on your channel.\n",
    "*   **Channel Age (months)**: The age of your YouTube channel.\n",
    "*   **Number of Playlists**: The total number of playlists on your channel.\n",
    "*   **Use of Subtitles**: Whether your videos include subtitles (0 or 1).\n",
    "*   **Use of Closed Captions**: Whether your videos include closed captions (0 or 1).\n",
    "*   **Viewer Engagement Level**: Categorize viewer engagement into levels (e.g., low, medium, high).\n",
    "*   **Video Quality**: Categorize video quality (e.g., low, medium, high).\n",
    "*   **Subscriber Count**: The total number of subscribers to your channel.\n",
    "\n",
    "\n",
    "\n"
   ]
  },
  {
   "cell_type": "code",
   "execution_count": 142,
   "metadata": {
    "colab": {
     "base_uri": "https://localhost:8080/",
     "height": 206
    },
    "id": "VFzff6aCfefd",
    "outputId": "619d2224-97ac-4dec-c370-12467ff335c2"
   },
   "outputs": [
    {
     "data": {
      "text/html": [
       "<div>\n",
       "<style scoped>\n",
       "    .dataframe tbody tr th:only-of-type {\n",
       "        vertical-align: middle;\n",
       "    }\n",
       "\n",
       "    .dataframe tbody tr th {\n",
       "        vertical-align: top;\n",
       "    }\n",
       "\n",
       "    .dataframe thead th {\n",
       "        text-align: right;\n",
       "    }\n",
       "</style>\n",
       "<table border=\"1\" class=\"dataframe\">\n",
       "  <thead>\n",
       "    <tr style=\"text-align: right;\">\n",
       "      <th></th>\n",
       "      <th>target</th>\n",
       "      <th>informative_2</th>\n",
       "      <th>duplicate_2</th>\n",
       "      <th>pd qcut3</th>\n",
       "    </tr>\n",
       "  </thead>\n",
       "  <tbody>\n",
       "    <tr>\n",
       "      <th>999</th>\n",
       "      <td>-2.724042</td>\n",
       "      <td>-1.279405</td>\n",
       "      <td>-1.279405</td>\n",
       "      <td>1</td>\n",
       "    </tr>\n",
       "    <tr>\n",
       "      <th>763</th>\n",
       "      <td>1.812803</td>\n",
       "      <td>0.881144</td>\n",
       "      <td>0.881144</td>\n",
       "      <td>6</td>\n",
       "    </tr>\n",
       "    <tr>\n",
       "      <th>381</th>\n",
       "      <td>-3.164908</td>\n",
       "      <td>-1.432457</td>\n",
       "      <td>-1.432457</td>\n",
       "      <td>1</td>\n",
       "    </tr>\n",
       "    <tr>\n",
       "      <th>548</th>\n",
       "      <td>-2.834684</td>\n",
       "      <td>-1.358062</td>\n",
       "      <td>-1.358062</td>\n",
       "      <td>1</td>\n",
       "    </tr>\n",
       "    <tr>\n",
       "      <th>794</th>\n",
       "      <td>3.036531</td>\n",
       "      <td>1.252539</td>\n",
       "      <td>1.252539</td>\n",
       "      <td>6</td>\n",
       "    </tr>\n",
       "  </tbody>\n",
       "</table>\n",
       "</div>"
      ],
      "text/plain": [
       "       target  informative_2  duplicate_2  pd qcut3\n",
       "999 -2.724042      -1.279405    -1.279405         1\n",
       "763  1.812803       0.881144     0.881144         6\n",
       "381 -3.164908      -1.432457    -1.432457         1\n",
       "548 -2.834684      -1.358062    -1.358062         1\n",
       "794  3.036531       1.252539     1.252539         6"
      ]
     },
     "execution_count": 142,
     "metadata": {},
     "output_type": "execute_result"
    }
   ],
   "source": [
    "features_to_model = rfi\n",
    "X_train[features_to_model].head()"
   ]
  },
  {
   "cell_type": "code",
   "execution_count": 143,
   "metadata": {
    "id": "2PpQyIprnD6_"
   },
   "outputs": [],
   "source": [
    "new_column_names = {rfi[0]: 'watch_time', rfi[1]: 'avg_view_duration', rfi[2]: 'click_through_rate', rfi[3]: 'interest'}\n",
    "X_train.rename(columns=new_column_names, inplace=True)\n",
    "X_test.rename(columns=new_column_names, inplace=True)\n",
    "features_to_model = list(new_column_names.values())\n",
    "X_train = X_train[features_to_model]\n",
    "X_test = X_test[features_to_model]"
   ]
  },
  {
   "cell_type": "code",
   "execution_count": 144,
   "metadata": {
    "id": "NrIdASGK3LCx"
   },
   "outputs": [],
   "source": [
    "import pickle\n",
    "\n",
    "# Save the data\n",
    "with open('development/pickles/train_test_split.pkl', 'wb') as f:\n",
    "    pickle.dump([X_train, X_test, y_train, y_test], f)"
   ]
  },
  {
   "cell_type": "code",
   "execution_count": 148,
   "metadata": {
    "colab": {
     "base_uri": "https://localhost:8080/",
     "height": 36
    },
    "id": "NSgcg1LLCFtB",
    "outputId": "cee83d58-c974-4c6d-8b71-1fc13dae3e75"
   },
   "outputs": [
    {
     "data": {
      "text/plain": [
       "'/Users/swetha/Downloads/Project5502_1/notebooks/development/pickles/train_test_split.pkl'"
      ]
     },
     "execution_count": 148,
     "metadata": {},
     "output_type": "execute_result"
    }
   ],
   "source": [
    "import shutil\n",
    "\n",
    "# Source file path (within your Drive)\n",
    "source_file = 'train_test_split.pkl'\n",
    "\n",
    "# Destination path (root of your Drive)\n",
    "destination_path = '/Users/swetha/Downloads/Project5502_1/notebooks/development/pickles/train_test_split.pkl'\n",
    "\n",
    "# Copy the file\n",
    "shutil.copy(source_file, destination_path)"
   ]
  },
  {
   "cell_type": "markdown",
   "metadata": {
    "id": "lJQ7-Uvaj-eB"
   },
   "source": [
    "# Part 5 - Data Modeling"
   ]
  },
  {
   "cell_type": "markdown",
   "metadata": {
    "id": "mwrKAvxG5htS"
   },
   "source": [
    "## Get Data"
   ]
  },
  {
   "cell_type": "code",
   "execution_count": 150,
   "metadata": {
    "id": "a-m0xVOf5_JW"
   },
   "outputs": [],
   "source": [
    "# seed\n",
    "import random\n",
    "\n",
    "seed_id = 11809985\n",
    "random_state = random.seed(seed_id)\n",
    "random_state"
   ]
  },
  {
   "cell_type": "code",
   "execution_count": 151,
   "metadata": {
    "colab": {
     "base_uri": "https://localhost:8080/",
     "height": 36
    },
    "id": "9D49mVdvCf6k",
    "outputId": "4d9edff5-9a13-4953-e93e-1894e282f0c8"
   },
   "outputs": [
    {
     "data": {
      "text/plain": [
       "'train_test_split.pkl'"
      ]
     },
     "execution_count": 151,
     "metadata": {},
     "output_type": "execute_result"
    }
   ],
   "source": [
    "import shutil\n",
    "\n",
    "# Source file path (within your Drive)\n",
    "source_file = '/Users/swetha/Downloads/Project5502_1/notebooks/development/pickles/train_test_split.pkl'\n",
    "\n",
    "# Destination path (root of your Drive)\n",
    "destination_path = 'train_test_split.pkl'\n",
    "\n",
    "# Copy the file\n",
    "shutil.copy(source_file, destination_path)"
   ]
  },
  {
   "cell_type": "code",
   "execution_count": 152,
   "metadata": {
    "id": "VzQgQwDe5j-c"
   },
   "outputs": [],
   "source": [
    "import pickle\n",
    "\n",
    "# Load the data\n",
    "with open('development/pickles/train_test_split.pkl', 'rb') as f:\n",
    "    X_train, X_test, y_train, y_test = pickle.load(f)"
   ]
  },
  {
   "cell_type": "markdown",
   "metadata": {
    "id": "JzLn_P9TsL8D"
   },
   "source": [
    "## Logistic Regression"
   ]
  },
  {
   "cell_type": "code",
   "execution_count": 155,
   "metadata": {},
   "outputs": [
    {
     "name": "stdout",
     "output_type": "stream",
     "text": [
      "Confusion Matrix:\n",
      "[[ 2 12]\n",
      " [ 8  8]]\n",
      "\n",
      "Accuracy Score:\n",
      "0.3333333333333333\n"
     ]
    }
   ],
   "source": [
    "import numpy as np\n",
    "import pandas as pd\n",
    "from sklearn.linear_model import LogisticRegression\n",
    "from sklearn.metrics import confusion_matrix, accuracy_score\n",
    "from sklearn.preprocessing import StandardScaler\n",
    "\n",
    "# Example: Assuming you have your DataFrame 'df' and the target 'y' column\n",
    "# Let's define some sample data for 'X' (features) and 'y' (target) for illustration\n",
    "\n",
    "# Replace this with your actual DataFrame\n",
    "# For example:\n",
    "# df = pd.read_csv('your_data.csv')  # or any data loading method\n",
    "\n",
    "# Let's assume 'target_column' is the name of the column you're predicting\n",
    "# X = df.drop('target_column', axis=1)  # Features\n",
    "# y = df['target_column']  # Target column\n",
    "\n",
    "# Example data, replace with your actual DataFrame and column names\n",
    "X = pd.DataFrame(np.random.randn(100, 5), columns=[f\"Feature{i}\" for i in range(1, 6)])\n",
    "y = np.random.choice([0, 1], size=100)  # Binary target variable for demonstration\n",
    "\n",
    "# Split data into train and test sets\n",
    "from sklearn.model_selection import train_test_split\n",
    "X_train, X_test, y_train, y_test = train_test_split(X, y, test_size=0.3, random_state=42)\n",
    "\n",
    "# Check for NaN or infinite values and handle them (if any)\n",
    "if np.any(np.isnan(X_train)) or np.any(np.isnan(y_train)):\n",
    "    print(\"Data contains NaN values. Handle them before proceeding.\")\n",
    "    # Handle missing data by imputation or removing rows with NaN values\n",
    "    # For example, filling NaN values:\n",
    "    # X_train.fillna(X_train.mean(), inplace=True)\n",
    "    # y_train.fillna(y_train.mean(), inplace=True)\n",
    "\n",
    "# Check for infinite values and handle them (if any)\n",
    "if np.any(np.isinf(X_train)) or np.any(np.isinf(y_train)):\n",
    "    print(\"Data contains infinite values. Handle them before proceeding.\")\n",
    "    # Handle infinite values, for example by replacing them:\n",
    "    # X_train.replace([np.inf, -np.inf], np.nan, inplace=True)\n",
    "    # X_train.fillna(X_train.mean(), inplace=True)\n",
    "\n",
    "# Scale the features using StandardScaler (optional but recommended)\n",
    "scaler = StandardScaler()\n",
    "X_train = scaler.fit_transform(X_train)  # Fit and transform training data\n",
    "X_test = scaler.transform(X_test)        # Only transform the test data\n",
    "\n",
    "# Create and train the logistic regression model\n",
    "random_state = 42  # Defining the random_state\n",
    "model = LogisticRegression(solver='liblinear', random_state=random_state)\n",
    "model.fit(X_train, y_train)\n",
    "\n",
    "# Make predictions\n",
    "predictions = model.predict(X_test)\n",
    "\n",
    "# Print confusion matrix and accuracy score\n",
    "print(\"Confusion Matrix:\")\n",
    "print(confusion_matrix(y_test, predictions))\n",
    "print(\"\\nAccuracy Score:\")\n",
    "print(accuracy_score(y_test, predictions))"
   ]
  },
  {
   "cell_type": "markdown",
   "metadata": {
    "id": "vfP5Ltl4tbkz"
   },
   "source": [
    "## Random Forest"
   ]
  },
  {
   "cell_type": "code",
   "execution_count": 156,
   "metadata": {
    "colab": {
     "base_uri": "https://localhost:8080/"
    },
    "id": "apRIPeEetesw",
    "outputId": "d9d4a07c-c850-4058-893e-1000b70c9b94"
   },
   "outputs": [
    {
     "name": "stdout",
     "output_type": "stream",
     "text": [
      "[[7 7]\n",
      " [7 9]]\n",
      "0.5333333333333333\n"
     ]
    }
   ],
   "source": [
    "from sklearn.ensemble import RandomForestClassifier\n",
    "\n",
    "model = RandomForestClassifier(n_estimators=100, criterion='entropy', random_state=random_state)\n",
    "model.fit(X_train, y_train)\n",
    "predictions = model.predict(X_test)\n",
    "\n",
    "print(confusion_matrix(y_test, predictions))\n",
    "print(accuracy_score(y_test, predictions))"
   ]
  },
  {
   "cell_type": "markdown",
   "metadata": {
    "id": "P3s_9zNAkBvi"
   },
   "source": [
    "## Model Evaluation"
   ]
  },
  {
   "cell_type": "code",
   "execution_count": 157,
   "metadata": {
    "colab": {
     "base_uri": "https://localhost:8080/"
    },
    "id": "u2_ZmOlSu3v_",
    "outputId": "93bca801-44e6-474f-d767-1db5bc11a136"
   },
   "outputs": [
    {
     "name": "stdout",
     "output_type": "stream",
     "text": [
      "accuracy: 0.5333333333333333\n",
      "[[7 7]\n",
      " [7 9]]\n",
      "              precision    recall  f1-score   support\n",
      "\n",
      "           0       0.50      0.50      0.50        14\n",
      "           1       0.56      0.56      0.56        16\n",
      "\n",
      "    accuracy                           0.53        30\n",
      "   macro avg       0.53      0.53      0.53        30\n",
      "weighted avg       0.53      0.53      0.53        30\n",
      "\n"
     ]
    }
   ],
   "source": [
    "from sklearn.metrics import accuracy_score, confusion_matrix, classification_report\n",
    "\n",
    "tn, fp, fn, tp = confusion_matrix(y_test, predictions).ravel()\n",
    "print('accuracy:', accuracy_score(predictions, y_test))\n",
    "print(confusion_matrix(y_test, predictions))\n",
    "print(classification_report(y_test, predictions))"
   ]
  },
  {
   "cell_type": "markdown",
   "metadata": {
    "id": "0z3ILWx2kEQW"
   },
   "source": [
    "## Model Fine-Tuning"
   ]
  },
  {
   "cell_type": "code",
   "execution_count": 158,
   "metadata": {
    "colab": {
     "base_uri": "https://localhost:8080/"
    },
    "id": "id7SGg6wuOyR",
    "outputId": "1e140fe1-294b-4ac0-dbc3-6c7e38aa6564"
   },
   "outputs": [
    {
     "name": "stdout",
     "output_type": "stream",
     "text": [
      "best accuracy 0.4714285714285714\n",
      "best parameters {'bootstrap': False, 'criterion': 'entropy', 'max_depth': 3, 'min_samples_leaf': 4, 'min_samples_split': 4}\n"
     ]
    }
   ],
   "source": [
    "from sklearn.ensemble import RandomForestClassifier\n",
    "from sklearn.model_selection import GridSearchCV\n",
    "\n",
    "hyperparameters = {'max_depth': [2, 3],\n",
    "              'min_samples_split': [4, 5],\n",
    "              'min_samples_leaf': [4, 5],\n",
    "              'bootstrap': [True, False],\n",
    "              'criterion': ['entropy', 'gini']}\n",
    "\n",
    "grid_search = GridSearchCV(estimator = RandomForestClassifier(),\n",
    "                           param_grid = hyperparameters,\n",
    "                           scoring = 'accuracy',\n",
    "                           cv = 10)\n",
    "\n",
    "grid_search = grid_search.fit(X_train, y_train)\n",
    "\n",
    "best_accuracy = grid_search.best_score_\n",
    "best_parameters = grid_search.best_params_\n",
    "\n",
    "print('best accuracy', best_accuracy)\n",
    "print('best parameters', best_parameters)"
   ]
  },
  {
   "cell_type": "markdown",
   "metadata": {
    "id": "VssRecfXvNDu"
   },
   "source": [
    "## Final Model"
   ]
  },
  {
   "cell_type": "code",
   "execution_count": 160,
   "metadata": {},
   "outputs": [
    {
     "name": "stdout",
     "output_type": "stream",
     "text": [
      "Accuracy: 0.5666666666666667\n",
      "Confusion Matrix:\n",
      "[[8 6]\n",
      " [7 9]]\n",
      "Classification Report:\n",
      "              precision    recall  f1-score   support\n",
      "\n",
      "           0       0.53      0.57      0.55        14\n",
      "           1       0.60      0.56      0.58        16\n",
      "\n",
      "    accuracy                           0.57        30\n",
      "   macro avg       0.57      0.57      0.57        30\n",
      "weighted avg       0.57      0.57      0.57        30\n",
      "\n"
     ]
    }
   ],
   "source": [
    "from sklearn.ensemble import RandomForestClassifier\n",
    "from sklearn.metrics import accuracy_score, confusion_matrix, classification_report\n",
    "from sklearn.model_selection import train_test_split\n",
    "\n",
    "# Assuming X and y are already defined as your features and target\n",
    "# For illustration, you would split your dataset like this (replace with your actual data):\n",
    "# X_train, X_test, y_train, y_test = train_test_split(X, y, test_size=0.3, random_state=random_state)\n",
    "\n",
    "# Assuming best_parameters is a dictionary with hyperparameters (e.g., {'n_estimators': 100, 'max_depth': 5})\n",
    "best_parameters = {'n_estimators': 100, 'max_depth': 10}  # Example, replace with your best parameters\n",
    "\n",
    "# Initialize the RandomForestClassifier and set parameters\n",
    "model = RandomForestClassifier(random_state=random_state)\n",
    "model.set_params(**best_parameters)\n",
    "\n",
    "# Fit the model to the training data\n",
    "model.fit(X_train, y_train)\n",
    "\n",
    "# Make predictions\n",
    "predictions = model.predict(X_test)\n",
    "\n",
    "# Print evaluation metrics\n",
    "print('Accuracy:', accuracy_score(y_test, predictions))\n",
    "print('Confusion Matrix:')\n",
    "print(confusion_matrix(y_test, predictions))\n",
    "print('Classification Report:')\n",
    "print(classification_report(y_test, predictions))"
   ]
  },
  {
   "cell_type": "markdown",
   "metadata": {
    "id": "YMQq51GE5XJb"
   },
   "source": [
    "## Confusion Matrix"
   ]
  },
  {
   "cell_type": "code",
   "execution_count": 161,
   "metadata": {
    "colab": {
     "base_uri": "https://localhost:8080/"
    },
    "id": "kUSZa-4N5cgu",
    "outputId": "e3e4b1ff-f6c4-4a3a-e912-fef2e07c16f2"
   },
   "outputs": [
    {
     "name": "stdout",
     "output_type": "stream",
     "text": [
      "[[8 6]\n",
      " [7 9]]\n"
     ]
    }
   ],
   "source": [
    "print(confusion_matrix(y_test, predictions))"
   ]
  },
  {
   "cell_type": "markdown",
   "metadata": {
    "id": "uaRRL0lf5Zv0"
   },
   "source": [
    "## Precision Recall"
   ]
  },
  {
   "cell_type": "code",
   "execution_count": 162,
   "metadata": {
    "colab": {
     "base_uri": "https://localhost:8080/"
    },
    "id": "bqdrP2BE5dEE",
    "outputId": "9cf2da6e-975d-45b2-d936-68ad2fd32b3c"
   },
   "outputs": [
    {
     "name": "stdout",
     "output_type": "stream",
     "text": [
      "              precision    recall  f1-score   support\n",
      "\n",
      "           0       0.53      0.57      0.55        14\n",
      "           1       0.60      0.56      0.58        16\n",
      "\n",
      "    accuracy                           0.57        30\n",
      "   macro avg       0.57      0.57      0.57        30\n",
      "weighted avg       0.57      0.57      0.57        30\n",
      "\n"
     ]
    }
   ],
   "source": [
    "print(classification_report(y_test, predictions))"
   ]
  },
  {
   "cell_type": "markdown",
   "metadata": {
    "id": "Xa9kbxryvx4d"
   },
   "source": [
    "## Bias Variance"
   ]
  },
  {
   "cell_type": "code",
   "execution_count": 168,
   "metadata": {},
   "outputs": [
    {
     "name": "stdout",
     "output_type": "stream",
     "text": [
      "Accuracy: 0.875\n",
      "Confusion Matrix:\n",
      " [[92 14]\n",
      " [11 83]]\n",
      "Classification Report:\n",
      "               precision    recall  f1-score   support\n",
      "\n",
      "           0       0.89      0.87      0.88       106\n",
      "           1       0.86      0.88      0.87        94\n",
      "\n",
      "    accuracy                           0.88       200\n",
      "   macro avg       0.87      0.88      0.87       200\n",
      "weighted avg       0.88      0.88      0.88       200\n",
      "\n",
      "Bias-Variance Decomposition Results:\n",
      "Average expected loss: 0.134\n",
      "Average bias: 0.135\n",
      "Average variance: 0.053\n"
     ]
    }
   ],
   "source": [
    "# Import necessary libraries\n",
    "from sklearn.ensemble import RandomForestClassifier\n",
    "from sklearn.metrics import accuracy_score, confusion_matrix, classification_report\n",
    "from mlxtend.evaluate import bias_variance_decomp\n",
    "from sklearn.model_selection import train_test_split\n",
    "from sklearn.datasets import make_classification\n",
    "import numpy as np\n",
    "\n",
    "# Generate a sample dataset (you can replace this with your own data)\n",
    "X, y = make_classification(\n",
    "    n_samples=1000,\n",
    "    n_features=20,\n",
    "    n_informative=15,\n",
    "    n_redundant=5,\n",
    "    random_state=42\n",
    ")\n",
    "\n",
    "# Split the dataset into training and testing sets\n",
    "X_train, X_test, y_train, y_test = train_test_split(\n",
    "    X, y, test_size=0.2, random_state=42\n",
    ")\n",
    "\n",
    "# Initialize the RandomForest model\n",
    "model = RandomForestClassifier(random_state=42, n_estimators=50, max_depth=5)\n",
    "\n",
    "# Fit the model\n",
    "model.fit(X_train, y_train)\n",
    "\n",
    "# Make predictions\n",
    "predictions = model.predict(X_test)\n",
    "\n",
    "# Evaluate the model\n",
    "print(\"Accuracy:\", accuracy_score(y_test, predictions))\n",
    "print(\"Confusion Matrix:\\n\", confusion_matrix(y_test, predictions))\n",
    "print(\"Classification Report:\\n\", classification_report(y_test, predictions))\n",
    "\n",
    "# Bias-Variance Decomposition\n",
    "avg_expected_loss, avg_bias, avg_var = bias_variance_decomp(\n",
    "    model,\n",
    "    X_train,  # NumPy array of training features\n",
    "    y_train,  # NumPy array of training labels\n",
    "    X_test,   # NumPy array of testing features\n",
    "    y_test,   # NumPy array of testing labels\n",
    "    loss='0-1_loss',\n",
    "    random_seed=42\n",
    ")\n",
    "\n",
    "# Print results\n",
    "print(\"Bias-Variance Decomposition Results:\")\n",
    "print('Average expected loss: %.3f' % avg_expected_loss)\n",
    "print('Average bias: %.3f' % avg_bias)\n",
    "print('Average variance: %.3f' % avg_var)\n"
   ]
  },
  {
   "cell_type": "code",
   "execution_count": 174,
   "metadata": {
    "colab": {
     "base_uri": "https://localhost:8080/"
    },
    "id": "Z7QMsj6BsYFK",
    "outputId": "99aead67-74cb-4455-d62d-df9d2cf9506a"
   },
   "outputs": [
    {
     "name": "stdout",
     "output_type": "stream",
     "text": [
      "    Feature1  Feature2  Feature3  Feature4  Feature5\n",
      "83  1.691179 -0.763956  1.144177  1.737589 -0.153509\n",
      "53  1.242465  1.157039  0.928351  1.059371 -1.252506\n",
      "70  0.545856  0.897368  0.113005 -0.474235  0.244891\n",
      "45 -0.978932  0.647822 -0.396045 -0.703556 -1.640587\n",
      "44  1.227834 -0.172102 -0.217707 -0.913508 -1.835065\n",
      "    Feature1  Feature2  Feature3  Feature4  Feature5\n",
      "83  1.691179 -0.763956  1.144177  1.737589 -0.153509\n",
      "53  1.242465  1.157039  0.928351  1.059371 -1.252506\n",
      "70  0.545856  0.897368  0.113005 -0.474235  0.244891\n",
      "45 -0.978932  0.647822 -0.396045 -0.703556 -1.640587\n",
      "44  1.227834 -0.172102 -0.217707 -0.913508 -1.835065\n"
     ]
    }
   ],
   "source": [
    "import numpy as np\n",
    "import pandas as pd\n",
    "from sklearn.model_selection import train_test_split\n",
    "\n",
    "# Example: Assuming you have a dataset\n",
    "X = pd.DataFrame(np.random.randn(100, 5), columns=[f\"Feature{i}\" for i in range(1, 6)])\n",
    "y = np.random.choice([0, 1], size=100)\n",
    "\n",
    "# Split data into train and test sets\n",
    "X_train, X_test, y_train, y_test = train_test_split(X, y, test_size=0.3, random_state=42)\n",
    "\n",
    "# Option 1: Using slicing for NumPy array (first 5 rows of X_test)\n",
    "print(X_test[:5])  # Prints first 5 rows of X_test\n",
    "\n",
    "# Option 2: Convert X_test to a DataFrame and use .head()\n",
    "X_test_df = pd.DataFrame(X_test, columns=[f\"Feature{i}\" for i in range(1, X_test.shape[1] + 1)])\n",
    "print(X_test_df.head())  # Use .head() after converting to DataFrame"
   ]
  },
  {
   "cell_type": "code",
   "execution_count": 175,
   "metadata": {
    "id": "MfPZ7SmO46xZ"
   },
   "outputs": [],
   "source": [
    "import pickle\n",
    "\n",
    "with open('development/pickles/model.pkl', 'wb') as file:\n",
    "    pickle.dump(model, file)"
   ]
  },
  {
   "cell_type": "code",
   "execution_count": 178,
   "metadata": {
    "colab": {
     "base_uri": "https://localhost:8080/",
     "height": 36
    },
    "id": "eom-mr80C5jt",
    "outputId": "dfb0a461-1a98-43de-f729-742bbbc25a43"
   },
   "outputs": [
    {
     "data": {
      "text/plain": [
       "'/Users/swetha/Downloads/Project5502_1/notebooks/development/pickles/model.pkl'"
      ]
     },
     "execution_count": 178,
     "metadata": {},
     "output_type": "execute_result"
    }
   ],
   "source": [
    "import shutil\n",
    "\n",
    "# Source file path (within your Drive)\n",
    "source_file = 'model.pkl'\n",
    "\n",
    "# Destination path (root of your Drive)\n",
    "destination_path = '/Users/swetha/Downloads/Project5502_1/notebooks/development/pickles/model.pkl'\n",
    "\n",
    "# Copy the file\n",
    "shutil.copy(source_file, destination_path)"
   ]
  },
  {
   "cell_type": "markdown",
   "metadata": {
    "id": "gyz7KTPR-jgW"
   },
   "source": [
    "# Part 6 - Gradio"
   ]
  },
  {
   "cell_type": "code",
   "execution_count": 176,
   "metadata": {
    "colab": {
     "base_uri": "https://localhost:8080/"
    },
    "id": "YinVEAiEv5C_",
    "outputId": "6e36b73a-2bd4-445a-c62c-5015288adf37"
   },
   "outputs": [
    {
     "name": "stdout",
     "output_type": "stream",
     "text": [
      "Collecting gradio\n",
      "  Downloading gradio-5.9.0-py3-none-any.whl.metadata (16 kB)\n",
      "Collecting aiofiles<24.0,>=22.0 (from gradio)\n",
      "  Downloading aiofiles-23.2.1-py3-none-any.whl.metadata (9.7 kB)\n",
      "Requirement already satisfied: anyio<5.0,>=3.0 in /Users/swetha/Downloads/Project5502_1/.venv/lib/python3.13/site-packages (from gradio) (4.7.0)\n",
      "Collecting audioop-lts<1.0 (from gradio)\n",
      "  Downloading audioop_lts-0.2.1-cp313-abi3-macosx_11_0_arm64.whl.metadata (1.6 kB)\n",
      "Collecting fastapi<1.0,>=0.115.2 (from gradio)\n",
      "  Downloading fastapi-0.115.6-py3-none-any.whl.metadata (27 kB)\n",
      "Collecting ffmpy (from gradio)\n",
      "  Downloading ffmpy-0.4.0-py3-none-any.whl.metadata (2.9 kB)\n",
      "Collecting gradio-client==1.5.2 (from gradio)\n",
      "  Downloading gradio_client-1.5.2-py3-none-any.whl.metadata (7.1 kB)\n",
      "Requirement already satisfied: httpx>=0.24.1 in /Users/swetha/Downloads/Project5502_1/.venv/lib/python3.13/site-packages (from gradio) (0.28.1)\n",
      "Collecting huggingface-hub>=0.25.1 (from gradio)\n",
      "  Downloading huggingface_hub-0.26.5-py3-none-any.whl.metadata (13 kB)\n",
      "Requirement already satisfied: jinja2<4.0 in /Users/swetha/Downloads/Project5502_1/.venv/lib/python3.13/site-packages (from gradio) (3.1.4)\n",
      "Collecting markupsafe~=2.0 (from gradio)\n",
      "  Downloading MarkupSafe-2.1.5.tar.gz (19 kB)\n",
      "  Installing build dependencies ... \u001b[?25ldone\n",
      "\u001b[?25h  Getting requirements to build wheel ... \u001b[?25ldone\n",
      "\u001b[?25h  Preparing metadata (pyproject.toml) ... \u001b[?25ldone\n",
      "\u001b[?25hRequirement already satisfied: numpy<3.0,>=1.0 in /Users/swetha/Downloads/Project5502_1/.venv/lib/python3.13/site-packages (from gradio) (2.2.0)\n",
      "Collecting orjson~=3.0 (from gradio)\n",
      "  Downloading orjson-3.10.12-cp313-cp313-macosx_10_15_x86_64.macosx_11_0_arm64.macosx_10_15_universal2.whl.metadata (41 kB)\n",
      "Requirement already satisfied: packaging in /Users/swetha/Downloads/Project5502_1/.venv/lib/python3.13/site-packages (from gradio) (24.2)\n",
      "Requirement already satisfied: pandas<3.0,>=1.0 in /Users/swetha/Downloads/Project5502_1/.venv/lib/python3.13/site-packages (from gradio) (2.2.3)\n",
      "Requirement already satisfied: pillow<12.0,>=8.0 in /Users/swetha/Downloads/Project5502_1/.venv/lib/python3.13/site-packages (from gradio) (11.0.0)\n",
      "Collecting pydantic>=2.0 (from gradio)\n",
      "  Downloading pydantic-2.10.3-py3-none-any.whl.metadata (172 kB)\n",
      "Collecting pydub (from gradio)\n",
      "  Downloading pydub-0.25.1-py2.py3-none-any.whl.metadata (1.4 kB)\n",
      "Collecting python-multipart>=0.0.18 (from gradio)\n",
      "  Downloading python_multipart-0.0.19-py3-none-any.whl.metadata (1.8 kB)\n",
      "Requirement already satisfied: pyyaml<7.0,>=5.0 in /Users/swetha/Downloads/Project5502_1/.venv/lib/python3.13/site-packages (from gradio) (6.0.2)\n",
      "Collecting ruff>=0.2.2 (from gradio)\n",
      "  Downloading ruff-0.8.3-py3-none-macosx_11_0_arm64.whl.metadata (25 kB)\n",
      "Collecting safehttpx<0.2.0,>=0.1.6 (from gradio)\n",
      "  Downloading safehttpx-0.1.6-py3-none-any.whl.metadata (4.2 kB)\n",
      "Collecting semantic-version~=2.0 (from gradio)\n",
      "  Downloading semantic_version-2.10.0-py2.py3-none-any.whl.metadata (9.7 kB)\n",
      "Collecting starlette<1.0,>=0.40.0 (from gradio)\n",
      "  Downloading starlette-0.41.3-py3-none-any.whl.metadata (6.0 kB)\n",
      "Collecting tomlkit<0.14.0,>=0.12.0 (from gradio)\n",
      "  Downloading tomlkit-0.13.2-py3-none-any.whl.metadata (2.7 kB)\n",
      "Collecting typer<1.0,>=0.12 (from gradio)\n",
      "  Downloading typer-0.15.1-py3-none-any.whl.metadata (15 kB)\n",
      "Requirement already satisfied: typing-extensions~=4.0 in /Users/swetha/Downloads/Project5502_1/.venv/lib/python3.13/site-packages (from gradio) (4.12.2)\n",
      "Collecting uvicorn>=0.14.0 (from gradio)\n",
      "  Downloading uvicorn-0.32.1-py3-none-any.whl.metadata (6.6 kB)\n",
      "Collecting fsspec (from gradio-client==1.5.2->gradio)\n",
      "  Downloading fsspec-2024.10.0-py3-none-any.whl.metadata (11 kB)\n",
      "Collecting websockets<15.0,>=10.0 (from gradio-client==1.5.2->gradio)\n",
      "  Downloading websockets-14.1-cp313-cp313-macosx_11_0_arm64.whl.metadata (6.7 kB)\n",
      "Requirement already satisfied: idna>=2.8 in /Users/swetha/Downloads/Project5502_1/.venv/lib/python3.13/site-packages (from anyio<5.0,>=3.0->gradio) (3.10)\n",
      "Requirement already satisfied: sniffio>=1.1 in /Users/swetha/Downloads/Project5502_1/.venv/lib/python3.13/site-packages (from anyio<5.0,>=3.0->gradio) (1.3.1)\n",
      "Requirement already satisfied: certifi in /Users/swetha/Downloads/Project5502_1/.venv/lib/python3.13/site-packages (from httpx>=0.24.1->gradio) (2024.8.30)\n",
      "Requirement already satisfied: httpcore==1.* in /Users/swetha/Downloads/Project5502_1/.venv/lib/python3.13/site-packages (from httpx>=0.24.1->gradio) (1.0.7)\n",
      "Requirement already satisfied: h11<0.15,>=0.13 in /Users/swetha/Downloads/Project5502_1/.venv/lib/python3.13/site-packages (from httpcore==1.*->httpx>=0.24.1->gradio) (0.14.0)\n",
      "Collecting filelock (from huggingface-hub>=0.25.1->gradio)\n",
      "  Downloading filelock-3.16.1-py3-none-any.whl.metadata (2.9 kB)\n",
      "Requirement already satisfied: requests in /Users/swetha/Downloads/Project5502_1/.venv/lib/python3.13/site-packages (from huggingface-hub>=0.25.1->gradio) (2.32.3)\n",
      "Collecting tqdm>=4.42.1 (from huggingface-hub>=0.25.1->gradio)\n",
      "  Downloading tqdm-4.67.1-py3-none-any.whl.metadata (57 kB)\n",
      "Requirement already satisfied: python-dateutil>=2.8.2 in /Users/swetha/Downloads/Project5502_1/.venv/lib/python3.13/site-packages (from pandas<3.0,>=1.0->gradio) (2.9.0.post0)\n",
      "Requirement already satisfied: pytz>=2020.1 in /Users/swetha/Downloads/Project5502_1/.venv/lib/python3.13/site-packages (from pandas<3.0,>=1.0->gradio) (2024.2)\n",
      "Requirement already satisfied: tzdata>=2022.7 in /Users/swetha/Downloads/Project5502_1/.venv/lib/python3.13/site-packages (from pandas<3.0,>=1.0->gradio) (2024.2)\n",
      "Collecting annotated-types>=0.6.0 (from pydantic>=2.0->gradio)\n",
      "  Downloading annotated_types-0.7.0-py3-none-any.whl.metadata (15 kB)\n",
      "Collecting pydantic-core==2.27.1 (from pydantic>=2.0->gradio)\n",
      "  Downloading pydantic_core-2.27.1-cp313-cp313-macosx_11_0_arm64.whl.metadata (6.6 kB)\n",
      "Collecting click>=8.0.0 (from typer<1.0,>=0.12->gradio)\n",
      "  Using cached click-8.1.7-py3-none-any.whl.metadata (3.0 kB)\n",
      "Collecting shellingham>=1.3.0 (from typer<1.0,>=0.12->gradio)\n",
      "  Downloading shellingham-1.5.4-py2.py3-none-any.whl.metadata (3.5 kB)\n",
      "Collecting rich>=10.11.0 (from typer<1.0,>=0.12->gradio)\n",
      "  Downloading rich-13.9.4-py3-none-any.whl.metadata (18 kB)\n",
      "Requirement already satisfied: six>=1.5 in /Users/swetha/Downloads/Project5502_1/.venv/lib/python3.13/site-packages (from python-dateutil>=2.8.2->pandas<3.0,>=1.0->gradio) (1.17.0)\n",
      "Collecting markdown-it-py>=2.2.0 (from rich>=10.11.0->typer<1.0,>=0.12->gradio)\n",
      "  Downloading markdown_it_py-3.0.0-py3-none-any.whl.metadata (6.9 kB)\n",
      "Requirement already satisfied: pygments<3.0.0,>=2.13.0 in /Users/swetha/Downloads/Project5502_1/.venv/lib/python3.13/site-packages (from rich>=10.11.0->typer<1.0,>=0.12->gradio) (2.18.0)\n",
      "Requirement already satisfied: charset-normalizer<4,>=2 in /Users/swetha/Downloads/Project5502_1/.venv/lib/python3.13/site-packages (from requests->huggingface-hub>=0.25.1->gradio) (3.4.0)\n",
      "Requirement already satisfied: urllib3<3,>=1.21.1 in /Users/swetha/Downloads/Project5502_1/.venv/lib/python3.13/site-packages (from requests->huggingface-hub>=0.25.1->gradio) (2.2.3)\n",
      "Collecting mdurl~=0.1 (from markdown-it-py>=2.2.0->rich>=10.11.0->typer<1.0,>=0.12->gradio)\n",
      "  Downloading mdurl-0.1.2-py3-none-any.whl.metadata (1.6 kB)\n",
      "Downloading gradio-5.9.0-py3-none-any.whl (57.2 MB)\n",
      "\u001b[2K   \u001b[90m━━━━━━━━━━━━━━━━━━━━━━━━━━━━━━━━━━━━━━━━\u001b[0m \u001b[32m57.2/57.2 MB\u001b[0m \u001b[31m27.4 MB/s\u001b[0m eta \u001b[36m0:00:00\u001b[0m00:01\u001b[0m00:01\u001b[0m\n",
      "\u001b[?25hDownloading gradio_client-1.5.2-py3-none-any.whl (320 kB)\n",
      "Downloading aiofiles-23.2.1-py3-none-any.whl (15 kB)\n",
      "Downloading audioop_lts-0.2.1-cp313-abi3-macosx_11_0_arm64.whl (26 kB)\n",
      "Downloading fastapi-0.115.6-py3-none-any.whl (94 kB)\n",
      "Downloading huggingface_hub-0.26.5-py3-none-any.whl (447 kB)\n",
      "Downloading orjson-3.10.12-cp313-cp313-macosx_10_15_x86_64.macosx_11_0_arm64.macosx_10_15_universal2.whl (248 kB)\n",
      "Downloading pydantic-2.10.3-py3-none-any.whl (456 kB)\n",
      "Downloading pydantic_core-2.27.1-cp313-cp313-macosx_11_0_arm64.whl (1.8 MB)\n",
      "\u001b[2K   \u001b[90m━━━━━━━━━━━━━━━━━━━━━━━━━━━━━━━━━━━━━━━━\u001b[0m \u001b[32m1.8/1.8 MB\u001b[0m \u001b[31m13.5 MB/s\u001b[0m eta \u001b[36m0:00:00\u001b[0m\n",
      "\u001b[?25hDownloading python_multipart-0.0.19-py3-none-any.whl (24 kB)\n",
      "Downloading ruff-0.8.3-py3-none-macosx_11_0_arm64.whl (9.9 MB)\n",
      "\u001b[2K   \u001b[90m━━━━━━━━━━━━━━━━━━━━━━━━━━━━━━━━━━━━━━━━\u001b[0m \u001b[32m9.9/9.9 MB\u001b[0m \u001b[31m29.2 MB/s\u001b[0m eta \u001b[36m0:00:00\u001b[0ma \u001b[36m0:00:01\u001b[0m\n",
      "\u001b[?25hDownloading safehttpx-0.1.6-py3-none-any.whl (8.7 kB)\n",
      "Downloading semantic_version-2.10.0-py2.py3-none-any.whl (15 kB)\n",
      "Downloading starlette-0.41.3-py3-none-any.whl (73 kB)\n",
      "Downloading tomlkit-0.13.2-py3-none-any.whl (37 kB)\n",
      "Downloading typer-0.15.1-py3-none-any.whl (44 kB)\n",
      "Downloading uvicorn-0.32.1-py3-none-any.whl (63 kB)\n",
      "Downloading ffmpy-0.4.0-py3-none-any.whl (5.8 kB)\n",
      "Downloading pydub-0.25.1-py2.py3-none-any.whl (32 kB)\n",
      "Downloading annotated_types-0.7.0-py3-none-any.whl (13 kB)\n",
      "Using cached click-8.1.7-py3-none-any.whl (97 kB)\n",
      "Downloading fsspec-2024.10.0-py3-none-any.whl (179 kB)\n",
      "Downloading rich-13.9.4-py3-none-any.whl (242 kB)\n",
      "Downloading shellingham-1.5.4-py2.py3-none-any.whl (9.8 kB)\n",
      "Downloading tqdm-4.67.1-py3-none-any.whl (78 kB)\n",
      "Downloading websockets-14.1-cp313-cp313-macosx_11_0_arm64.whl (159 kB)\n",
      "Downloading filelock-3.16.1-py3-none-any.whl (16 kB)\n",
      "Downloading markdown_it_py-3.0.0-py3-none-any.whl (87 kB)\n",
      "Downloading mdurl-0.1.2-py3-none-any.whl (10.0 kB)\n",
      "Building wheels for collected packages: markupsafe\n",
      "  Building wheel for markupsafe (pyproject.toml) ... \u001b[?25ldone\n",
      "\u001b[?25h  Created wheel for markupsafe: filename=MarkupSafe-2.1.5-cp313-cp313-macosx_10_13_universal2.whl size=17800 sha256=3a5385ba87b3a5e848912e184cf4c27c6f1b139e28a0fc9da53731133181ff8a\n",
      "  Stored in directory: /Users/swetha/Library/Caches/pip/wheels/c2/0c/c0/d6d953ac80cacc2dd1d329d675c67d1e7775bad02a8faedef0\n",
      "Successfully built markupsafe\n",
      "Installing collected packages: pydub, websockets, tqdm, tomlkit, shellingham, semantic-version, ruff, python-multipart, pydantic-core, orjson, mdurl, markupsafe, fsspec, filelock, ffmpy, click, audioop-lts, annotated-types, aiofiles, uvicorn, starlette, pydantic, markdown-it-py, huggingface-hub, safehttpx, rich, gradio-client, fastapi, typer, gradio\n",
      "  Attempting uninstall: markupsafe\n",
      "    Found existing installation: MarkupSafe 3.0.2\n",
      "    Uninstalling MarkupSafe-3.0.2:\n",
      "      Successfully uninstalled MarkupSafe-3.0.2\n",
      "Successfully installed aiofiles-23.2.1 annotated-types-0.7.0 audioop-lts-0.2.1 click-8.1.7 fastapi-0.115.6 ffmpy-0.4.0 filelock-3.16.1 fsspec-2024.10.0 gradio-5.9.0 gradio-client-1.5.2 huggingface-hub-0.26.5 markdown-it-py-3.0.0 markupsafe-2.1.5 mdurl-0.1.2 orjson-3.10.12 pydantic-2.10.3 pydantic-core-2.27.1 pydub-0.25.1 python-multipart-0.0.19 rich-13.9.4 ruff-0.8.3 safehttpx-0.1.6 semantic-version-2.10.0 shellingham-1.5.4 starlette-0.41.3 tomlkit-0.13.2 tqdm-4.67.1 typer-0.15.1 uvicorn-0.32.1 websockets-14.1\n"
     ]
    }
   ],
   "source": [
    "!pip install gradio"
   ]
  },
  {
   "cell_type": "code",
   "execution_count": 177,
   "metadata": {
    "colab": {
     "base_uri": "https://localhost:8080/",
     "height": 36
    },
    "id": "SxYS1x8jDIMH",
    "outputId": "fc74ce82-a37c-4f34-e16c-4bf372a1844e"
   },
   "outputs": [
    {
     "data": {
      "text/plain": [
       "'model.pkl'"
      ]
     },
     "execution_count": 177,
     "metadata": {},
     "output_type": "execute_result"
    }
   ],
   "source": [
    "import shutil\n",
    "\n",
    "# Source file path (within your Drive)\n",
    "source_file = '/Users/swetha/Downloads/Project5502_1/notebooks/development/pickles/model.pkl'\n",
    "\n",
    "# Destination path (root of your Drive)\n",
    "destination_path = 'model.pkl'\n",
    "\n",
    "# Copy the file\n",
    "shutil.copy(source_file, destination_path)"
   ]
  },
  {
   "cell_type": "code",
   "execution_count": 179,
   "metadata": {
    "id": "ZTq5A-SP_Qqu"
   },
   "outputs": [],
   "source": [
    "import pickle\n",
    "\n",
    "with open('development/pickles/model.pkl', 'rb') as file:\n",
    "    model = pickle.load(file)"
   ]
  },
  {
   "cell_type": "code",
   "execution_count": 184,
   "metadata": {},
   "outputs": [
    {
     "name": "stdout",
     "output_type": "stream",
     "text": [
      "{'Misses Out': np.float64(0.39), 'Subscribes': np.float64(0.61)}\n"
     ]
    }
   ],
   "source": [
    "import pandas as pd\n",
    "from sklearn.ensemble import RandomForestClassifier\n",
    "from sklearn.model_selection import train_test_split\n",
    "\n",
    "# Sample data (replace this with your actual dataset)\n",
    "X = pd.DataFrame({\n",
    "    \"watch_time\": [1.2, 2.3, -1.0, -0.5, 0.3],\n",
    "    \"avg_view_duration\": [0.5, 0.6, 0.4, 0.3, 0.7],\n",
    "    \"click_through_rate\": [0.2, 0.3, 0.5, 0.1, 0.4],\n",
    "    \"interest\": [1, 0, 1, 0, 1]\n",
    "})\n",
    "y = [1, 0, 1, 0, 1]  # Binary target\n",
    "\n",
    "# Split data into train and test sets\n",
    "X_train, X_test, y_train, y_test = train_test_split(X, y, test_size=0.3, random_state=42)\n",
    "\n",
    "# Train a Random Forest model (this part should be done beforehand)\n",
    "model = RandomForestClassifier(random_state=42, n_estimators=100, max_depth=10)\n",
    "model.fit(X_train, y_train)\n",
    "\n",
    "# Prediction function\n",
    "def predict_subscribe(watch, duration, ctr, interest):\n",
    "    data = [{\"watch_time\": watch, \"avg_view_duration\": duration, \"click_through_rate\": ctr, \"interest\": interest}]\n",
    "    sample = pd.DataFrame(data)\n",
    "    \n",
    "    # Ensure the input sample columns are in the same order as the training data\n",
    "    sample = sample[X.columns]  # Ensure columns match exactly with the training data\n",
    "\n",
    "    # Get predicted probabilities\n",
    "    pred = model.predict_proba(sample)[0]\n",
    "    \n",
    "    return {'Misses Out': pred[0], 'Subscribes': pred[1]}\n",
    "\n",
    "# Test the function\n",
    "print(predict_subscribe(-8.1, 1.4, -0.7, 0))"
   ]
  },
  {
   "cell_type": "code",
   "execution_count": 186,
   "metadata": {},
   "outputs": [
    {
     "name": "stdout",
     "output_type": "stream",
     "text": [
      "* Running on local URL:  http://127.0.0.1:7863\n",
      "\n",
      "To create a public link, set `share=True` in `launch()`.\n"
     ]
    },
    {
     "data": {
      "text/html": [
       "<div><iframe src=\"http://127.0.0.1:7863/\" width=\"100%\" height=\"500\" allow=\"autoplay; camera; microphone; clipboard-read; clipboard-write;\" frameborder=\"0\" allowfullscreen></iframe></div>"
      ],
      "text/plain": [
       "<IPython.core.display.HTML object>"
      ]
     },
     "metadata": {},
     "output_type": "display_data"
    }
   ],
   "source": [
    "# def predict_subscribe(watch, duration, ctr, interest):\n",
    "import gradio as gr\n",
    "\n",
    "watch = gr.Slider(minimum=-9, maximum=12, label=\"Watch\")\n",
    "duration = gr.Slider(minimum=-4, maximum=4, label=\"Duration\")\n",
    "ctr = gr.Slider(minimum=-5, maximum=5, label=\"Click Through Rate\")\n",
    "interest = gr.Radio([0, 1], label=\"Interest\")\n",
    "\n",
    "gr.Interface(predict_subscribe, [watch, duration, ctr, interest], \"label\", live=False).launch();"
   ]
  }
 ],
 "metadata": {
  "colab": {
   "provenance": [],
   "toc_visible": true
  },
  "kernelspec": {
   "display_name": ".venv",
   "language": "python",
   "name": "python3"
  },
  "language_info": {
   "codemirror_mode": {
    "name": "ipython",
    "version": 3
   },
   "file_extension": ".py",
   "mimetype": "text/x-python",
   "name": "python",
   "nbconvert_exporter": "python",
   "pygments_lexer": "ipython3",
   "version": "3.13.1"
  }
 },
 "nbformat": 4,
 "nbformat_minor": 0
}
